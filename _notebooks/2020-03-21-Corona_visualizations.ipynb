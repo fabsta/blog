{
 "cells": [
  {
   "cell_type": "markdown",
   "metadata": {},
   "source": [
    "# \"Corona visualizations\"\n",
    "> \"Awesome summary\"\n",
    "- toc: true\n",
    "- branch: master\n",
    "- badges: true\n",
    "- comments: true\n",
    "- categories: [fastpages, jupyter]\n",
    "- image: images/some_folder/your_image.png\n",
    "- hide: false\n",
    "- search_exclude: true\n",
    "- metadata_key1: metadata_value1\n",
    "- metadata_key2: metadata_value2"
   ]
  },
  {
   "cell_type": "markdown",
   "metadata": {},
   "source": [
    "this notebook is heavily inspired by: https://covid19dashboards.com/covid-compare-permillion/"
   ]
  },
  {
   "cell_type": "code",
   "execution_count": 1,
   "metadata": {
    "ExecuteTime": {
     "end_time": "2020-03-21T19:24:05.767423Z",
     "start_time": "2020-03-21T19:24:04.865261Z"
    }
   },
   "outputs": [],
   "source": [
    "#hide\n",
    "import numpy as np\n",
    "import pandas as pd\n",
    "import matplotlib.pyplot as plt\n",
    "import altair as alt\n",
    "from jinja2 import Template\n",
    "from IPython.display import HTML\n",
    "%config InlineBackend.figure_format = 'retina'\n",
    "\n",
    "chart_width = 850\n",
    "chart_height= 400\n",
    "import covid_overview as covid\n",
    "# source: https://colab.research.google.com/github/github/covid19-dashboard/blob/master/_notebooks/2020-03-19-cases-and-deaths-per-million.ipynb"
   ]
  },
  {
   "cell_type": "code",
   "execution_count": 2,
   "metadata": {},
   "outputs": [],
   "source": [
    "#hide\n",
    "int_countries = [\"China\", \"Italy\", \"Spain\", \"France\", \"United Kingdom\", \"Germany\", \"United States\",\"South Korea\",'US']"
   ]
  },
  {
   "cell_type": "code",
   "execution_count": 3,
   "metadata": {
    "jupyter": {
     "source_hidden": true
    }
   },
   "outputs": [],
   "source": [
    "#hide\n",
    "def load_individual_timeseries(name):\n",
    "    base_url='https://raw.githubusercontent.com/CSSEGISandData/COVID-19/master/csse_covid_19_data/csse_covid_19_time_series'\n",
    "    url = f'{base_url}/time_series_19-covid-{name}.csv'\n",
    "    df = pd.read_csv(url, \n",
    "                     index_col=['Country/Region', 'Province/State', 'Lat', 'Long'])\n",
    "    df['type'] = name.lower()\n",
    "    df.columns.name = 'date'\n",
    "    \n",
    "    df = (df.set_index('type', append=True)\n",
    "            .reset_index(['Lat', 'Long'], drop=True)\n",
    "            .stack()\n",
    "            .reset_index()\n",
    "            .set_index('date')\n",
    "         )\n",
    "    df.index = pd.to_datetime(df.index)\n",
    "    df.columns = ['country', 'state', 'type', 'cases']\n",
    "    \n",
    "    # Move HK to country level\n",
    "    df.loc[df.state =='Hong Kong', 'country'] = 'Hong Kong'\n",
    "    df.loc[df.state =='Hong Kong', 'state'] = np.nan\n",
    "    \n",
    "    # Aggregate large countries split by states\n",
    "    df = pd.concat([df, \n",
    "                    (df.loc[~df.state.isna()]\n",
    "                     .groupby(['country', 'date', 'type'])\n",
    "                     .sum()\n",
    "                     .rename(index=lambda x: x+' (total)', level=0)\n",
    "                     .reset_index(level=['country', 'type']))\n",
    "                   ])\n",
    "    return df\n",
    "\n",
    "def load_data(drop_states=False, p_crit=.05, filter_n_days_100=None):\n",
    "    df = load_individual_timeseries('Confirmed')\n",
    "    df = df.rename(columns={'cases': 'confirmed'})\n",
    "    if drop_states:\n",
    "        # Drop states for simplicity\n",
    "        df = df.loc[df.state.isnull()]\n",
    "        \n",
    "    # Estimated critical cases\n",
    "    df = df.assign(critical_estimate=df.confirmed*p_crit)\n",
    "\n",
    "    # Compute days relative to when 100 confirmed cases was crossed\n",
    "    df.loc[:, 'days_since_100'] = np.nan\n",
    "    for country in df.country.unique():\n",
    "        if not df.loc[(df.country == country), 'state'].isnull().all():\n",
    "            for state in df.loc[(df.country == country), 'state'].unique():\n",
    "                df.loc[(df.country == country) & (df.state == state), 'days_since_100'] = \\\n",
    "                    np.arange(-len(df.loc[(df.country == country) & (df.state == state) & (df.confirmed < 100)]), \n",
    "                              len(df.loc[(df.country == country) & (df.state == state) & (df.confirmed >= 100)]))\n",
    "        else:\n",
    "            df.loc[(df.country == country), 'days_since_100'] = \\\n",
    "                np.arange(-len(df.loc[(df.country == country) & (df.confirmed < 100)]), \n",
    "                          len(df.loc[(df.country == country) & (df.confirmed >= 100)]))\n",
    "\n",
    "    # Add recovered cases\n",
    "    df_recovered = load_individual_timeseries('Recovered')\n",
    "    df_r = df_recovered.set_index(['country', 'state'], append=True)[['cases']]\n",
    "    df_r.columns = ['recovered']\n",
    "\n",
    "    # Add deaths\n",
    "    df_deaths = load_individual_timeseries('Deaths')\n",
    "    df_d = df_deaths.set_index(['country', 'state'], append=True)[['cases']]\n",
    "    df_d.columns = ['deaths']\n",
    "\n",
    "    df = (df.set_index(['country', 'state'], append=True)\n",
    "            .join(df_r)\n",
    "            .join(df_d)\n",
    "            .reset_index(['country', 'state'])\n",
    "    )\n",
    "    \n",
    "    if filter_n_days_100 is not None:\n",
    "        # Select countries for which we have at least some information\n",
    "        countries = pd.Series(df.loc[df.days_since_100 >= filter_n_days_100].country.unique())\n",
    "        df = df.loc[lambda x: x.country.isin(countries)]\n",
    "\n",
    "    return df"
   ]
  },
  {
   "cell_type": "code",
   "execution_count": 4,
   "metadata": {},
   "outputs": [
    {
     "name": "stdout",
     "output_type": "stream",
     "text": [
      "Last updated of dataset: 21 March, 2020\n"
     ]
    }
   ],
   "source": [
    "#hide_input\n",
    "\n",
    "corona_df = load_data(drop_states=True, filter_n_days_100=2)\n",
    "# We only have data for China after they already had a significant number of cases.\n",
    "# They also are not well modeled by the exponential, so we drop them here for simplicity.\n",
    "#corona_df = corona_df.loc[lambda x: x.country != 'China (total)']\n",
    "\n",
    "#countries = corona_df.country.unique()\n",
    "#n_countries = len(countries)\n",
    "corona_df = corona_df.loc[lambda x: (x.days_since_100 >= 0)]\n",
    "df = (corona_df\n",
    "             .reset_index()\n",
    "            #.query(\"country == 'Germany'\")\n",
    "             .drop(columns =['state','type','critical_estimate','days_since_100']))\n",
    "\n",
    "df_melted = pd.melt(df, id_vars=[\"date\",\"country\"], var_name=\"status\", value_name=\"value\")\n",
    "print(f\"Last updated of dataset: {max(corona_df.reset_index()['date']).strftime('%d %B, %Y')}\")"
   ]
  },
  {
   "cell_type": "code",
   "execution_count": 5,
   "metadata": {},
   "outputs": [],
   "source": [
    "#hide\n",
    "COL_REGION = 'Country/Region'\n",
    "europe_countries = covid.mapping['df'].pipe(lambda d: d[d['Continent'].eq('Europe')])['Name'].values\n",
    "filter_europe = lambda d: d[d['Country/Region'].isin(int_countries)]\n",
    "kpis_info = [\n",
    "    {'title': 'Germany', 'prefix': 'GE'},\n",
    "    {'title': 'Italy', 'prefix': 'IT'},\n",
    "    {'title': 'Spain', 'prefix': 'SP'}]\n",
    "data = covid.gen_data(region=COL_REGION, filter_frame=filter_europe, kpis_info=kpis_info)"
   ]
  },
  {
   "cell_type": "markdown",
   "metadata": {},
   "source": [
    "## Overview\n",
    "modified from: https://covid19dashboards.com/covid-overview/"
   ]
  },
  {
   "cell_type": "code",
   "execution_count": 6,
   "metadata": {},
   "outputs": [
    {
     "data": {
      "text/html": [
       "<div>\n",
       "\n",
       "\n",
       "\n",
       "\n",
       "\n",
       "\n",
       "\n",
       "\n",
       "\n",
       "\n",
       "\n",
       "\n",
       "\n",
       "\n",
       "\n",
       "\n",
       "\n",
       "\n",
       "\n",
       "\n",
       "\n",
       "\n",
       "<div class=\"overview\">\n",
       "  <div class=\"text-center toplinksgithub\">\n",
       "  <a href=\"../covid-overview/\">World</a><a href=\"../covid-overview-us/\">US</a><a href=\"../covid-overview-europe/\">Europe</a>\n",
       "</div>\n",
       "  <div>\n",
       "    <div class=\"kpi-hed\">Latest Covid-19 numbers</div>\n",
       "    <div class=\"d-flex kpi-box\">\n",
       "      <div class=\"kpi\">\n",
       "    <div class=\"kname\">Confirmed Cases</div>\n",
       "    <div class=\"num\">236,256</div>\n",
       "    <div class=\"grow \">(<b>+88,942</b>)</div>\n",
       "  </div>\n",
       "      <div class=\"kpi\">\n",
       "    <div class=\"kname\">Deaths</div>\n",
       "    <div class=\"num\">10,748</div>\n",
       "    <div class=\"grow \">(<b>+4,650</b>)</div>\n",
       "  </div>\n",
       "      <div class=\"kpi\">\n",
       "    <div class=\"kname\">Recovered</div>\n",
       "    <div class=\"num\">81,906</div>\n",
       "    <div class=\"grow pos\">(<b>+9,480</b>)</div>\n",
       "  </div>\n",
       "    </div>\n",
       "  </div>\n",
       "  <p class=\"text-center text-uppercase fs9\">Updated on <b>March 21, 2020</b> ( +change since 5 days ago.)</p>\n",
       "  <div class=\"d-flex\" style=\"justify-content:space-between;\">\n",
       "    \n",
       "    <div class=\"kpi-sm\">\n",
       "    <div class=\"kpi-hed\">Germany</div>\n",
       "    <div class=\"d-flex kpi-box\">\n",
       "      <div class=\"kpi\">\n",
       "    <div class=\"kname\">Cases</div>\n",
       "    <div class=\"num\">22,213</div>\n",
       "    <div class=\"grow \">(<b>+14,941</b>)</div>\n",
       "  </div>\n",
       "      <div class=\"kpi\">\n",
       "    <div class=\"kname\">Deaths</div>\n",
       "    <div class=\"num\">84</div>\n",
       "    <div class=\"grow \">(<b>+67</b>)</div>\n",
       "  </div>\n",
       "    </div>\n",
       "  </div>\n",
       "    \n",
       "    <div class=\"kpi-sm\">\n",
       "    <div class=\"kpi-hed\">Italy</div>\n",
       "    <div class=\"d-flex kpi-box\">\n",
       "      <div class=\"kpi\">\n",
       "    <div class=\"kname\">Cases</div>\n",
       "    <div class=\"num\">53,578</div>\n",
       "    <div class=\"grow \">(<b>+25,598</b>)</div>\n",
       "  </div>\n",
       "      <div class=\"kpi\">\n",
       "    <div class=\"kname\">Deaths</div>\n",
       "    <div class=\"num\">4,825</div>\n",
       "    <div class=\"grow \">(<b>+2,667</b>)</div>\n",
       "  </div>\n",
       "    </div>\n",
       "  </div>\n",
       "    \n",
       "    <div class=\"kpi-sm\">\n",
       "    <div class=\"kpi-hed\">Spain</div>\n",
       "    <div class=\"d-flex kpi-box\">\n",
       "      <div class=\"kpi\">\n",
       "    <div class=\"kname\">Cases</div>\n",
       "    <div class=\"num\">25,374</div>\n",
       "    <div class=\"grow \">(<b>+15,432</b>)</div>\n",
       "  </div>\n",
       "      <div class=\"kpi\">\n",
       "    <div class=\"kname\">Deaths</div>\n",
       "    <div class=\"num\">1,375</div>\n",
       "    <div class=\"grow \">(<b>+1,033</b>)</div>\n",
       "  </div>\n",
       "    </div>\n",
       "  </div>\n",
       "    \n",
       "  </div>\n",
       "  <p class=\"text-center\" style=\"font-size: 14px;max-width: 400px;\">\n",
       "  ''\n",
       "</p>\n",
       "  <table class=\"table\" style=\"width:575px;\">\n",
       "    <thead>\n",
       "      <tr>\n",
       "        <th class=\"text-right\" style=\"width:120px;\"></th>\n",
       "        <th class=\"text-left\" style=\"width:140px;\"><svg width=\"100\" height=\"20\" viewBox=\"0,0,100,20\" style=\"overflow: visible; display: block;\">\n",
       "  <g>\n",
       "    \n",
       "    <rect x=\"0\"  y=\"8\" width=\"25\" height=\"10\" fill=\"rgba(255, 152, 0, 0.1)\"></rect>\n",
       "    \n",
       "    <rect x=\"25\"  y=\"8\" width=\"25\" height=\"10\" fill=\"rgba(255, 152, 0, 0.4)\"></rect>\n",
       "    \n",
       "    <rect x=\"50\"  y=\"8\" width=\"25\" height=\"10\" fill=\"rgba(255, 152, 0, 0.7)\"></rect>\n",
       "    \n",
       "    <rect x=\"75\"  y=\"8\" width=\"25\" height=\"10\" fill=\"rgba(255, 152, 0, 1)\"></rect>\n",
       "    \n",
       "  </g>\n",
       "  <g style=\"font-size:10px;text-anchor:middle;\">\n",
       "    \n",
       "    <g transform=\"translate(25, 6)\"><text>5</text></g>\n",
       "    \n",
       "    <g transform=\"translate(50, 6)\"><text>50</text></g>\n",
       "    \n",
       "    <g transform=\"translate(75, 6)\"><text>500</text></g>\n",
       "    \n",
       "    </g>\n",
       "</svg></th>\n",
       "        <th colspan=\"7\"></th>\n",
       "      </tr>\n",
       "      <tr>\n",
       "        <th class=\"text-right\" style=\"width:120px;\">Country</th>\n",
       "        <th class=\"text-left\" style=\"width:140px;\">New Cases</th>\n",
       "        <th class=\"text-left\" colspan=\"2\">Total Cases</th>\n",
       "        <th colspan=\"2\">Deaths</th>\n",
       "        <th class=\"fs9\" >Fatality</th>\n",
       "        <th class=\"fs9\" colspan=\"2\">Recovered</th>\n",
       "      </tr>\n",
       "    </thead>\n",
       "    <tbody>\n",
       "      <tr style=\"font-size:9px;\">\n",
       "        <td></td>\n",
       "        <td style=\"display:flex;justify-content:space-between;\">\n",
       "          <div>Mar. 11</div>\n",
       "          <div>Mar. 21</div>\n",
       "        </td>\n",
       "        <td></td>\n",
       "        <td colspan=\"4\" class=\"text-left change\" style=\"font-size: 9px;\">(+NEW) since Mar, 16</td>\n",
       "        <td></td>\n",
       "        <td></td>\n",
       "      </tr>\n",
       "    \n",
       "      <tr>\n",
       "        <td class=\"mw\"><b>China</b></td>\n",
       "        <td style=\"vertical-align: middle;\"><div class=\"d-flex\" style=\"height:15px;\">\n",
       "    \n",
       "    \n",
       "    <div style=\"width:11px;background:rgba(255, 152, 0, 0.4);border-right:1px solid rgba(255,255,255,0.5);\"></div>\n",
       "    \n",
       "    <div style=\"width:11px;background:rgba(255, 152, 0, 0.4);border-right:1px solid rgba(255,255,255,0.5);\"></div>\n",
       "    \n",
       "    <div style=\"width:11px;background:rgba(255, 152, 0, 0.4);border-right:1px solid rgba(255,255,255,0.5);\"></div>\n",
       "    \n",
       "    <div style=\"width:11px;background:rgba(255, 152, 0, 0.4);border-right:1px solid rgba(255,255,255,0.5);\"></div>\n",
       "    \n",
       "    <div style=\"width:11px;background:rgba(255, 152, 0, 0.4);border-right:1px solid rgba(255,255,255,0.5);\"></div>\n",
       "    \n",
       "    <div style=\"width:11px;background:rgba(255, 152, 0, 0.4);border-right:1px solid rgba(255,255,255,0.5);\"></div>\n",
       "    \n",
       "    <div style=\"width:11px;background:rgba(255, 152, 0, 0.4);border-right:1px solid rgba(255,255,255,0.5);\"></div>\n",
       "    \n",
       "    <div style=\"width:11px;background:rgba(255, 152, 0, 0.4);border-right:1px solid rgba(255,255,255,0.5);\"></div>\n",
       "    \n",
       "    <div style=\"width:11px;background:rgba(255, 152, 0, 0.7);border-right:1px solid rgba(255,255,255,0.5);\"></div>\n",
       "    \n",
       "    <div style=\"width:11px;background:rgba(255, 152, 0, 0.7);border-right:1px solid rgba(255,255,255,0.5);\"></div>\n",
       "    \n",
       "    <div style=\"width:11px;background:rgba(255, 152, 0, 0.7);border-right:1px solid rgba(255,255,255,0.5);\"></div>\n",
       "    \n",
       "  </div></td>\n",
       "        <td class=\"pl1\"><b>81,305</b></td>\n",
       "        <td class=\"change neg\">(<b>+272</b>)</td>\n",
       "        <td class=\"pl1\">3,259</td>\n",
       "        <td class=\"change neg\">(<b>+42</b>)</td>\n",
       "        <td class=\"pl1\">4.0%</td>\n",
       "        <td>71,857</td>\n",
       "        <td class=\"change pos\">(<b>+3,947</b>)</td>\n",
       "      </tr>\n",
       "    \n",
       "      <tr>\n",
       "        <td class=\"mw\"><b>Italy</b></td>\n",
       "        <td style=\"vertical-align: middle;\"><div class=\"d-flex\" style=\"height:15px;\">\n",
       "    \n",
       "    \n",
       "    <div style=\"width:11px;background:rgba(255, 152, 0, 1);border-right:1px solid rgba(255,255,255,0.5);\"></div>\n",
       "    \n",
       "    <div style=\"width:11px;background:#eee;border-right:1px solid rgba(255,255,255,0.5);\"></div>\n",
       "    \n",
       "    <div style=\"width:11px;background:rgba(255, 152, 0, 1);border-right:1px solid rgba(255,255,255,0.5);\"></div>\n",
       "    \n",
       "    <div style=\"width:11px;background:rgba(255, 152, 0, 1);border-right:1px solid rgba(255,255,255,0.5);\"></div>\n",
       "    \n",
       "    <div style=\"width:11px;background:rgba(255, 152, 0, 1);border-right:1px solid rgba(255,255,255,0.5);\"></div>\n",
       "    \n",
       "    <div style=\"width:11px;background:rgba(255, 152, 0, 1);border-right:1px solid rgba(255,255,255,0.5);\"></div>\n",
       "    \n",
       "    <div style=\"width:11px;background:rgba(255, 152, 0, 1);border-right:1px solid rgba(255,255,255,0.5);\"></div>\n",
       "    \n",
       "    <div style=\"width:11px;background:rgba(255, 152, 0, 1);border-right:1px solid rgba(255,255,255,0.5);\"></div>\n",
       "    \n",
       "    <div style=\"width:11px;background:rgba(255, 152, 0, 1);border-right:1px solid rgba(255,255,255,0.5);\"></div>\n",
       "    \n",
       "    <div style=\"width:11px;background:rgba(255, 152, 0, 1);border-right:1px solid rgba(255,255,255,0.5);\"></div>\n",
       "    \n",
       "    <div style=\"width:11px;background:rgba(255, 152, 0, 1);border-right:1px solid rgba(255,255,255,0.5);\"></div>\n",
       "    \n",
       "  </div></td>\n",
       "        <td class=\"pl1\"><b>53,578</b></td>\n",
       "        <td class=\"change neg\">(<b>+25,598</b>)</td>\n",
       "        <td class=\"pl1\">4,825</td>\n",
       "        <td class=\"change neg\">(<b>+2,667</b>)</td>\n",
       "        <td class=\"pl1\">9.0%</td>\n",
       "        <td>6,072</td>\n",
       "        <td class=\"change pos\">(<b>+3,323</b>)</td>\n",
       "      </tr>\n",
       "    \n",
       "      <tr>\n",
       "        <td class=\"mw\"><b>US</b></td>\n",
       "        <td style=\"vertical-align: middle;\"><div class=\"d-flex\" style=\"height:15px;\">\n",
       "    \n",
       "    \n",
       "    <div style=\"width:11px;background:rgba(255, 152, 0, 0.7);border-right:1px solid rgba(255,255,255,0.5);\"></div>\n",
       "    \n",
       "    <div style=\"width:11px;background:rgba(255, 152, 0, 0.7);border-right:1px solid rgba(255,255,255,0.5);\"></div>\n",
       "    \n",
       "    <div style=\"width:11px;background:rgba(255, 152, 0, 1);border-right:1px solid rgba(255,255,255,0.5);\"></div>\n",
       "    \n",
       "    <div style=\"width:11px;background:rgba(255, 152, 0, 1);border-right:1px solid rgba(255,255,255,0.5);\"></div>\n",
       "    \n",
       "    <div style=\"width:11px;background:rgba(255, 152, 0, 1);border-right:1px solid rgba(255,255,255,0.5);\"></div>\n",
       "    \n",
       "    <div style=\"width:11px;background:rgba(255, 152, 0, 1);border-right:1px solid rgba(255,255,255,0.5);\"></div>\n",
       "    \n",
       "    <div style=\"width:11px;background:rgba(255, 152, 0, 1);border-right:1px solid rgba(255,255,255,0.5);\"></div>\n",
       "    \n",
       "    <div style=\"width:11px;background:rgba(255, 152, 0, 1);border-right:1px solid rgba(255,255,255,0.5);\"></div>\n",
       "    \n",
       "    <div style=\"width:11px;background:rgba(255, 152, 0, 1);border-right:1px solid rgba(255,255,255,0.5);\"></div>\n",
       "    \n",
       "    <div style=\"width:11px;background:rgba(255, 152, 0, 1);border-right:1px solid rgba(255,255,255,0.5);\"></div>\n",
       "    \n",
       "    <div style=\"width:11px;background:rgba(255, 152, 0, 1);border-right:1px solid rgba(255,255,255,0.5);\"></div>\n",
       "    \n",
       "  </div></td>\n",
       "        <td class=\"pl1\"><b>25,489</b></td>\n",
       "        <td class=\"change neg\">(<b>+20,857</b>)</td>\n",
       "        <td class=\"pl1\">307</td>\n",
       "        <td class=\"change neg\">(<b>+222</b>)</td>\n",
       "        <td class=\"pl1\">1.2%</td>\n",
       "        <td>0</td>\n",
       "        <td class=\"change pos\">(<b>+0</b>)</td>\n",
       "      </tr>\n",
       "    \n",
       "      <tr>\n",
       "        <td class=\"mw\"><b>Spain</b></td>\n",
       "        <td style=\"vertical-align: middle;\"><div class=\"d-flex\" style=\"height:15px;\">\n",
       "    \n",
       "    \n",
       "    <div style=\"width:11px;background:rgba(255, 152, 0, 1);border-right:1px solid rgba(255,255,255,0.5);\"></div>\n",
       "    \n",
       "    <div style=\"width:11px;background:#eee;border-right:1px solid rgba(255,255,255,0.5);\"></div>\n",
       "    \n",
       "    <div style=\"width:11px;background:rgba(255, 152, 0, 1);border-right:1px solid rgba(255,255,255,0.5);\"></div>\n",
       "    \n",
       "    <div style=\"width:11px;background:rgba(255, 152, 0, 1);border-right:1px solid rgba(255,255,255,0.5);\"></div>\n",
       "    \n",
       "    <div style=\"width:11px;background:rgba(255, 152, 0, 1);border-right:1px solid rgba(255,255,255,0.5);\"></div>\n",
       "    \n",
       "    <div style=\"width:11px;background:rgba(255, 152, 0, 1);border-right:1px solid rgba(255,255,255,0.5);\"></div>\n",
       "    \n",
       "    <div style=\"width:11px;background:rgba(255, 152, 0, 1);border-right:1px solid rgba(255,255,255,0.5);\"></div>\n",
       "    \n",
       "    <div style=\"width:11px;background:rgba(255, 152, 0, 1);border-right:1px solid rgba(255,255,255,0.5);\"></div>\n",
       "    \n",
       "    <div style=\"width:11px;background:rgba(255, 152, 0, 1);border-right:1px solid rgba(255,255,255,0.5);\"></div>\n",
       "    \n",
       "    <div style=\"width:11px;background:rgba(255, 152, 0, 1);border-right:1px solid rgba(255,255,255,0.5);\"></div>\n",
       "    \n",
       "    <div style=\"width:11px;background:rgba(255, 152, 0, 1);border-right:1px solid rgba(255,255,255,0.5);\"></div>\n",
       "    \n",
       "  </div></td>\n",
       "        <td class=\"pl1\"><b>25,374</b></td>\n",
       "        <td class=\"change neg\">(<b>+15,432</b>)</td>\n",
       "        <td class=\"pl1\">1,375</td>\n",
       "        <td class=\"change neg\">(<b>+1,033</b>)</td>\n",
       "        <td class=\"pl1\">5.4%</td>\n",
       "        <td>2,125</td>\n",
       "        <td class=\"change pos\">(<b>+1,595</b>)</td>\n",
       "      </tr>\n",
       "    \n",
       "      <tr>\n",
       "        <td class=\"mw\"><b>Germany</b></td>\n",
       "        <td style=\"vertical-align: middle;\"><div class=\"d-flex\" style=\"height:15px;\">\n",
       "    \n",
       "    \n",
       "    <div style=\"width:11px;background:rgba(255, 152, 0, 0.7);border-right:1px solid rgba(255,255,255,0.5);\"></div>\n",
       "    \n",
       "    <div style=\"width:11px;background:rgba(255, 152, 0, 0.7);border-right:1px solid rgba(255,255,255,0.5);\"></div>\n",
       "    \n",
       "    <div style=\"width:11px;background:rgba(255, 152, 0, 1);border-right:1px solid rgba(255,255,255,0.5);\"></div>\n",
       "    \n",
       "    <div style=\"width:11px;background:rgba(255, 152, 0, 1);border-right:1px solid rgba(255,255,255,0.5);\"></div>\n",
       "    \n",
       "    <div style=\"width:11px;background:rgba(255, 152, 0, 1);border-right:1px solid rgba(255,255,255,0.5);\"></div>\n",
       "    \n",
       "    <div style=\"width:11px;background:rgba(255, 152, 0, 1);border-right:1px solid rgba(255,255,255,0.5);\"></div>\n",
       "    \n",
       "    <div style=\"width:11px;background:rgba(255, 152, 0, 1);border-right:1px solid rgba(255,255,255,0.5);\"></div>\n",
       "    \n",
       "    <div style=\"width:11px;background:rgba(255, 152, 0, 1);border-right:1px solid rgba(255,255,255,0.5);\"></div>\n",
       "    \n",
       "    <div style=\"width:11px;background:rgba(255, 152, 0, 1);border-right:1px solid rgba(255,255,255,0.5);\"></div>\n",
       "    \n",
       "    <div style=\"width:11px;background:rgba(255, 152, 0, 1);border-right:1px solid rgba(255,255,255,0.5);\"></div>\n",
       "    \n",
       "    <div style=\"width:11px;background:rgba(255, 152, 0, 1);border-right:1px solid rgba(255,255,255,0.5);\"></div>\n",
       "    \n",
       "  </div></td>\n",
       "        <td class=\"pl1\"><b>22,213</b></td>\n",
       "        <td class=\"change neg\">(<b>+14,941</b>)</td>\n",
       "        <td class=\"pl1\">84</td>\n",
       "        <td class=\"change neg\">(<b>+67</b>)</td>\n",
       "        <td class=\"pl1\">0.4%</td>\n",
       "        <td>233</td>\n",
       "        <td class=\"change pos\">(<b>+166</b>)</td>\n",
       "      </tr>\n",
       "    \n",
       "      <tr>\n",
       "        <td class=\"mw\"><b>France</b></td>\n",
       "        <td style=\"vertical-align: middle;\"><div class=\"d-flex\" style=\"height:15px;\">\n",
       "    \n",
       "    \n",
       "    <div style=\"width:11px;background:rgba(255, 152, 0, 0.7);border-right:1px solid rgba(255,255,255,0.5);\"></div>\n",
       "    \n",
       "    <div style=\"width:11px;background:#eee;border-right:1px solid rgba(255,255,255,0.5);\"></div>\n",
       "    \n",
       "    <div style=\"width:11px;background:rgba(255, 152, 0, 1);border-right:1px solid rgba(255,255,255,0.5);\"></div>\n",
       "    \n",
       "    <div style=\"width:11px;background:rgba(255, 152, 0, 1);border-right:1px solid rgba(255,255,255,0.5);\"></div>\n",
       "    \n",
       "    <div style=\"width:11px;background:rgba(255, 152, 0, 0.4);border-right:1px solid rgba(255,255,255,0.5);\"></div>\n",
       "    \n",
       "    <div style=\"width:11px;background:rgba(255, 152, 0, 1);border-right:1px solid rgba(255,255,255,0.5);\"></div>\n",
       "    \n",
       "    <div style=\"width:11px;background:rgba(255, 152, 0, 1);border-right:1px solid rgba(255,255,255,0.5);\"></div>\n",
       "    \n",
       "    <div style=\"width:11px;background:rgba(255, 152, 0, 1);border-right:1px solid rgba(255,255,255,0.5);\"></div>\n",
       "    \n",
       "    <div style=\"width:11px;background:rgba(255, 152, 0, 1);border-right:1px solid rgba(255,255,255,0.5);\"></div>\n",
       "    \n",
       "    <div style=\"width:11px;background:rgba(255, 152, 0, 1);border-right:1px solid rgba(255,255,255,0.5);\"></div>\n",
       "    \n",
       "    <div style=\"width:11px;background:rgba(255, 152, 0, 1);border-right:1px solid rgba(255,255,255,0.5);\"></div>\n",
       "    \n",
       "  </div></td>\n",
       "        <td class=\"pl1\"><b>14,431</b></td>\n",
       "        <td class=\"change neg\">(<b>+7,763</b>)</td>\n",
       "        <td class=\"pl1\">562</td>\n",
       "        <td class=\"change neg\">(<b>+414</b>)</td>\n",
       "        <td class=\"pl1\">3.9%</td>\n",
       "        <td>12</td>\n",
       "        <td class=\"change pos\">(<b>+0</b>)</td>\n",
       "      </tr>\n",
       "    \n",
       "      <tr>\n",
       "        <td class=\"mw\"><b>South Korea</b></td>\n",
       "        <td style=\"vertical-align: middle;\"><div class=\"d-flex\" style=\"height:15px;\">\n",
       "    \n",
       "    \n",
       "    <div style=\"width:11px;background:rgba(255, 152, 0, 0.7);border-right:1px solid rgba(255,255,255,0.5);\"></div>\n",
       "    \n",
       "    <div style=\"width:11px;background:rgba(255, 152, 0, 0.7);border-right:1px solid rgba(255,255,255,0.5);\"></div>\n",
       "    \n",
       "    <div style=\"width:11px;background:rgba(255, 152, 0, 0.7);border-right:1px solid rgba(255,255,255,0.5);\"></div>\n",
       "    \n",
       "    <div style=\"width:11px;background:rgba(255, 152, 0, 0.7);border-right:1px solid rgba(255,255,255,0.5);\"></div>\n",
       "    \n",
       "    <div style=\"width:11px;background:rgba(255, 152, 0, 0.7);border-right:1px solid rgba(255,255,255,0.5);\"></div>\n",
       "    \n",
       "    <div style=\"width:11px;background:rgba(255, 152, 0, 0.7);border-right:1px solid rgba(255,255,255,0.5);\"></div>\n",
       "    \n",
       "    <div style=\"width:11px;background:rgba(255, 152, 0, 0.7);border-right:1px solid rgba(255,255,255,0.5);\"></div>\n",
       "    \n",
       "    <div style=\"width:11px;background:rgba(255, 152, 0, 0.7);border-right:1px solid rgba(255,255,255,0.5);\"></div>\n",
       "    \n",
       "    <div style=\"width:11px;background:rgba(255, 152, 0, 0.7);border-right:1px solid rgba(255,255,255,0.5);\"></div>\n",
       "    \n",
       "    <div style=\"width:11px;background:rgba(255, 152, 0, 0.7);border-right:1px solid rgba(255,255,255,0.5);\"></div>\n",
       "    \n",
       "    <div style=\"width:11px;background:rgba(255, 152, 0, 0.7);border-right:1px solid rgba(255,255,255,0.5);\"></div>\n",
       "    \n",
       "  </div></td>\n",
       "        <td class=\"pl1\"><b>8,799</b></td>\n",
       "        <td class=\"change neg\">(<b>+563</b>)</td>\n",
       "        <td class=\"pl1\">102</td>\n",
       "        <td class=\"change neg\">(<b>+27</b>)</td>\n",
       "        <td class=\"pl1\">1.2%</td>\n",
       "        <td>1,540</td>\n",
       "        <td class=\"change pos\">(<b>+403</b>)</td>\n",
       "      </tr>\n",
       "    \n",
       "      <tr>\n",
       "        <td class=\"mw\"><b>United Kingdom</b></td>\n",
       "        <td style=\"vertical-align: middle;\"><div class=\"d-flex\" style=\"height:15px;\">\n",
       "    \n",
       "    \n",
       "    <div style=\"width:11px;background:rgba(255, 152, 0, 0.7);border-right:1px solid rgba(255,255,255,0.5);\"></div>\n",
       "    \n",
       "    <div style=\"width:11px;background:#eee;border-right:1px solid rgba(255,255,255,0.5);\"></div>\n",
       "    \n",
       "    <div style=\"width:11px;background:rgba(255, 152, 0, 0.7);border-right:1px solid rgba(255,255,255,0.5);\"></div>\n",
       "    \n",
       "    <div style=\"width:11px;background:rgba(255, 152, 0, 0.7);border-right:1px solid rgba(255,255,255,0.5);\"></div>\n",
       "    \n",
       "    <div style=\"width:11px;background:rgba(255, 152, 0, 0.1);border-right:1px solid rgba(255,255,255,0.5);\"></div>\n",
       "    \n",
       "    <div style=\"width:11px;background:rgba(255, 152, 0, 0.7);border-right:1px solid rgba(255,255,255,0.5);\"></div>\n",
       "    \n",
       "    <div style=\"width:11px;background:rgba(255, 152, 0, 0.7);border-right:1px solid rgba(255,255,255,0.5);\"></div>\n",
       "    \n",
       "    <div style=\"width:11px;background:rgba(255, 152, 0, 1);border-right:1px solid rgba(255,255,255,0.5);\"></div>\n",
       "    \n",
       "    <div style=\"width:11px;background:rgba(255, 152, 0, 0.7);border-right:1px solid rgba(255,255,255,0.5);\"></div>\n",
       "    \n",
       "    <div style=\"width:11px;background:rgba(255, 152, 0, 1);border-right:1px solid rgba(255,255,255,0.5);\"></div>\n",
       "    \n",
       "    <div style=\"width:11px;background:rgba(255, 152, 0, 1);border-right:1px solid rgba(255,255,255,0.5);\"></div>\n",
       "    \n",
       "  </div></td>\n",
       "        <td class=\"pl1\"><b>5,067</b></td>\n",
       "        <td class=\"change neg\">(<b>+3,516</b>)</td>\n",
       "        <td class=\"pl1\">234</td>\n",
       "        <td class=\"change neg\">(<b>+178</b>)</td>\n",
       "        <td class=\"pl1\">4.6%</td>\n",
       "        <td>67</td>\n",
       "        <td class=\"change pos\">(<b>+46</b>)</td>\n",
       "      </tr>\n",
       "    \n",
       "    </tbody>\n",
       "  </table>\n",
       "</div>\n",
       "<style>\n",
       ".overview {\n",
       "  min-width: 500px;\n",
       "  font-size: 10px;\n",
       "  font-family: \"Segoe UI\", SegoeUI, Roboto, \"Segoe WP\", \"Helvetica Neue\", \"Helvetica\", \"Tahoma\", \"Arial\", sans-serif !important;\n",
       "}\n",
       ".overview .toplinksgithub a {\n",
       "  background: #d3d3d3;\n",
       "  font-size: 14px;\n",
       "  color: #1d87ae;\n",
       "  margin: 10px;\n",
       "  padding: 2px 10px;\n",
       "}\n",
       ".overview p {\n",
       "  margin: 6px auto !important;\n",
       "  padding: 0;\n",
       "}\n",
       "@media screen and (max-width: 660px) {\n",
       "  .overview p { max-width: none !important; }\n",
       "}\n",
       ".overview b {\n",
       "  font-weight: bolder;\n",
       "}\n",
       ".overview .kpi-hed {\n",
       "  font-weight: bold;\n",
       "  font-size: 20px;\n",
       "}\n",
       ".overview .kpi-box {\n",
       "  justify-content: space-around;\n",
       "  background: #ececec;\n",
       "  padding: 10px 0 !important;\n",
       "  margin: 5px 0 !important;\n",
       "  min-width: 180px;\n",
       "}\n",
       ".overview .kpi .num {\n",
       "  font-size: 40px;\n",
       "  line-height: 40px;\n",
       "  font-weight: bold;\n",
       "}\n",
       ".overview .kpi .grow {\n",
       "  line-height: 12px;\n",
       "  font-size: 12px;\n",
       "}\n",
       ".overview .table .change.pos , .overview .kpi .grow.pos {\n",
       "  color: #118822;\n",
       "}\n",
       ".overview .table .change.neg, .overview .kpi .grow, .color-neg {\n",
       "  color: #cc1100;\n",
       "}\n",
       ".overview p .color-neg {\n",
       "  background: #ececec;\n",
       "  padding: 0 5px;\n",
       "}\n",
       ".overview .kpi .kname {\n",
       "  font-size: 12px;\n",
       "}\n",
       ".overview .kpi-sm .kpi-hed {\n",
       "  font-size: 14px;\n",
       "  line-height: 10px;\n",
       "  padding-top: 10px !important;\n",
       "}\n",
       ".overview .kpi-sm .num {\n",
       "  font-size: 20px;\n",
       "  line-height: 20px;\n",
       "}\n",
       ".overview .kpi-sm .kname {\n",
       "  font-size: 11px;\n",
       "  line-height: 10px;\n",
       "}\n",
       ".overview .table {\n",
       "  border-collapse: collapse;\n",
       "  margin: auto !important;\n",
       "  text-align: right;\n",
       "  margin-top: 14px;\n",
       "  color: black;\n",
       "  font-size: 13px;\n",
       "  display: table !important;\n",
       "}\n",
       ".overview .table .change {\n",
       "  color: #999;\n",
       "  font-size: 80%;\n",
       "  text-align: start;\n",
       "  vertical-align: inherit;\n",
       "  font-weight: normal;\n",
       "  padding-left: 1px !important;\n",
       "}\n",
       ".overview .table th {\n",
       "  font-weight: normal;\n",
       "}\n",
       ".overview .table tbody tr {\n",
       "  border-bottom: 1px solid #eee;\n",
       "  background: none;\n",
       "}\n",
       ".overview .table td, .overview .table th {\n",
       "  padding: 1px 1px 1px 10px !important;\n",
       "  vertical-align: middle;\n",
       "  border: none;\n",
       "  background: none;\n",
       "}\n",
       ".overview .table th {\n",
       "  text-align: center;\n",
       "  text-transform: uppercase;\n",
       "}\n",
       ".overview .table thead {\n",
       "  border-bottom: 1px solid black;\n",
       "}\n",
       ".overview .fs9 {\n",
       "  font-size: 9px;\n",
       "}\n",
       ".overview .d-flex {\n",
       "  display: flex;\n",
       "}\n",
       ".overview .text-center { text-align: center !important; }\n",
       ".overview .text-left { text-align: left !important; }\n",
       ".overview .text-right { text-align: right !important; }\n",
       ".overview .text-uppercase { text-transform: uppercase !important; }\n",
       ".overview div {\n",
       "  margin: 0 !important;\n",
       "  padding: 0 !important;\n",
       "}\n",
       "</style></div>"
      ],
      "text/plain": [
       "<IPython.core.display.HTML object>"
      ]
     },
     "execution_count": 6,
     "metadata": {},
     "output_type": "execute_result"
    }
   ],
   "source": [
    "#hide_input\n",
    "template = Template(covid.get_template(covid.paths['overview']))\n",
    "dt_cols, LAST_DATE_I = data['dt_cols'], data['dt_last']\n",
    "html = template.render(\n",
    "    D=data['summary'], table=data['table'],\n",
    "    newcases=data['newcases'].loc[:, dt_cols[LAST_DATE_I - 10]:dt_cols[LAST_DATE_I]],\n",
    "    COL_REGION=COL_REGION,\n",
    "    KPI_CASE='Latest Covid-19 numbers',\n",
    "    KPIS_INFO=kpis_info,\n",
    "    LEGEND_DOMAIN=[5, 50, 500, np.inf],\n",
    "    np=np, pd=pd, enumerate=enumerate)\n",
    "HTML(f'<div>{html}</div>')"
   ]
  },
  {
   "cell_type": "markdown",
   "metadata": {},
   "source": [
    "## New cases"
   ]
  },
  {
   "cell_type": "code",
   "execution_count": 7,
   "metadata": {},
   "outputs": [
    {
     "data": {
      "application/vnd.vegalite.v3+json": {
       "$schema": "https://vega.github.io/schema/vega-lite/v3.4.0.json",
       "config": {
        "mark": {
         "tooltip": null
        },
        "view": {
         "height": 300,
         "width": 400
        }
       },
       "data": {
        "name": "data-16d2e2748a43cff6497935e15c450c82"
       },
       "datasets": {
        "data-16d2e2748a43cff6497935e15c450c82": [
         {
          "country": "China",
          "date": "1/22/20",
          "new_cases": 0
         },
         {
          "country": "France",
          "date": "1/22/20",
          "new_cases": 0
         },
         {
          "country": "Germany",
          "date": "1/22/20",
          "new_cases": 0
         },
         {
          "country": "Italy",
          "date": "1/22/20",
          "new_cases": 0
         },
         {
          "country": "South Korea",
          "date": "1/22/20",
          "new_cases": 0
         },
         {
          "country": "Spain",
          "date": "1/22/20",
          "new_cases": 0
         },
         {
          "country": "US",
          "date": "1/22/20",
          "new_cases": 0
         },
         {
          "country": "United Kingdom",
          "date": "1/22/20",
          "new_cases": 0
         },
         {
          "country": "China",
          "date": "1/23/20",
          "new_cases": 95
         },
         {
          "country": "France",
          "date": "1/23/20",
          "new_cases": 0
         },
         {
          "country": "Germany",
          "date": "1/23/20",
          "new_cases": 0
         },
         {
          "country": "Italy",
          "date": "1/23/20",
          "new_cases": 0
         },
         {
          "country": "South Korea",
          "date": "1/23/20",
          "new_cases": 0
         },
         {
          "country": "Spain",
          "date": "1/23/20",
          "new_cases": 0
         },
         {
          "country": "US",
          "date": "1/23/20",
          "new_cases": 0
         },
         {
          "country": "United Kingdom",
          "date": "1/23/20",
          "new_cases": 0
         },
         {
          "country": "China",
          "date": "1/24/20",
          "new_cases": 277
         },
         {
          "country": "France",
          "date": "1/24/20",
          "new_cases": 2
         },
         {
          "country": "Germany",
          "date": "1/24/20",
          "new_cases": 0
         },
         {
          "country": "Italy",
          "date": "1/24/20",
          "new_cases": 0
         },
         {
          "country": "South Korea",
          "date": "1/24/20",
          "new_cases": 1
         },
         {
          "country": "Spain",
          "date": "1/24/20",
          "new_cases": 0
         },
         {
          "country": "US",
          "date": "1/24/20",
          "new_cases": 1
         },
         {
          "country": "United Kingdom",
          "date": "1/24/20",
          "new_cases": 0
         },
         {
          "country": "China",
          "date": "1/25/20",
          "new_cases": 486
         },
         {
          "country": "France",
          "date": "1/25/20",
          "new_cases": 1
         },
         {
          "country": "Germany",
          "date": "1/25/20",
          "new_cases": 0
         },
         {
          "country": "Italy",
          "date": "1/25/20",
          "new_cases": 0
         },
         {
          "country": "South Korea",
          "date": "1/25/20",
          "new_cases": 0
         },
         {
          "country": "Spain",
          "date": "1/25/20",
          "new_cases": 0
         },
         {
          "country": "US",
          "date": "1/25/20",
          "new_cases": 0
         },
         {
          "country": "United Kingdom",
          "date": "1/25/20",
          "new_cases": 0
         },
         {
          "country": "China",
          "date": "1/26/20",
          "new_cases": 669
         },
         {
          "country": "France",
          "date": "1/26/20",
          "new_cases": 0
         },
         {
          "country": "Germany",
          "date": "1/26/20",
          "new_cases": 0
         },
         {
          "country": "Italy",
          "date": "1/26/20",
          "new_cases": 0
         },
         {
          "country": "South Korea",
          "date": "1/26/20",
          "new_cases": 1
         },
         {
          "country": "Spain",
          "date": "1/26/20",
          "new_cases": 0
         },
         {
          "country": "US",
          "date": "1/26/20",
          "new_cases": 3
         },
         {
          "country": "United Kingdom",
          "date": "1/26/20",
          "new_cases": 0
         },
         {
          "country": "China",
          "date": "1/27/20",
          "new_cases": 802
         },
         {
          "country": "France",
          "date": "1/27/20",
          "new_cases": 0
         },
         {
          "country": "Germany",
          "date": "1/27/20",
          "new_cases": 1
         },
         {
          "country": "Italy",
          "date": "1/27/20",
          "new_cases": 0
         },
         {
          "country": "South Korea",
          "date": "1/27/20",
          "new_cases": 1
         },
         {
          "country": "Spain",
          "date": "1/27/20",
          "new_cases": 0
         },
         {
          "country": "US",
          "date": "1/27/20",
          "new_cases": 0
         },
         {
          "country": "United Kingdom",
          "date": "1/27/20",
          "new_cases": 0
         },
         {
          "country": "China",
          "date": "1/28/20",
          "new_cases": 2632
         },
         {
          "country": "France",
          "date": "1/28/20",
          "new_cases": 1
         },
         {
          "country": "Germany",
          "date": "1/28/20",
          "new_cases": 3
         },
         {
          "country": "Italy",
          "date": "1/28/20",
          "new_cases": 0
         },
         {
          "country": "South Korea",
          "date": "1/28/20",
          "new_cases": 0
         },
         {
          "country": "Spain",
          "date": "1/28/20",
          "new_cases": 0
         },
         {
          "country": "US",
          "date": "1/28/20",
          "new_cases": 0
         },
         {
          "country": "United Kingdom",
          "date": "1/28/20",
          "new_cases": 0
         },
         {
          "country": "China",
          "date": "1/29/20",
          "new_cases": 578
         },
         {
          "country": "France",
          "date": "1/29/20",
          "new_cases": 1
         },
         {
          "country": "Germany",
          "date": "1/29/20",
          "new_cases": 0
         },
         {
          "country": "Italy",
          "date": "1/29/20",
          "new_cases": 0
         },
         {
          "country": "South Korea",
          "date": "1/29/20",
          "new_cases": 0
         },
         {
          "country": "Spain",
          "date": "1/29/20",
          "new_cases": 0
         },
         {
          "country": "US",
          "date": "1/29/20",
          "new_cases": 0
         },
         {
          "country": "United Kingdom",
          "date": "1/29/20",
          "new_cases": 0
         },
         {
          "country": "China",
          "date": "1/30/20",
          "new_cases": 2054
         },
         {
          "country": "France",
          "date": "1/30/20",
          "new_cases": 0
         },
         {
          "country": "Germany",
          "date": "1/30/20",
          "new_cases": 0
         },
         {
          "country": "Italy",
          "date": "1/30/20",
          "new_cases": 0
         },
         {
          "country": "South Korea",
          "date": "1/30/20",
          "new_cases": 0
         },
         {
          "country": "Spain",
          "date": "1/30/20",
          "new_cases": 0
         },
         {
          "country": "US",
          "date": "1/30/20",
          "new_cases": 0
         },
         {
          "country": "United Kingdom",
          "date": "1/30/20",
          "new_cases": 0
         },
         {
          "country": "China",
          "date": "1/31/20",
          "new_cases": 1661
         },
         {
          "country": "France",
          "date": "1/31/20",
          "new_cases": 0
         },
         {
          "country": "Germany",
          "date": "1/31/20",
          "new_cases": 1
         },
         {
          "country": "Italy",
          "date": "1/31/20",
          "new_cases": 2
         },
         {
          "country": "South Korea",
          "date": "1/31/20",
          "new_cases": 7
         },
         {
          "country": "Spain",
          "date": "1/31/20",
          "new_cases": 0
         },
         {
          "country": "US",
          "date": "1/31/20",
          "new_cases": 2
         },
         {
          "country": "United Kingdom",
          "date": "1/31/20",
          "new_cases": 2
         },
         {
          "country": "China",
          "date": "2/1/20",
          "new_cases": 2089
         },
         {
          "country": "France",
          "date": "2/1/20",
          "new_cases": 1
         },
         {
          "country": "Germany",
          "date": "2/1/20",
          "new_cases": 3
         },
         {
          "country": "Italy",
          "date": "2/1/20",
          "new_cases": 0
         },
         {
          "country": "South Korea",
          "date": "2/1/20",
          "new_cases": 1
         },
         {
          "country": "Spain",
          "date": "2/1/20",
          "new_cases": 1
         },
         {
          "country": "US",
          "date": "2/1/20",
          "new_cases": 1
         },
         {
          "country": "United Kingdom",
          "date": "2/1/20",
          "new_cases": 0
         },
         {
          "country": "China",
          "date": "2/2/20",
          "new_cases": 4739
         },
         {
          "country": "France",
          "date": "2/2/20",
          "new_cases": 0
         },
         {
          "country": "Germany",
          "date": "2/2/20",
          "new_cases": 2
         },
         {
          "country": "Italy",
          "date": "2/2/20",
          "new_cases": 0
         },
         {
          "country": "South Korea",
          "date": "2/2/20",
          "new_cases": 3
         },
         {
          "country": "Spain",
          "date": "2/2/20",
          "new_cases": 0
         },
         {
          "country": "US",
          "date": "2/2/20",
          "new_cases": 0
         },
         {
          "country": "United Kingdom",
          "date": "2/2/20",
          "new_cases": 0
         },
         {
          "country": "China",
          "date": "2/3/20",
          "new_cases": 3086
         },
         {
          "country": "France",
          "date": "2/3/20",
          "new_cases": 0
         },
         {
          "country": "Germany",
          "date": "2/3/20",
          "new_cases": 2
         },
         {
          "country": "Italy",
          "date": "2/3/20",
          "new_cases": 0
         },
         {
          "country": "South Korea",
          "date": "2/3/20",
          "new_cases": 0
         },
         {
          "country": "Spain",
          "date": "2/3/20",
          "new_cases": 0
         },
         {
          "country": "US",
          "date": "2/3/20",
          "new_cases": 3
         },
         {
          "country": "United Kingdom",
          "date": "2/3/20",
          "new_cases": 0
         },
         {
          "country": "China",
          "date": "2/4/20",
          "new_cases": 3991
         },
         {
          "country": "France",
          "date": "2/4/20",
          "new_cases": 0
         },
         {
          "country": "Germany",
          "date": "2/4/20",
          "new_cases": 0
         },
         {
          "country": "Italy",
          "date": "2/4/20",
          "new_cases": 0
         },
         {
          "country": "South Korea",
          "date": "2/4/20",
          "new_cases": 1
         },
         {
          "country": "Spain",
          "date": "2/4/20",
          "new_cases": 0
         },
         {
          "country": "US",
          "date": "2/4/20",
          "new_cases": 0
         },
         {
          "country": "United Kingdom",
          "date": "2/4/20",
          "new_cases": 0
         },
         {
          "country": "China",
          "date": "2/5/20",
          "new_cases": 3733
         },
         {
          "country": "France",
          "date": "2/5/20",
          "new_cases": 0
         },
         {
          "country": "Germany",
          "date": "2/5/20",
          "new_cases": 0
         },
         {
          "country": "Italy",
          "date": "2/5/20",
          "new_cases": 0
         },
         {
          "country": "South Korea",
          "date": "2/5/20",
          "new_cases": 3
         },
         {
          "country": "Spain",
          "date": "2/5/20",
          "new_cases": 0
         },
         {
          "country": "US",
          "date": "2/5/20",
          "new_cases": 0
         },
         {
          "country": "United Kingdom",
          "date": "2/5/20",
          "new_cases": 0
         },
         {
          "country": "China",
          "date": "2/6/20",
          "new_cases": 3147
         },
         {
          "country": "France",
          "date": "2/6/20",
          "new_cases": 0
         },
         {
          "country": "Germany",
          "date": "2/6/20",
          "new_cases": 0
         },
         {
          "country": "Italy",
          "date": "2/6/20",
          "new_cases": 0
         },
         {
          "country": "South Korea",
          "date": "2/6/20",
          "new_cases": 4
         },
         {
          "country": "Spain",
          "date": "2/6/20",
          "new_cases": 0
         },
         {
          "country": "US",
          "date": "2/6/20",
          "new_cases": 0
         },
         {
          "country": "United Kingdom",
          "date": "2/6/20",
          "new_cases": 0
         },
         {
          "country": "China",
          "date": "2/7/20",
          "new_cases": 3523
         },
         {
          "country": "France",
          "date": "2/7/20",
          "new_cases": 0
         },
         {
          "country": "Germany",
          "date": "2/7/20",
          "new_cases": 1
         },
         {
          "country": "Italy",
          "date": "2/7/20",
          "new_cases": 1
         },
         {
          "country": "South Korea",
          "date": "2/7/20",
          "new_cases": 1
         },
         {
          "country": "Spain",
          "date": "2/7/20",
          "new_cases": 0
         },
         {
          "country": "US",
          "date": "2/7/20",
          "new_cases": 0
         },
         {
          "country": "United Kingdom",
          "date": "2/7/20",
          "new_cases": 1
         },
         {
          "country": "China",
          "date": "2/8/20",
          "new_cases": 2704
         },
         {
          "country": "France",
          "date": "2/8/20",
          "new_cases": 5
         },
         {
          "country": "Germany",
          "date": "2/8/20",
          "new_cases": 0
         },
         {
          "country": "Italy",
          "date": "2/8/20",
          "new_cases": 0
         },
         {
          "country": "South Korea",
          "date": "2/8/20",
          "new_cases": 0
         },
         {
          "country": "Spain",
          "date": "2/8/20",
          "new_cases": 0
         },
         {
          "country": "US",
          "date": "2/8/20",
          "new_cases": 0
         },
         {
          "country": "United Kingdom",
          "date": "2/8/20",
          "new_cases": 0
         },
         {
          "country": "China",
          "date": "2/9/20",
          "new_cases": 3015
         },
         {
          "country": "France",
          "date": "2/9/20",
          "new_cases": 0
         },
         {
          "country": "Germany",
          "date": "2/9/20",
          "new_cases": 1
         },
         {
          "country": "Italy",
          "date": "2/9/20",
          "new_cases": 0
         },
         {
          "country": "South Korea",
          "date": "2/9/20",
          "new_cases": 1
         },
         {
          "country": "Spain",
          "date": "2/9/20",
          "new_cases": 1
         },
         {
          "country": "US",
          "date": "2/9/20",
          "new_cases": 0
         },
         {
          "country": "United Kingdom",
          "date": "2/9/20",
          "new_cases": 0
         },
         {
          "country": "China",
          "date": "2/10/20",
          "new_cases": 2525
         },
         {
          "country": "France",
          "date": "2/10/20",
          "new_cases": 0
         },
         {
          "country": "Germany",
          "date": "2/10/20",
          "new_cases": 0
         },
         {
          "country": "Italy",
          "date": "2/10/20",
          "new_cases": 0
         },
         {
          "country": "South Korea",
          "date": "2/10/20",
          "new_cases": 2
         },
         {
          "country": "Spain",
          "date": "2/10/20",
          "new_cases": 0
         },
         {
          "country": "US",
          "date": "2/10/20",
          "new_cases": 0
         },
         {
          "country": "United Kingdom",
          "date": "2/10/20",
          "new_cases": 5
         },
         {
          "country": "China",
          "date": "2/11/20",
          "new_cases": 2032
         },
         {
          "country": "France",
          "date": "2/11/20",
          "new_cases": 0
         },
         {
          "country": "Germany",
          "date": "2/11/20",
          "new_cases": 2
         },
         {
          "country": "Italy",
          "date": "2/11/20",
          "new_cases": 0
         },
         {
          "country": "South Korea",
          "date": "2/11/20",
          "new_cases": 1
         },
         {
          "country": "Spain",
          "date": "2/11/20",
          "new_cases": 0
         },
         {
          "country": "US",
          "date": "2/11/20",
          "new_cases": 1
         },
         {
          "country": "United Kingdom",
          "date": "2/11/20",
          "new_cases": 0
         },
         {
          "country": "China",
          "date": "2/12/20",
          "new_cases": 373
         },
         {
          "country": "France",
          "date": "2/12/20",
          "new_cases": 0
         },
         {
          "country": "Germany",
          "date": "2/12/20",
          "new_cases": 0
         },
         {
          "country": "Italy",
          "date": "2/12/20",
          "new_cases": 0
         },
         {
          "country": "South Korea",
          "date": "2/12/20",
          "new_cases": 0
         },
         {
          "country": "Spain",
          "date": "2/12/20",
          "new_cases": 0
         },
         {
          "country": "US",
          "date": "2/12/20",
          "new_cases": 0
         },
         {
          "country": "United Kingdom",
          "date": "2/12/20",
          "new_cases": 1
         },
         {
          "country": "China",
          "date": "2/13/20",
          "new_cases": 15136
         },
         {
          "country": "France",
          "date": "2/13/20",
          "new_cases": 0
         },
         {
          "country": "Germany",
          "date": "2/13/20",
          "new_cases": 0
         },
         {
          "country": "Italy",
          "date": "2/13/20",
          "new_cases": 0
         },
         {
          "country": "South Korea",
          "date": "2/13/20",
          "new_cases": 0
         },
         {
          "country": "Spain",
          "date": "2/13/20",
          "new_cases": 0
         },
         {
          "country": "US",
          "date": "2/13/20",
          "new_cases": 1
         },
         {
          "country": "United Kingdom",
          "date": "2/13/20",
          "new_cases": 0
         },
         {
          "country": "China",
          "date": "2/14/20",
          "new_cases": 6463
         },
         {
          "country": "France",
          "date": "2/14/20",
          "new_cases": 0
         },
         {
          "country": "Germany",
          "date": "2/14/20",
          "new_cases": 0
         },
         {
          "country": "Italy",
          "date": "2/14/20",
          "new_cases": 0
         },
         {
          "country": "South Korea",
          "date": "2/14/20",
          "new_cases": 0
         },
         {
          "country": "Spain",
          "date": "2/14/20",
          "new_cases": 0
         },
         {
          "country": "US",
          "date": "2/14/20",
          "new_cases": 0
         },
         {
          "country": "United Kingdom",
          "date": "2/14/20",
          "new_cases": 0
         },
         {
          "country": "China",
          "date": "2/15/20",
          "new_cases": 2055
         },
         {
          "country": "France",
          "date": "2/15/20",
          "new_cases": 1
         },
         {
          "country": "Germany",
          "date": "2/15/20",
          "new_cases": 0
         },
         {
          "country": "Italy",
          "date": "2/15/20",
          "new_cases": 0
         },
         {
          "country": "South Korea",
          "date": "2/15/20",
          "new_cases": 0
         },
         {
          "country": "Spain",
          "date": "2/15/20",
          "new_cases": 0
         },
         {
          "country": "US",
          "date": "2/15/20",
          "new_cases": 0
         },
         {
          "country": "United Kingdom",
          "date": "2/15/20",
          "new_cases": 0
         },
         {
          "country": "China",
          "date": "2/16/20",
          "new_cases": 2100
         },
         {
          "country": "France",
          "date": "2/16/20",
          "new_cases": 0
         },
         {
          "country": "Germany",
          "date": "2/16/20",
          "new_cases": 0
         },
         {
          "country": "Italy",
          "date": "2/16/20",
          "new_cases": 0
         },
         {
          "country": "South Korea",
          "date": "2/16/20",
          "new_cases": 1
         },
         {
          "country": "Spain",
          "date": "2/16/20",
          "new_cases": 0
         },
         {
          "country": "US",
          "date": "2/16/20",
          "new_cases": 0
         },
         {
          "country": "United Kingdom",
          "date": "2/16/20",
          "new_cases": 0
         },
         {
          "country": "China",
          "date": "2/17/20",
          "new_cases": 1921
         },
         {
          "country": "France",
          "date": "2/17/20",
          "new_cases": 0
         },
         {
          "country": "Germany",
          "date": "2/17/20",
          "new_cases": 0
         },
         {
          "country": "Italy",
          "date": "2/17/20",
          "new_cases": 0
         },
         {
          "country": "South Korea",
          "date": "2/17/20",
          "new_cases": 1
         },
         {
          "country": "Spain",
          "date": "2/17/20",
          "new_cases": 0
         },
         {
          "country": "US",
          "date": "2/17/20",
          "new_cases": 0
         },
         {
          "country": "United Kingdom",
          "date": "2/17/20",
          "new_cases": 0
         },
         {
          "country": "China",
          "date": "2/18/20",
          "new_cases": 1777
         },
         {
          "country": "France",
          "date": "2/18/20",
          "new_cases": 0
         },
         {
          "country": "Germany",
          "date": "2/18/20",
          "new_cases": 0
         },
         {
          "country": "Italy",
          "date": "2/18/20",
          "new_cases": 0
         },
         {
          "country": "South Korea",
          "date": "2/18/20",
          "new_cases": 1
         },
         {
          "country": "Spain",
          "date": "2/18/20",
          "new_cases": 0
         },
         {
          "country": "US",
          "date": "2/18/20",
          "new_cases": 0
         },
         {
          "country": "United Kingdom",
          "date": "2/18/20",
          "new_cases": 0
         },
         {
          "country": "China",
          "date": "2/19/20",
          "new_cases": 408
         },
         {
          "country": "France",
          "date": "2/19/20",
          "new_cases": 0
         },
         {
          "country": "Germany",
          "date": "2/19/20",
          "new_cases": 0
         },
         {
          "country": "Italy",
          "date": "2/19/20",
          "new_cases": 0
         },
         {
          "country": "South Korea",
          "date": "2/19/20",
          "new_cases": 0
         },
         {
          "country": "Spain",
          "date": "2/19/20",
          "new_cases": 0
         },
         {
          "country": "US",
          "date": "2/19/20",
          "new_cases": 0
         },
         {
          "country": "United Kingdom",
          "date": "2/19/20",
          "new_cases": 0
         },
         {
          "country": "China",
          "date": "2/20/20",
          "new_cases": 458
         },
         {
          "country": "France",
          "date": "2/20/20",
          "new_cases": 0
         },
         {
          "country": "Germany",
          "date": "2/20/20",
          "new_cases": 0
         },
         {
          "country": "Italy",
          "date": "2/20/20",
          "new_cases": 0
         },
         {
          "country": "South Korea",
          "date": "2/20/20",
          "new_cases": 73
         },
         {
          "country": "Spain",
          "date": "2/20/20",
          "new_cases": 0
         },
         {
          "country": "US",
          "date": "2/20/20",
          "new_cases": 0
         },
         {
          "country": "United Kingdom",
          "date": "2/20/20",
          "new_cases": 0
         },
         {
          "country": "China",
          "date": "2/21/20",
          "new_cases": 473
         },
         {
          "country": "France",
          "date": "2/21/20",
          "new_cases": 0
         },
         {
          "country": "Germany",
          "date": "2/21/20",
          "new_cases": 0
         },
         {
          "country": "Italy",
          "date": "2/21/20",
          "new_cases": 17
         },
         {
          "country": "South Korea",
          "date": "2/21/20",
          "new_cases": 100
         },
         {
          "country": "Spain",
          "date": "2/21/20",
          "new_cases": 0
         },
         {
          "country": "US",
          "date": "2/21/20",
          "new_cases": 2
         },
         {
          "country": "United Kingdom",
          "date": "2/21/20",
          "new_cases": 0
         },
         {
          "country": "China",
          "date": "2/22/20",
          "new_cases": 1451
         },
         {
          "country": "France",
          "date": "2/22/20",
          "new_cases": 0
         },
         {
          "country": "Germany",
          "date": "2/22/20",
          "new_cases": 0
         },
         {
          "country": "Italy",
          "date": "2/22/20",
          "new_cases": 42
         },
         {
          "country": "South Korea",
          "date": "2/22/20",
          "new_cases": 229
         },
         {
          "country": "Spain",
          "date": "2/22/20",
          "new_cases": 0
         },
         {
          "country": "US",
          "date": "2/22/20",
          "new_cases": 0
         },
         {
          "country": "United Kingdom",
          "date": "2/22/20",
          "new_cases": 0
         },
         {
          "country": "China",
          "date": "2/23/20",
          "new_cases": 21
         },
         {
          "country": "France",
          "date": "2/23/20",
          "new_cases": 0
         },
         {
          "country": "Germany",
          "date": "2/23/20",
          "new_cases": 0
         },
         {
          "country": "Italy",
          "date": "2/23/20",
          "new_cases": 93
         },
         {
          "country": "South Korea",
          "date": "2/23/20",
          "new_cases": 169
         },
         {
          "country": "Spain",
          "date": "2/23/20",
          "new_cases": 0
         },
         {
          "country": "US",
          "date": "2/23/20",
          "new_cases": 0
         },
         {
          "country": "United Kingdom",
          "date": "2/23/20",
          "new_cases": 0
         },
         {
          "country": "China",
          "date": "2/24/20",
          "new_cases": 219
         },
         {
          "country": "France",
          "date": "2/24/20",
          "new_cases": 0
         },
         {
          "country": "Germany",
          "date": "2/24/20",
          "new_cases": 0
         },
         {
          "country": "Italy",
          "date": "2/24/20",
          "new_cases": 74
         },
         {
          "country": "South Korea",
          "date": "2/24/20",
          "new_cases": 231
         },
         {
          "country": "Spain",
          "date": "2/24/20",
          "new_cases": 0
         },
         {
          "country": "US",
          "date": "2/24/20",
          "new_cases": 36
         },
         {
          "country": "United Kingdom",
          "date": "2/24/20",
          "new_cases": 4
         },
         {
          "country": "China",
          "date": "2/25/20",
          "new_cases": 513
         },
         {
          "country": "France",
          "date": "2/25/20",
          "new_cases": 2
         },
         {
          "country": "Germany",
          "date": "2/25/20",
          "new_cases": 1
         },
         {
          "country": "Italy",
          "date": "2/25/20",
          "new_cases": 93
         },
         {
          "country": "South Korea",
          "date": "2/25/20",
          "new_cases": 144
         },
         {
          "country": "Spain",
          "date": "2/25/20",
          "new_cases": 4
         },
         {
          "country": "US",
          "date": "2/25/20",
          "new_cases": 0
         },
         {
          "country": "United Kingdom",
          "date": "2/25/20",
          "new_cases": 0
         },
         {
          "country": "China",
          "date": "2/26/20",
          "new_cases": 412
         },
         {
          "country": "France",
          "date": "2/26/20",
          "new_cases": 4
         },
         {
          "country": "Germany",
          "date": "2/26/20",
          "new_cases": 10
         },
         {
          "country": "Italy",
          "date": "2/26/20",
          "new_cases": 131
         },
         {
          "country": "South Korea",
          "date": "2/26/20",
          "new_cases": 284
         },
         {
          "country": "Spain",
          "date": "2/26/20",
          "new_cases": 7
         },
         {
          "country": "US",
          "date": "2/26/20",
          "new_cases": 6
         },
         {
          "country": "United Kingdom",
          "date": "2/26/20",
          "new_cases": 0
         },
         {
          "country": "China",
          "date": "2/27/20",
          "new_cases": 434
         },
         {
          "country": "France",
          "date": "2/27/20",
          "new_cases": 20
         },
         {
          "country": "Germany",
          "date": "2/27/20",
          "new_cases": 19
         },
         {
          "country": "Italy",
          "date": "2/27/20",
          "new_cases": 202
         },
         {
          "country": "South Korea",
          "date": "2/27/20",
          "new_cases": 505
         },
         {
          "country": "Spain",
          "date": "2/27/20",
          "new_cases": 2
         },
         {
          "country": "US",
          "date": "2/27/20",
          "new_cases": 1
         },
         {
          "country": "United Kingdom",
          "date": "2/27/20",
          "new_cases": 2
         },
         {
          "country": "China",
          "date": "2/28/20",
          "new_cases": 328
         },
         {
          "country": "France",
          "date": "2/28/20",
          "new_cases": 19
         },
         {
          "country": "Germany",
          "date": "2/28/20",
          "new_cases": 2
         },
         {
          "country": "Italy",
          "date": "2/28/20",
          "new_cases": 233
         },
         {
          "country": "South Korea",
          "date": "2/28/20",
          "new_cases": 571
         },
         {
          "country": "Spain",
          "date": "2/28/20",
          "new_cases": 17
         },
         {
          "country": "US",
          "date": "2/28/20",
          "new_cases": 2
         },
         {
          "country": "United Kingdom",
          "date": "2/28/20",
          "new_cases": 5
         },
         {
          "country": "China",
          "date": "2/29/20",
          "new_cases": 428
         },
         {
          "country": "France",
          "date": "2/29/20",
          "new_cases": 43
         },
         {
          "country": "Germany",
          "date": "2/29/20",
          "new_cases": 31
         },
         {
          "country": "Italy",
          "date": "2/29/20",
          "new_cases": 240
         },
         {
          "country": "South Korea",
          "date": "2/29/20",
          "new_cases": 813
         },
         {
          "country": "Spain",
          "date": "2/29/20",
          "new_cases": 13
         },
         {
          "country": "US",
          "date": "2/29/20",
          "new_cases": 8
         },
         {
          "country": "United Kingdom",
          "date": "2/29/20",
          "new_cases": 3
         },
         {
          "country": "China",
          "date": "3/1/20",
          "new_cases": 576
         },
         {
          "country": "France",
          "date": "3/1/20",
          "new_cases": 30
         },
         {
          "country": "Germany",
          "date": "3/1/20",
          "new_cases": 51
         },
         {
          "country": "Italy",
          "date": "3/1/20",
          "new_cases": 566
         },
         {
          "country": "South Korea",
          "date": "3/1/20",
          "new_cases": 586
         },
         {
          "country": "Spain",
          "date": "3/1/20",
          "new_cases": 39
         },
         {
          "country": "US",
          "date": "3/1/20",
          "new_cases": 6
         },
         {
          "country": "United Kingdom",
          "date": "3/1/20",
          "new_cases": 13
         },
         {
          "country": "China",
          "date": "3/2/20",
          "new_cases": 204
         },
         {
          "country": "France",
          "date": "3/2/20",
          "new_cases": 61
         },
         {
          "country": "Germany",
          "date": "3/2/20",
          "new_cases": 29
         },
         {
          "country": "Italy",
          "date": "3/2/20",
          "new_cases": 342
         },
         {
          "country": "South Korea",
          "date": "3/2/20",
          "new_cases": 599
         },
         {
          "country": "Spain",
          "date": "3/2/20",
          "new_cases": 36
         },
         {
          "country": "US",
          "date": "3/2/20",
          "new_cases": 24
         },
         {
          "country": "United Kingdom",
          "date": "3/2/20",
          "new_cases": 4
         },
         {
          "country": "China",
          "date": "3/3/20",
          "new_cases": 125
         },
         {
          "country": "France",
          "date": "3/3/20",
          "new_cases": 13
         },
         {
          "country": "Germany",
          "date": "3/3/20",
          "new_cases": 37
         },
         {
          "country": "Italy",
          "date": "3/3/20",
          "new_cases": 466
         },
         {
          "country": "South Korea",
          "date": "3/3/20",
          "new_cases": 851
         },
         {
          "country": "Spain",
          "date": "3/3/20",
          "new_cases": 45
         },
         {
          "country": "US",
          "date": "3/3/20",
          "new_cases": 20
         },
         {
          "country": "United Kingdom",
          "date": "3/3/20",
          "new_cases": 11
         },
         {
          "country": "China",
          "date": "3/4/20",
          "new_cases": 125
         },
         {
          "country": "France",
          "date": "3/4/20",
          "new_cases": 84
         },
         {
          "country": "Germany",
          "date": "3/4/20",
          "new_cases": 66
         },
         {
          "country": "Italy",
          "date": "3/4/20",
          "new_cases": 587
         },
         {
          "country": "South Korea",
          "date": "3/4/20",
          "new_cases": 435
         },
         {
          "country": "Spain",
          "date": "3/4/20",
          "new_cases": 57
         },
         {
          "country": "US",
          "date": "3/4/20",
          "new_cases": 31
         },
         {
          "country": "United Kingdom",
          "date": "3/4/20",
          "new_cases": 35
         },
         {
          "country": "China",
          "date": "3/5/20",
          "new_cases": 151
         },
         {
          "country": "France",
          "date": "3/5/20",
          "new_cases": 92
         },
         {
          "country": "Germany",
          "date": "3/5/20",
          "new_cases": 220
         },
         {
          "country": "Italy",
          "date": "3/5/20",
          "new_cases": 769
         },
         {
          "country": "South Korea",
          "date": "3/5/20",
          "new_cases": 467
         },
         {
          "country": "Spain",
          "date": "3/5/20",
          "new_cases": 37
         },
         {
          "country": "US",
          "date": "3/5/20",
          "new_cases": 68
         },
         {
          "country": "United Kingdom",
          "date": "3/5/20",
          "new_cases": 30
         },
         {
          "country": "China",
          "date": "3/6/20",
          "new_cases": 153
         },
         {
          "country": "France",
          "date": "3/6/20",
          "new_cases": 276
         },
         {
          "country": "Germany",
          "date": "3/6/20",
          "new_cases": 188
         },
         {
          "country": "Italy",
          "date": "3/6/20",
          "new_cases": 778
         },
         {
          "country": "South Korea",
          "date": "3/6/20",
          "new_cases": 505
         },
         {
          "country": "Spain",
          "date": "3/6/20",
          "new_cases": 141
         },
         {
          "country": "US",
          "date": "3/6/20",
          "new_cases": 45
         },
         {
          "country": "United Kingdom",
          "date": "3/6/20",
          "new_cases": 48
         },
         {
          "country": "China",
          "date": "3/7/20",
          "new_cases": 80
         },
         {
          "country": "France",
          "date": "3/7/20",
          "new_cases": 301
         },
         {
          "country": "Germany",
          "date": "3/7/20",
          "new_cases": 129
         },
         {
          "country": "Italy",
          "date": "3/7/20",
          "new_cases": 1247
         },
         {
          "country": "South Korea",
          "date": "3/7/20",
          "new_cases": 448
         },
         {
          "country": "Spain",
          "date": "3/7/20",
          "new_cases": 100
         },
         {
          "country": "US",
          "date": "3/7/20",
          "new_cases": 140
         },
         {
          "country": "United Kingdom",
          "date": "3/7/20",
          "new_cases": 43
         },
         {
          "country": "China",
          "date": "3/8/20",
          "new_cases": 53
         },
         {
          "country": "France",
          "date": "3/8/20",
          "new_cases": 177
         },
         {
          "country": "Germany",
          "date": "3/8/20",
          "new_cases": 241
         },
         {
          "country": "Italy",
          "date": "3/8/20",
          "new_cases": 1492
         },
         {
          "country": "South Korea",
          "date": "3/8/20",
          "new_cases": 273
         },
         {
          "country": "Spain",
          "date": "3/8/20",
          "new_cases": 173
         },
         {
          "country": "US",
          "date": "3/8/20",
          "new_cases": 116
         },
         {
          "country": "United Kingdom",
          "date": "3/8/20",
          "new_cases": 67
         },
         {
          "country": "China",
          "date": "3/9/20",
          "new_cases": 37
         },
         {
          "country": "France",
          "date": "3/9/20",
          "new_cases": 83
         },
         {
          "country": "Germany",
          "date": "3/9/20",
          "new_cases": 136
         },
         {
          "country": "Italy",
          "date": "3/9/20",
          "new_cases": 1797
         },
         {
          "country": "South Korea",
          "date": "3/9/20",
          "new_cases": 164
         },
         {
          "country": "Spain",
          "date": "3/9/20",
          "new_cases": 400
         },
         {
          "country": "US",
          "date": "3/9/20",
          "new_cases": 65
         },
         {
          "country": "United Kingdom",
          "date": "3/9/20",
          "new_cases": 48
         },
         {
          "country": "China",
          "date": "3/10/20",
          "new_cases": 27
         },
         {
          "country": "France",
          "date": "3/10/20",
          "new_cases": 575
         },
         {
          "country": "Germany",
          "date": "3/10/20",
          "new_cases": 281
         },
         {
          "country": "Italy",
          "date": "3/10/20",
          "new_cases": 977
         },
         {
          "country": "South Korea",
          "date": "3/10/20",
          "new_cases": 35
         },
         {
          "country": "Spain",
          "date": "3/10/20",
          "new_cases": 622
         },
         {
          "country": "US",
          "date": "3/10/20",
          "new_cases": 376
         },
         {
          "country": "United Kingdom",
          "date": "3/10/20",
          "new_cases": 62
         },
         {
          "country": "China",
          "date": "3/11/20",
          "new_cases": 34
         },
         {
          "country": "France",
          "date": "3/11/20",
          "new_cases": 498
         },
         {
          "country": "Germany",
          "date": "3/11/20",
          "new_cases": 451
         },
         {
          "country": "Italy",
          "date": "3/11/20",
          "new_cases": 2313
         },
         {
          "country": "South Korea",
          "date": "3/11/20",
          "new_cases": 242
         },
         {
          "country": "Spain",
          "date": "3/11/20",
          "new_cases": 582
         },
         {
          "country": "US",
          "date": "3/11/20",
          "new_cases": 322
         },
         {
          "country": "United Kingdom",
          "date": "3/11/20",
          "new_cases": 75
         },
         {
          "country": "China",
          "date": "3/12/20",
          "new_cases": 11
         },
         {
          "country": "France",
          "date": "3/12/20",
          "new_cases": 0
         },
         {
          "country": "Germany",
          "date": "3/12/20",
          "new_cases": 170
         },
         {
          "country": "Italy",
          "date": "3/12/20",
          "new_cases": 0
         },
         {
          "country": "South Korea",
          "date": "3/12/20",
          "new_cases": 114
         },
         {
          "country": "Spain",
          "date": "3/12/20",
          "new_cases": 0
         },
         {
          "country": "US",
          "date": "3/12/20",
          "new_cases": 382
         },
         {
          "country": "United Kingdom",
          "date": "3/12/20",
          "new_cases": 0
         },
         {
          "country": "China",
          "date": "3/13/20",
          "new_cases": 13
         },
         {
          "country": "France",
          "date": "3/13/20",
          "new_cases": 1388
         },
         {
          "country": "Germany",
          "date": "3/13/20",
          "new_cases": 1597
         },
         {
          "country": "Italy",
          "date": "3/13/20",
          "new_cases": 5198
         },
         {
          "country": "South Korea",
          "date": "3/13/20",
          "new_cases": 110
         },
         {
          "country": "Spain",
          "date": "3/13/20",
          "new_cases": 2955
         },
         {
          "country": "US",
          "date": "3/13/20",
          "new_cases": 516
         },
         {
          "country": "United Kingdom",
          "date": "3/13/20",
          "new_cases": 343
         },
         {
          "country": "China",
          "date": "3/14/20",
          "new_cases": 32
         },
         {
          "country": "France",
          "date": "3/14/20",
          "new_cases": 809
         },
         {
          "country": "Germany",
          "date": "3/14/20",
          "new_cases": 910
         },
         {
          "country": "Italy",
          "date": "3/14/20",
          "new_cases": 3497
         },
         {
          "country": "South Korea",
          "date": "3/14/20",
          "new_cases": 107
         },
         {
          "country": "Spain",
          "date": "3/14/20",
          "new_cases": 1159
         },
         {
          "country": "US",
          "date": "3/14/20",
          "new_cases": 548
         },
         {
          "country": "United Kingdom",
          "date": "3/14/20",
          "new_cases": 342
         },
         {
          "country": "China",
          "date": "3/15/20",
          "new_cases": 26
         },
         {
          "country": "France",
          "date": "3/15/20",
          "new_cases": 36
         },
         {
          "country": "Germany",
          "date": "3/15/20",
          "new_cases": 1210
         },
         {
          "country": "Italy",
          "date": "3/15/20",
          "new_cases": 3590
         },
         {
          "country": "South Korea",
          "date": "3/15/20",
          "new_cases": 76
         },
         {
          "country": "Spain",
          "date": "3/15/20",
          "new_cases": 1407
         },
         {
          "country": "US",
          "date": "3/15/20",
          "new_cases": 772
         },
         {
          "country": "United Kingdom",
          "date": "3/15/20",
          "new_cases": 1
         },
         {
          "country": "China",
          "date": "3/16/20",
          "new_cases": 30
         },
         {
          "country": "France",
          "date": "3/16/20",
          "new_cases": 2145
         },
         {
          "country": "Germany",
          "date": "3/16/20",
          "new_cases": 1477
         },
         {
          "country": "Italy",
          "date": "3/16/20",
          "new_cases": 3233
         },
         {
          "country": "South Korea",
          "date": "3/16/20",
          "new_cases": 74
         },
         {
          "country": "Spain",
          "date": "3/16/20",
          "new_cases": 2144
         },
         {
          "country": "US",
          "date": "3/16/20",
          "new_cases": 1133
         },
         {
          "country": "United Kingdom",
          "date": "3/16/20",
          "new_cases": 406
         },
         {
          "country": "China",
          "date": "3/17/20",
          "new_cases": 25
         },
         {
          "country": "France",
          "date": "3/17/20",
          "new_cases": 1031
         },
         {
          "country": "Germany",
          "date": "3/17/20",
          "new_cases": 1985
         },
         {
          "country": "Italy",
          "date": "3/17/20",
          "new_cases": 3526
         },
         {
          "country": "South Korea",
          "date": "3/17/20",
          "new_cases": 84
         },
         {
          "country": "Spain",
          "date": "3/17/20",
          "new_cases": 1806
         },
         {
          "country": "US",
          "date": "3/17/20",
          "new_cases": 1789
         },
         {
          "country": "United Kingdom",
          "date": "3/17/20",
          "new_cases": 409
         },
         {
          "country": "China",
          "date": "3/18/20",
          "new_cases": 44
         },
         {
          "country": "France",
          "date": "3/18/20",
          "new_cases": 1406
         },
         {
          "country": "Germany",
          "date": "3/18/20",
          "new_cases": 3070
         },
         {
          "country": "Italy",
          "date": "3/18/20",
          "new_cases": 4207
         },
         {
          "country": "South Korea",
          "date": "3/18/20",
          "new_cases": 93
         },
         {
          "country": "Spain",
          "date": "3/18/20",
          "new_cases": 2162
         },
         {
          "country": "US",
          "date": "3/18/20",
          "new_cases": 1362
         },
         {
          "country": "United Kingdom",
          "date": "3/18/20",
          "new_cases": 682
         },
         {
          "country": "China",
          "date": "3/19/20",
          "new_cases": 54
         },
         {
          "country": "France",
          "date": "3/19/20",
          "new_cases": 1842
         },
         {
          "country": "Germany",
          "date": "3/19/20",
          "new_cases": 2993
         },
         {
          "country": "Italy",
          "date": "3/19/20",
          "new_cases": 5322
         },
         {
          "country": "South Korea",
          "date": "3/19/20",
          "new_cases": 152
         },
         {
          "country": "Spain",
          "date": "3/19/20",
          "new_cases": 4053
         },
         {
          "country": "US",
          "date": "3/19/20",
          "new_cases": 5894
         },
         {
          "country": "United Kingdom",
          "date": "3/19/20",
          "new_cases": 74
         },
         {
          "country": "China",
          "date": "3/20/20",
          "new_cases": 94
         },
         {
          "country": "France",
          "date": "3/20/20",
          "new_cases": 1779
         },
         {
          "country": "Germany",
          "date": "3/20/20",
          "new_cases": 4528
         },
         {
          "country": "Italy",
          "date": "3/20/20",
          "new_cases": 5986
         },
         {
          "country": "South Korea",
          "date": "3/20/20",
          "new_cases": 87
         },
         {
          "country": "Spain",
          "date": "3/20/20",
          "new_cases": 2447
         },
         {
          "country": "US",
          "date": "3/20/20",
          "new_cases": 5423
         },
         {
          "country": "United Kingdom",
          "date": "3/20/20",
          "new_cases": 1298
         },
         {
          "country": "China",
          "date": "3/21/20",
          "new_cases": 55
         },
         {
          "country": "France",
          "date": "3/21/20",
          "new_cases": 1705
         },
         {
          "country": "Germany",
          "date": "3/21/20",
          "new_cases": 2365
         },
         {
          "country": "Italy",
          "date": "3/21/20",
          "new_cases": 6557
         },
         {
          "country": "South Korea",
          "date": "3/21/20",
          "new_cases": 147
         },
         {
          "country": "Spain",
          "date": "3/21/20",
          "new_cases": 4964
         },
         {
          "country": "US",
          "date": "3/21/20",
          "new_cases": 6389
         },
         {
          "country": "United Kingdom",
          "date": "3/21/20",
          "new_cases": 1053
         }
        ]
       },
       "encoding": {
        "column": {
         "field": "country",
         "type": "nominal"
        },
        "x": {
         "field": "date",
         "type": "temporal"
        },
        "y": {
         "field": "new_cases",
         "type": "quantitative"
        }
       },
       "height": 140,
       "mark": "bar",
       "title": "Number of new cases by Country",
       "width": 150
      },
      "image/png": "[encoded data removed]",
      "text/plain": [
       "<VegaLite 3 object>\n",
       "\n",
       "If you see this message, it means the renderer has not been properly enabled\n",
       "for the frontend that you are using. For more information, see\n",
       "https://altair-viz.github.io/user_guide/troubleshooting.html\n"
      ]
     },
     "execution_count": 7,
     "metadata": {},
     "output_type": "execute_result"
    }
   ],
   "source": [
    "#hide_input\n",
    "new_cases_df = data['newcases'].reset_index().rename(columns={'Country/Region':'country'})\n",
    "new_cases_melted_df = pd.melt(new_cases_df, id_vars=[\"country\"], var_name=\"date\", value_name=\"new_cases\")\n",
    "\n",
    "alt.Chart(new_cases_melted_df).mark_bar().encode(\n",
    "     x='date:T',\n",
    "     y='new_cases:Q',\n",
    "     #color='country:N',\n",
    "     column='country:N',\n",
    "     #facet=alt.Facet('country:O', columns=1),\n",
    "    ).properties(\n",
    "    title='Number of new cases by Country',\n",
    "    width=150,\n",
    "    height=140\n",
    ")"
   ]
  },
  {
   "cell_type": "code",
   "execution_count": 8,
   "metadata": {
    "ExecuteTime": {
     "end_time": "2020-03-21T19:24:14.157848Z",
     "start_time": "2020-03-21T19:24:11.570716Z"
    }
   },
   "outputs": [
    {
     "ename": "NameError",
     "evalue": "name 'countries' is not defined",
     "output_type": "error",
     "traceback": [
      "\u001b[0;31m---------------------------------------------------------------------------\u001b[0m",
      "\u001b[0;31mNameError\u001b[0m                                 Traceback (most recent call last)",
      "\u001b[0;32m<ipython-input-8-f2ab39231e21>\u001b[0m in \u001b[0;36m<module>\u001b[0;34m\u001b[0m\n\u001b[1;32m     29\u001b[0m \u001b[0;34m\u001b[0m\u001b[0m\n\u001b[1;32m     30\u001b[0m \u001b[0;31m# compute per habitant\u001b[0m\u001b[0;34m\u001b[0m\u001b[0;34m\u001b[0m\u001b[0;34m\u001b[0m\u001b[0m\n\u001b[0;32m---> 31\u001b[0;31m \u001b[0;32mfor\u001b[0m \u001b[0mi\u001b[0m \u001b[0;32min\u001b[0m \u001b[0mcountries\u001b[0m\u001b[0;34m:\u001b[0m\u001b[0;34m\u001b[0m\u001b[0;34m\u001b[0m\u001b[0m\n\u001b[0m\u001b[1;32m     32\u001b[0m     \u001b[0mdata_pc\u001b[0m\u001b[0;34m.\u001b[0m\u001b[0mloc\u001b[0m\u001b[0;34m[\u001b[0m\u001b[0mdata_pc\u001b[0m\u001b[0;34m.\u001b[0m\u001b[0mlocation\u001b[0m \u001b[0;34m==\u001b[0m \u001b[0mi\u001b[0m\u001b[0;34m,\u001b[0m\u001b[0;34m\"total_cases\"\u001b[0m\u001b[0;34m]\u001b[0m \u001b[0;34m=\u001b[0m \u001b[0mdata_pc\u001b[0m\u001b[0;34m.\u001b[0m\u001b[0mloc\u001b[0m\u001b[0;34m[\u001b[0m\u001b[0mdata_pc\u001b[0m\u001b[0;34m.\u001b[0m\u001b[0mlocation\u001b[0m \u001b[0;34m==\u001b[0m \u001b[0mi\u001b[0m\u001b[0;34m,\u001b[0m\u001b[0;34m\"total_cases\"\u001b[0m\u001b[0;34m]\u001b[0m\u001b[0;34m/\u001b[0m\u001b[0mfloat\u001b[0m\u001b[0;34m(\u001b[0m\u001b[0mdata_pop\u001b[0m\u001b[0;34m.\u001b[0m\u001b[0mloc\u001b[0m\u001b[0;34m[\u001b[0m\u001b[0mdata_pop\u001b[0m\u001b[0;34m.\u001b[0m\u001b[0mcountry\u001b[0m \u001b[0;34m==\u001b[0m \u001b[0mi\u001b[0m\u001b[0;34m,\u001b[0m \u001b[0;34m\"pop\"\u001b[0m\u001b[0;34m]\u001b[0m\u001b[0;34m)\u001b[0m\u001b[0;34m\u001b[0m\u001b[0;34m\u001b[0m\u001b[0m\n\u001b[1;32m     33\u001b[0m \u001b[0;34m\u001b[0m\u001b[0m\n",
      "\u001b[0;31mNameError\u001b[0m: name 'countries' is not defined"
     ]
    }
   ],
   "source": [
    "#hide \n",
    "data = pd.read_csv(\"https://raw.githubusercontent.com/CSSEGISandData/COVID-19/master/csse_covid_19_data/csse_covid_19_time_series/time_series_19-covid-Deaths.csv\", error_bad_lines=False)\n",
    "data = data.drop(columns=[\"Lat\", \"Long\"])\n",
    "data = data.melt(id_vars= [\"Province/State\", \"Country/Region\"])\n",
    "data = pd.DataFrame(data.groupby(['Country/Region', \"variable\"]).sum())\n",
    "data.reset_index(inplace=True)  \n",
    "data = data.rename(columns={\"Country/Region\": \"location\", \"variable\": \"date\", \"value\": \"total_cases\"})\n",
    "data['date'] =pd.to_datetime(data.date)\n",
    "data = data.sort_values(by = \"date\")\n",
    "data.loc[data.location == \"US\",\"location\"] = \"United States\"\n",
    "data.loc[data.location == \"Korea, South\",\"location\"] = \"South Korea\"\n",
    "\n",
    "data_pwt = pd.read_stata(\"https://www.rug.nl/ggdc/docs/pwt91.dta\")\n",
    "\n",
    "filter1 = data_pwt[\"year\"] == 2017\n",
    "data_pop = data_pwt[filter1]\n",
    "data_pop = data_pop[[\"country\",\"pop\"]]\n",
    "data_pop.loc[data_pop.country == \"Republic of Korea\",\"country\"] = \"South Korea\"\n",
    "data_pop.loc[data_pop.country == \"Iran (Islamic Republic of)\",\"country\"] = \"Iran\"\n",
    "\n",
    "# per habitant\n",
    "data_pc = data.copy()\n",
    "# countries = [\"China\", \"Italy\", \"Spain\", \"France\", \"United Kingdom\", \"Germany\", \n",
    "#              \"Portugal\", \"United States\", \"Singapore\",\"South Korea\", \"Japan\", \n",
    "#              \"Brazil\",\"Iran\"]\n",
    "\n",
    "data_countries = []\n",
    "data_countries_pc = []\n",
    "\n",
    "# compute per habitant\n",
    "for i in countries:\n",
    "    data_pc.loc[data_pc.location == i,\"total_cases\"] = data_pc.loc[data_pc.location == i,\"total_cases\"]/float(data_pop.loc[data_pop.country == i, \"pop\"])\n",
    "\n",
    "    # get each country time series\n",
    "filter1 = data_pc[\"total_cases\"] > 1\n",
    "for i in countries:\n",
    "    filter_country = data_pc[\"location\"]== i\n",
    "    data_countries_pc.append(data_pc[filter_country & filter1])"
   ]
  },
  {
   "cell_type": "markdown",
   "metadata": {},
   "source": [
    "## Covid-19 deaths per million inhabitants"
   ]
  },
  {
   "cell_type": "code",
   "execution_count": null,
   "metadata": {
    "ExecuteTime": {
     "end_time": "2020-03-21T19:25:18.338214Z",
     "start_time": "2020-03-21T19:25:18.202640Z"
    }
   },
   "outputs": [],
   "source": [
    "#hide_input\n",
    "# Stack data to get it to Altair dataframe format\n",
    "data_countries_pc2 = data_countries_pc.copy()\n",
    "for i in range(0,len(countries)):\n",
    "    data_countries_pc2[i] = data_countries_pc2[i].reset_index()\n",
    "    data_countries_pc2[i]['n_days'] = data_countries_pc2[i].index\n",
    "    data_countries_pc2[i]['log_cases'] = np.log(data_countries_pc2[i][\"total_cases\"])\n",
    "data_plot = data_countries_pc2[0]\n",
    "for i in range(1, len(countries)):    \n",
    "    data_plot = pd.concat([data_plot, data_countries_pc2[i]], axis=0)\n",
    "data_plot[\"trend_2days\"] = data_plot[\"n_days\"]*1/2\n",
    "data_plot[\"trend_4days\"] = data_plot[\"n_days\"]*1/4\n",
    "data_plot[\"trend_12days\"] = data_plot[\"n_days\"]*1/12\n",
    "data_plot[\"trend_2days_label\"] = \"Doubles every 2 days\"\n",
    "data_plot[\"trend_4days_label\"] = \"Doubles evey 4 days\"\n",
    "data_plot[\"trend_12days_label\"] = \"Doubles every 12 days\"\n",
    "\n",
    "\n",
    "# Plot it using Altair\n",
    "source = data_plot\n",
    "\n",
    "scales = alt.selection_interval(bind='scales')\n",
    "#selection = alt.selection_multi(fields=['location'], bind='legend')\n",
    "\n",
    "base = alt.Chart(source, title = \"COVID-19 Deaths Per Million of Inhabitants\").encode(\n",
    "    x = alt.X('n_days:Q', title = \"Days passed since reaching 1 death per million\"),\n",
    "    y = alt.Y(\"log_cases:Q\",title = \"Log of deaths per million\"),\n",
    "    color = alt.Color('location:N', legend=alt.Legend(title=\"Country\", labelFontSize=15, titleFontSize=17),\n",
    "                     scale=alt.Scale(scheme='tableau20')),\n",
    "    #opacity = alt.condition(selection, alt.value(1), alt.value(0.1))\n",
    ")\n",
    "\n",
    "lines = base.mark_line().add_selection(\n",
    "    scales\n",
    ").properties(\n",
    "   width=chart_width,\n",
    "   height=chart_height\n",
    ")\n",
    "#.add_selection(\n",
    "#    selection\n",
    "#)\n",
    "\n",
    "trend_2d = alt.Chart(source).encode(\n",
    "    x = \"n_days:Q\",\n",
    "    y = alt.Y(\"trend_2days:Q\",  scale=alt.Scale(domain=(0, max(data_plot[\"log_cases\"])))),\n",
    ").mark_line(color=\"grey\", strokeDash=[3,3])\n",
    "\n",
    "\n",
    "labels = pd.DataFrame([{'label': 'Doubles every 2 days', 'x_coord': 6, 'y_coord': 4},\n",
    "                       {'label': 'Doubles every 4 days', 'x_coord': 17, 'y_coord': 3.5},\n",
    "                       {'label': 'Doubles every 12 days', 'x_coord': 25, 'y_coord': 2.5},\n",
    "                      ])\n",
    "trend_label = (alt.Chart(labels)\n",
    "                    .mark_text(align='left', dx=-55, dy=-15, fontSize=12, color=\"grey\")\n",
    "                    .encode(x='x_coord:Q',\n",
    "                            y='y_coord:Q',\n",
    "                            text='label:N')\n",
    "                   )\n",
    "\n",
    "trend_4d = alt.Chart(source).mark_line(color=\"grey\", strokeDash=[3,3]).encode(\n",
    "    x = \"n_days:Q\",\n",
    "    y = alt.Y(\"trend_4days:Q\",  scale=alt.Scale(domain=(0, max(data_plot[\"log_cases\"])))),\n",
    ")\n",
    "\n",
    "trend_12d = alt.Chart(source).mark_line(color=\"grey\", strokeDash=[3,3]).encode(\n",
    "    x = \"n_days:Q\",\n",
    "    y = alt.Y(\"trend_12days:Q\",  scale=alt.Scale(domain=(0, max(data_plot[\"log_cases\"])))),\n",
    ")\n",
    "\n",
    "\n",
    "(\n",
    "(trend_2d + trend_4d + trend_12d + trend_label + lines)\n",
    ".configure_title(fontSize=20)\n",
    ".configure_axis(labelFontSize=15,titleFontSize=18)\n",
    ")"
   ]
  },
  {
   "cell_type": "code",
   "execution_count": null,
   "metadata": {},
   "outputs": [],
   "source": [
    "#hide_input\n",
    "label = 'Deaths'\n",
    "temp = pd.concat([x.copy() for x in data_countries_pc]).loc[lambda x: x.date >= '3/1/2020']\n",
    "\n",
    "metric_name = f'{label} per Million'\n",
    "temp.columns = ['Country', 'date', metric_name]\n",
    "# temp.loc[:, 'month'] = temp.date.dt.strftime('%Y-%m')\n",
    "temp.loc[:, f'Log of {label} per Million'] = temp[f'{label} per Million'].apply(lambda x: np.log(x))\n",
    "\n",
    "temp.groupby('Country').last()"
   ]
  },
  {
   "cell_type": "code",
   "execution_count": null,
   "metadata": {
    "jupyter": {
     "source_hidden": true
    }
   },
   "outputs": [],
   "source": [
    "#hide\n",
    "# Get data and clean it\n",
    "\n",
    "\n",
    "\n",
    "data = pd.read_csv(\"https://raw.githubusercontent.com/CSSEGISandData/COVID-19/master/csse_covid_19_data/csse_covid_19_time_series/time_series_19-covid-Confirmed.csv\", error_bad_lines=False)\n",
    "data = data.drop(columns=[\"Lat\", \"Long\"])\n",
    "data = data.melt(id_vars= [\"Province/State\", \"Country/Region\"])\n",
    "data = pd.DataFrame(data.groupby(['Country/Region', \"variable\"]).sum())\n",
    "data.reset_index(inplace=True)  \n",
    "data = data.rename(columns={\"Country/Region\": \"location\", \"variable\": \"date\", \"value\": \"total_cases\"})\n",
    "data['date'] =pd.to_datetime(data.date)\n",
    "data = data.sort_values(by = \"date\")\n",
    "data.loc[data.location == \"US\",\"location\"] = \"United States\"\n",
    "data.loc[data.location == \"Korea, South\",\"location\"] = \"South Korea\"\n",
    "\n",
    "# Population data (last year is 2017 which is what we use)\n",
    "data_pwt = pd.read_stata(\"https://www.rug.nl/ggdc/docs/pwt91.dta\")\n",
    "\n",
    "filter1 = data_pwt[\"year\"] == 2017\n",
    "data_pop = data_pwt[filter1]\n",
    "data_pop = data_pop[[\"country\",\"pop\"]]\n",
    "data_pop.loc[data_pop.country == \"Republic of Korea\",\"country\"] = \"South Korea\"\n",
    "data_pop.loc[data_pop.country == \"Iran (Islamic Republic of)\",\"country\"] = \"Iran\"\n",
    "\n",
    "# per habitant\n",
    "data_pc = data.copy()\n",
    "\n",
    "# I can add more countries if needed\n",
    "\n",
    "data_countries = []\n",
    "data_countries_pc = []\n",
    "\n",
    "# compute per habitant\n",
    "for i in countries:\n",
    "    data_pc.loc[data_pc.location == i,\"total_cases\"] = data_pc.loc[data_pc.location == i,\"total_cases\"]/float(data_pop.loc[data_pop.country == i, \"pop\"])\n",
    "    \n",
    "# get each country time series\n",
    "filter1 = data_pc[\"total_cases\"] > 1\n",
    "\n",
    "for i in countries:\n",
    "    filter_country = data_pc[\"location\"]== i\n",
    "    data_countries_pc.append(data_pc[filter_country & filter1])"
   ]
  },
  {
   "cell_type": "markdown",
   "metadata": {},
   "source": [
    "## Covid-19 confirmed cases per million inhabitants"
   ]
  },
  {
   "cell_type": "code",
   "execution_count": null,
   "metadata": {
    "jupyter": {
     "source_hidden": true
    }
   },
   "outputs": [],
   "source": [
    "#hide_input\n",
    "# Stack data to get it to Altair dataframe format\n",
    "data_countries_pc2 = data_countries_pc.copy()\n",
    "for i in range(0,len(countries)):\n",
    "    data_countries_pc2[i] = data_countries_pc2[i].reset_index()\n",
    "    data_countries_pc2[i]['n_days'] = data_countries_pc2[i].index\n",
    "    data_countries_pc2[i]['log_cases'] = np.log(data_countries_pc2[i][\"total_cases\"])\n",
    "data_plot = data_countries_pc2[0]\n",
    "for i in range(1, len(countries)):    \n",
    "    data_plot = pd.concat([data_plot, data_countries_pc2[i]], axis=0)\n",
    "data_plot[\"trend_2days\"] = data_plot[\"n_days\"]*1/2\n",
    "data_plot[\"trend_4days\"] = data_plot[\"n_days\"]*1/4\n",
    "data_plot[\"trend_12days\"] = data_plot[\"n_days\"]*1/12\n",
    "data_plot[\"trend_2days_label\"] = \"Doubles every 2 days\"\n",
    "data_plot[\"trend_4days_label\"] = \"Doubles evey 4 days\"\n",
    "data_plot[\"trend_12days_label\"] = \"Doubles every 12 days\"\n",
    "\n",
    "\n",
    "# Plot it using Altair\n",
    "source = data_plot\n",
    "\n",
    "scales = alt.selection_interval(bind='scales')\n",
    "#selection = alt.selection_multi(fields=['location'], bind='legend')\n",
    "\n",
    "base = alt.Chart(source, title = \"COVID-19 Confirmed Cases Per Million of Inhabitants\").encode(\n",
    "    x = alt.X('n_days:Q', title = \"Days passed since reaching 1 case per million\"),\n",
    "    y = alt.Y(\"log_cases:Q\",title = \"Log of confirmed cases per million\"),\n",
    "    color = alt.Color('location:N', legend=alt.Legend(title=\"Country\", labelFontSize=15, titleFontSize=17),\n",
    "                     scale=alt.Scale(scheme='tableau20')),\n",
    "    #opacity = alt.condition(selection, alt.value(1), alt.value(0.1))\n",
    ").properties(\n",
    "    width=chart_width,\n",
    "    height=chart_height\n",
    ")\n",
    "\n",
    "lines = base.mark_line().add_selection(\n",
    "    scales\n",
    ")\n",
    "# .add_selection(\n",
    "#     selection\n",
    "# )\n",
    "\n",
    "trend_2d = alt.Chart(source).encode(\n",
    "    x = \"n_days:Q\",\n",
    "    y = alt.Y(\"trend_2days:Q\",  scale=alt.Scale(domain=(0, max(data_plot[\"log_cases\"])))),\n",
    ").mark_line( strokeDash=[3,3], color=\"grey\")\n",
    "\n",
    "labels = pd.DataFrame([{'label': 'Doubles every 2 days', 'x_coord': 10, 'y_coord': 6},\n",
    "                       {'label': 'Doubles every 4 days', 'x_coord': 30, 'y_coord': 6},\n",
    "                       {'label': 'Doubles every 12 days', 'x_coord': 45, 'y_coord': 4},\n",
    "                      ])\n",
    "trend_label = (alt.Chart(labels)\n",
    "                    .mark_text(align='left', dx=-55, dy=-15, fontSize=12, color=\"grey\")\n",
    "                    .encode(x='x_coord:Q',\n",
    "                            y='y_coord:Q',\n",
    "                            text='label:N')\n",
    "                   )\n",
    "\n",
    "\n",
    "trend_4d = alt.Chart(source).mark_line(color=\"grey\", strokeDash=[3,3]).encode(\n",
    "    x = \"n_days:Q\",\n",
    "    y = alt.Y(\"trend_4days:Q\",  scale=alt.Scale(domain=(0, max(data_plot[\"log_cases\"])))),\n",
    ")\n",
    "\n",
    "trend_12d = alt.Chart(source).mark_line(color=\"grey\", strokeDash=[3,3]).encode(\n",
    "    x = \"n_days:Q\",\n",
    "    y = alt.Y(\"trend_12days:Q\",  scale=alt.Scale(domain=(0, max(data_plot[\"log_cases\"])))),\n",
    ")\n",
    "\n",
    "(\n",
    "(trend_2d  + trend_4d + trend_12d + trend_label + lines)\n",
    ".configure_title(fontSize=20)\n",
    ".configure_axis(labelFontSize=15,titleFontSize=18)\n",
    ")"
   ]
  },
  {
   "cell_type": "markdown",
   "metadata": {},
   "source": [
    "## Flatten the curve"
   ]
  },
  {
   "cell_type": "code",
   "execution_count": null,
   "metadata": {},
   "outputs": [],
   "source": [
    "#collapse\n",
    "\n",
    "alt.Chart(df_melted).mark_area().encode(\n",
    "    x=\"date:T\",\n",
    "    y=alt.Y(\"value:Q\", stack=\"normalize\"),\n",
    "    color=\"status:N\",\n",
    "    row=alt.Row('country:N', sort=['Germany', 'Italy', 'Spain'])\n",
    ").properties(height=50, width=800)"
   ]
  },
  {
   "cell_type": "code",
   "execution_count": null,
   "metadata": {},
   "outputs": [],
   "source": [
    "#collapse\n",
    "alt.Chart(df_melted).mark_circle(\n",
    "    opacity=0.8,\n",
    "    stroke='black',\n",
    "    strokeWidth=1\n",
    ").encode(\n",
    "    alt.X('date:T', axis=alt.Axis(labelAngle=45)),\n",
    "    alt.Y('country:N'),\n",
    "    alt.Size('value:Q',\n",
    "        scale=alt.Scale(range=[0, 2000]),\n",
    "        legend=alt.Legend(title='confirmed cases')\n",
    "    ),\n",
    "    alt.Color('country:N', legend=None)\n",
    ").properties(\n",
    "    width=850,\n",
    "    height=820\n",
    ").transform_filter(\n",
    "    alt.datum.Entity != 'All natural disasters'\n",
    ")"
   ]
  }
 ],
 "metadata": {
  "kernelspec": {
   "display_name": "github_page",
   "language": "python",
   "name": "github_page"
  },
  "language_info": {
   "codemirror_mode": {
    "name": "ipython",
    "version": 3
   },
   "file_extension": ".py",
   "mimetype": "text/x-python",
   "name": "python",
   "nbconvert_exporter": "python",
   "pygments_lexer": "ipython3",
   "version": "3.7.6"
  },
  "toc": {
   "base_numbering": 1,
   "nav_menu": {},
   "number_sections": true,
   "sideBar": true,
   "skip_h1_title": false,
   "title_cell": "Table of Contents",
   "title_sidebar": "Contents",
   "toc_cell": false,
   "toc_position": {},
   "toc_section_display": true,
   "toc_window_display": true
  }
 },
 "nbformat": 4,
 "nbformat_minor": 4
}
