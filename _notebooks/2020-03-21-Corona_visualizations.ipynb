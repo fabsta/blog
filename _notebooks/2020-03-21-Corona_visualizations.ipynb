{
 "cells": [
  {
   "cell_type": "markdown",
   "metadata": {},
   "source": [
    "# \"Corona visualizations\"\n",
    "> \"Collection of useful data visualizations about the Corona virus outbreak 2019/2020\"\n",
    "- toc: true\n",
    "- branch: master\n",
    "- badges: true\n",
    "- comments: true\n",
    "- categories: [corona, jupyter]\n",
    "- image: images/corona_top_numbers.png\n",
    "- hide: false\n",
    "- search_exclude: true\n",
    "- metadata_key1: metadata_value1\n",
    "- metadata_key2: metadata_value2"
   ]
  },
  {
   "cell_type": "markdown",
   "metadata": {},
   "source": [
    "# Purpose of this notebook\n",
    "\n",
    "The main purpose of this notebook is to create my own corona dashboard by pulling together interesting data visualizations I found elsewhere\n",
    "and adding some self-made visualizations.\n",
    "\n",
    "I mainly want to play around with different types of visualizations and learn how to use them.\n",
    "\n",
    "I attributed all sources correctly."
   ]
  },
  {
   "cell_type": "markdown",
   "metadata": {},
   "source": []
  },
  {
   "cell_type": "code",
   "execution_count": 1,
   "metadata": {
    "ExecuteTime": {
     "end_time": "2020-03-21T19:24:05.767423Z",
     "start_time": "2020-03-21T19:24:04.865261Z"
    }
   },
   "outputs": [],
   "source": [
    "#hide\n",
    "import numpy as np\n",
    "import pandas as pd\n",
    "import matplotlib.pyplot as plt\n",
    "import altair as alt\n",
    "from jinja2 import Template\n",
    "from IPython.display import HTML\n",
    "%config InlineBackend.figure_format = 'retina'\n",
    "\n",
    "chart_width = 850\n",
    "chart_height= 400\n",
    "import covid_overview as covid\n",
    "# source: https://colab.research.google.com/github/github/covid19-dashboard/blob/master/_notebooks/2020-03-19-cases-and-deaths-per-million.ipynb"
   ]
  },
  {
   "cell_type": "code",
   "execution_count": 2,
   "metadata": {},
   "outputs": [],
   "source": [
    "#hide\n",
    "int_countries = [\"China\", \"Italy\", \"Spain\", \"France\", \"United Kingdom\", \"Germany\", \"United States\",\"South Korea\", \"Sweden\",\"Norway\",\"Denmark\",\"Austria\"]"
   ]
  },
  {
   "cell_type": "code",
   "execution_count": 3,
   "metadata": {},
   "outputs": [],
   "source": [
    "#hide\n",
    "def load_individual_timeseries(name):\n",
    "    base_url='https://raw.githubusercontent.com/CSSEGISandData/COVID-19/master/csse_covid_19_data/csse_covid_19_time_series'\n",
    "    url = f'{base_url}/time_series_19-covid-{name}.csv'\n",
    "    df = pd.read_csv(url, \n",
    "                     index_col=['Country/Region', 'Province/State', 'Lat', 'Long'])\n",
    "    df['type'] = name.lower()\n",
    "    df.columns.name = 'date'\n",
    "    \n",
    "    df = (df.set_index('type', append=True)\n",
    "            .reset_index(['Lat', 'Long'], drop=True)\n",
    "            .stack()\n",
    "            .reset_index()\n",
    "            .set_index('date')\n",
    "         )\n",
    "    df.index = pd.to_datetime(df.index)\n",
    "    df.columns = ['country', 'state', 'type', 'cases']\n",
    "    \n",
    "    # Move HK to country level\n",
    "    df.loc[df.state =='Hong Kong', 'country'] = 'Hong Kong'\n",
    "    df.loc[df.state =='Hong Kong', 'state'] = np.nan\n",
    "    \n",
    "    # Aggregate large countries split by states\n",
    "    df = pd.concat([df, \n",
    "                    (df.loc[~df.state.isna()]\n",
    "                     .groupby(['country', 'date', 'type'])\n",
    "                     .sum()\n",
    "                     .rename(index=lambda x: x+' (total)', level=0)\n",
    "                     .reset_index(level=['country', 'type']))\n",
    "                   ])\n",
    "    return df\n",
    "\n",
    "def load_data(drop_states=False, p_crit=.05, filter_n_days_100=None):\n",
    "    df = load_individual_timeseries('Confirmed')\n",
    "    df = df.rename(columns={'cases': 'confirmed'})\n",
    "    if drop_states:\n",
    "        # Drop states for simplicity\n",
    "        df = df.loc[df.state.isnull()]\n",
    "        \n",
    "    # Estimated critical cases\n",
    "    df = df.assign(critical_estimate=df.confirmed*p_crit)\n",
    "\n",
    "    # Compute days relative to when 100 confirmed cases was crossed\n",
    "    df.loc[:, 'days_since_100'] = np.nan\n",
    "    for country in df.country.unique():\n",
    "        if not df.loc[(df.country == country), 'state'].isnull().all():\n",
    "            for state in df.loc[(df.country == country), 'state'].unique():\n",
    "                df.loc[(df.country == country) & (df.state == state), 'days_since_100'] = \\\n",
    "                    np.arange(-len(df.loc[(df.country == country) & (df.state == state) & (df.confirmed < 100)]), \n",
    "                              len(df.loc[(df.country == country) & (df.state == state) & (df.confirmed >= 100)]))\n",
    "        else:\n",
    "            df.loc[(df.country == country), 'days_since_100'] = \\\n",
    "                np.arange(-len(df.loc[(df.country == country) & (df.confirmed < 100)]), \n",
    "                          len(df.loc[(df.country == country) & (df.confirmed >= 100)]))\n",
    "\n",
    "    # Add recovered cases\n",
    "    df_recovered = load_individual_timeseries('Recovered')\n",
    "    df_r = df_recovered.set_index(['country', 'state'], append=True)[['cases']]\n",
    "    df_r.columns = ['recovered']\n",
    "\n",
    "    # Add deaths\n",
    "    df_deaths = load_individual_timeseries('Deaths')\n",
    "    df_d = df_deaths.set_index(['country', 'state'], append=True)[['cases']]\n",
    "    df_d.columns = ['deaths']\n",
    "\n",
    "    df = (df.set_index(['country', 'state'], append=True)\n",
    "            .join(df_r)\n",
    "            .join(df_d)\n",
    "            .reset_index(['country', 'state'])\n",
    "    )\n",
    "    \n",
    "    if filter_n_days_100 is not None:\n",
    "        # Select countries for which we have at least some information\n",
    "        countries = pd.Series(df.loc[df.days_since_100 >= filter_n_days_100].country.unique())\n",
    "        df = df.loc[lambda x: x.country.isin(countries)]\n",
    "\n",
    "    return df"
   ]
  },
  {
   "cell_type": "code",
   "execution_count": 4,
   "metadata": {},
   "outputs": [
    {
     "name": "stdout",
     "output_type": "stream",
     "text": [
      "Last updated of dataset: 22 March, 2020\n"
     ]
    }
   ],
   "source": [
    "#hide_input\n",
    "\n",
    "corona_df = load_data(drop_states=True, filter_n_days_100=2)\n",
    "# We only have data for China after they already had a significant number of cases.\n",
    "# They also are not well modeled by the exponential, so we drop them here for simplicity.\n",
    "#corona_df = corona_df.loc[lambda x: x.country != 'China (total)']\n",
    "\n",
    "#countries = corona_df.country.unique()\n",
    "#n_countries = len(countries)\n",
    "corona_df = corona_df.loc[lambda x: (x.days_since_100 >= 0)]\n",
    "df = (corona_df\n",
    "             .reset_index()\n",
    "            #.query(\"country == 'Germany'\")\n",
    "             .drop(columns =['state','type','critical_estimate','days_since_100']))\n",
    "\n",
    "df_melted = pd.melt(df, id_vars=[\"date\",\"country\"], var_name=\"status\", value_name=\"value\")\n",
    "print(f\"Last updated of dataset: {max(corona_df.reset_index()['date']).strftime('%d %B, %Y')}\")"
   ]
  },
  {
   "cell_type": "code",
   "execution_count": 5,
   "metadata": {},
   "outputs": [],
   "source": [
    "#hide\n",
    "COL_REGION = 'Country/Region'\n",
    "europe_countries = covid.mapping['df'].pipe(lambda d: d[d['Continent'].eq('Europe')])['Name'].values\n",
    "filter_europe = lambda d: d[d['Country/Region'].isin(int_countries)]\n",
    "kpis_info = [\n",
    "    {'title': 'Germany', 'prefix': 'GE'},\n",
    "    {'title': 'Italy', 'prefix': 'IT'},\n",
    "    {'title': 'Spain', 'prefix': 'SP'}]\n",
    "overview_data = covid.gen_data(region=COL_REGION, filter_frame=filter_europe, kpis_info=kpis_info)"
   ]
  },
  {
   "cell_type": "markdown",
   "metadata": {},
   "source": [
    "## Overview of latest stats\n",
    "based on: https://covid19dashboards.com/covid-overview/"
   ]
  },
  {
   "cell_type": "code",
   "execution_count": 6,
   "metadata": {},
   "outputs": [
    {
     "data": {
      "text/html": [
       "<div>\n",
       "\n",
       "\n",
       "\n",
       "\n",
       "\n",
       "\n",
       "\n",
       "\n",
       "\n",
       "\n",
       "\n",
       "\n",
       "\n",
       "\n",
       "\n",
       "\n",
       "\n",
       "\n",
       "\n",
       "\n",
       "\n",
       "\n",
       "<div class=\"overview\">\n",
       "  <div class=\"text-center toplinksgithub\">\n",
       "  <a href=\"../covid-overview/\">World</a><a href=\"../covid-overview-us/\">US</a><a href=\"../covid-overview-europe/\">Europe</a>\n",
       "</div>\n",
       "  <div>\n",
       "    <div class=\"kpi-hed\">Latest Covid-19 numbers</div>\n",
       "    <div class=\"d-flex kpi-box\">\n",
       "      <div class=\"kpi\">\n",
       "    <div class=\"kname\">Confirmed Cases</div>\n",
       "    <div class=\"num\">234,065</div>\n",
       "    <div class=\"grow \">(<b>+77,507</b>)</div>\n",
       "  </div>\n",
       "      <div class=\"kpi\">\n",
       "    <div class=\"kname\">Deaths</div>\n",
       "    <div class=\"num\">11,724</div>\n",
       "    <div class=\"grow \">(<b>+5,132</b>)</div>\n",
       "  </div>\n",
       "      <div class=\"kpi\">\n",
       "    <div class=\"kname\">Recovered</div>\n",
       "    <div class=\"num\">87,436</div>\n",
       "    <div class=\"grow pos\">(<b>+13,126</b>)</div>\n",
       "  </div>\n",
       "    </div>\n",
       "  </div>\n",
       "  <p class=\"text-center text-uppercase fs9\">Updated on <b>March 22, 2020</b> ( +change since 5 days ago.)</p>\n",
       "  <div class=\"d-flex\" style=\"justify-content:space-between;\">\n",
       "    \n",
       "    <div class=\"kpi-sm\">\n",
       "    <div class=\"kpi-hed\">Germany</div>\n",
       "    <div class=\"d-flex kpi-box\">\n",
       "      <div class=\"kpi\">\n",
       "    <div class=\"kname\">Cases</div>\n",
       "    <div class=\"num\">24,873</div>\n",
       "    <div class=\"grow \">(<b>+15,616</b>)</div>\n",
       "  </div>\n",
       "      <div class=\"kpi\">\n",
       "    <div class=\"kname\">Deaths</div>\n",
       "    <div class=\"num\">94</div>\n",
       "    <div class=\"grow \">(<b>+70</b>)</div>\n",
       "  </div>\n",
       "    </div>\n",
       "  </div>\n",
       "    \n",
       "    <div class=\"kpi-sm\">\n",
       "    <div class=\"kpi-hed\">Italy</div>\n",
       "    <div class=\"d-flex kpi-box\">\n",
       "      <div class=\"kpi\">\n",
       "    <div class=\"kname\">Cases</div>\n",
       "    <div class=\"num\">59,138</div>\n",
       "    <div class=\"grow \">(<b>+27,632</b>)</div>\n",
       "  </div>\n",
       "      <div class=\"kpi\">\n",
       "    <div class=\"kname\">Deaths</div>\n",
       "    <div class=\"num\">5,476</div>\n",
       "    <div class=\"grow \">(<b>+2,973</b>)</div>\n",
       "  </div>\n",
       "    </div>\n",
       "  </div>\n",
       "    \n",
       "    <div class=\"kpi-sm\">\n",
       "    <div class=\"kpi-hed\">Spain</div>\n",
       "    <div class=\"d-flex kpi-box\">\n",
       "      <div class=\"kpi\">\n",
       "    <div class=\"kname\">Cases</div>\n",
       "    <div class=\"num\">28,768</div>\n",
       "    <div class=\"grow \">(<b>+17,020</b>)</div>\n",
       "  </div>\n",
       "      <div class=\"kpi\">\n",
       "    <div class=\"kname\">Deaths</div>\n",
       "    <div class=\"num\">1,772</div>\n",
       "    <div class=\"grow \">(<b>+1,239</b>)</div>\n",
       "  </div>\n",
       "    </div>\n",
       "  </div>\n",
       "    \n",
       "  </div>\n",
       "  <p class=\"text-center\" style=\"font-size: 14px;max-width: 400px;\">\n",
       "  ''\n",
       "</p>\n",
       "  <table class=\"table\" style=\"width:575px;\">\n",
       "    <thead>\n",
       "      <tr>\n",
       "        <th class=\"text-right\" style=\"width:120px;\"></th>\n",
       "        <th class=\"text-left\" style=\"width:140px;\"><svg width=\"100\" height=\"20\" viewBox=\"0,0,100,20\" style=\"overflow: visible; display: block;\">\n",
       "  <g>\n",
       "    \n",
       "    <rect x=\"0\"  y=\"8\" width=\"25\" height=\"10\" fill=\"rgba(255, 152, 0, 0.1)\"></rect>\n",
       "    \n",
       "    <rect x=\"25\"  y=\"8\" width=\"25\" height=\"10\" fill=\"rgba(255, 152, 0, 0.4)\"></rect>\n",
       "    \n",
       "    <rect x=\"50\"  y=\"8\" width=\"25\" height=\"10\" fill=\"rgba(255, 152, 0, 0.7)\"></rect>\n",
       "    \n",
       "    <rect x=\"75\"  y=\"8\" width=\"25\" height=\"10\" fill=\"rgba(255, 152, 0, 1)\"></rect>\n",
       "    \n",
       "  </g>\n",
       "  <g style=\"font-size:10px;text-anchor:middle;\">\n",
       "    \n",
       "    <g transform=\"translate(25, 6)\"><text>5</text></g>\n",
       "    \n",
       "    <g transform=\"translate(50, 6)\"><text>50</text></g>\n",
       "    \n",
       "    <g transform=\"translate(75, 6)\"><text>500</text></g>\n",
       "    \n",
       "    </g>\n",
       "</svg></th>\n",
       "        <th colspan=\"7\"></th>\n",
       "      </tr>\n",
       "      <tr>\n",
       "        <th class=\"text-right\" style=\"width:120px;\">Country</th>\n",
       "        <th class=\"text-left\" style=\"width:140px;\">New Cases</th>\n",
       "        <th class=\"text-left\" colspan=\"2\">Total Cases</th>\n",
       "        <th colspan=\"2\">Deaths</th>\n",
       "        <th class=\"fs9\" >Fatality</th>\n",
       "        <th class=\"fs9\" colspan=\"2\">Recovered</th>\n",
       "      </tr>\n",
       "    </thead>\n",
       "    <tbody>\n",
       "      <tr style=\"font-size:9px;\">\n",
       "        <td></td>\n",
       "        <td style=\"display:flex;justify-content:space-between;\">\n",
       "          <div>Mar. 12</div>\n",
       "          <div>Mar. 22</div>\n",
       "        </td>\n",
       "        <td></td>\n",
       "        <td colspan=\"4\" class=\"text-left change\" style=\"font-size: 9px;\">(+NEW) since Mar, 17</td>\n",
       "        <td></td>\n",
       "        <td></td>\n",
       "      </tr>\n",
       "    \n",
       "      <tr>\n",
       "        <td class=\"mw\"><b>China</b></td>\n",
       "        <td style=\"vertical-align: middle;\"><div class=\"d-flex\" style=\"height:15px;\">\n",
       "    \n",
       "    \n",
       "    <div style=\"width:11px;background:rgba(255, 152, 0, 0.4);border-right:1px solid rgba(255,255,255,0.5);\"></div>\n",
       "    \n",
       "    <div style=\"width:11px;background:rgba(255, 152, 0, 0.4);border-right:1px solid rgba(255,255,255,0.5);\"></div>\n",
       "    \n",
       "    <div style=\"width:11px;background:rgba(255, 152, 0, 0.4);border-right:1px solid rgba(255,255,255,0.5);\"></div>\n",
       "    \n",
       "    <div style=\"width:11px;background:rgba(255, 152, 0, 0.4);border-right:1px solid rgba(255,255,255,0.5);\"></div>\n",
       "    \n",
       "    <div style=\"width:11px;background:rgba(255, 152, 0, 0.4);border-right:1px solid rgba(255,255,255,0.5);\"></div>\n",
       "    \n",
       "    <div style=\"width:11px;background:rgba(255, 152, 0, 0.4);border-right:1px solid rgba(255,255,255,0.5);\"></div>\n",
       "    \n",
       "    <div style=\"width:11px;background:rgba(255, 152, 0, 0.4);border-right:1px solid rgba(255,255,255,0.5);\"></div>\n",
       "    \n",
       "    <div style=\"width:11px;background:rgba(255, 152, 0, 0.7);border-right:1px solid rgba(255,255,255,0.5);\"></div>\n",
       "    \n",
       "    <div style=\"width:11px;background:rgba(255, 152, 0, 0.7);border-right:1px solid rgba(255,255,255,0.5);\"></div>\n",
       "    \n",
       "    <div style=\"width:11px;background:rgba(255, 152, 0, 0.7);border-right:1px solid rgba(255,255,255,0.5);\"></div>\n",
       "    \n",
       "    <div style=\"width:11px;background:rgba(255, 152, 0, 0.7);border-right:1px solid rgba(255,255,255,0.5);\"></div>\n",
       "    \n",
       "  </div></td>\n",
       "        <td class=\"pl1\"><b>81,397</b></td>\n",
       "        <td class=\"change neg\">(<b>+339</b>)</td>\n",
       "        <td class=\"pl1\">3,265</td>\n",
       "        <td class=\"change neg\">(<b>+35</b>)</td>\n",
       "        <td class=\"pl1\">4.0%</td>\n",
       "        <td>72,362</td>\n",
       "        <td class=\"change pos\">(<b>+3,564</b>)</td>\n",
       "      </tr>\n",
       "    \n",
       "      <tr>\n",
       "        <td class=\"mw\"><b>Italy</b></td>\n",
       "        <td style=\"vertical-align: middle;\"><div class=\"d-flex\" style=\"height:15px;\">\n",
       "    \n",
       "    \n",
       "    <div style=\"width:11px;background:#eee;border-right:1px solid rgba(255,255,255,0.5);\"></div>\n",
       "    \n",
       "    <div style=\"width:11px;background:rgba(255, 152, 0, 1);border-right:1px solid rgba(255,255,255,0.5);\"></div>\n",
       "    \n",
       "    <div style=\"width:11px;background:rgba(255, 152, 0, 1);border-right:1px solid rgba(255,255,255,0.5);\"></div>\n",
       "    \n",
       "    <div style=\"width:11px;background:rgba(255, 152, 0, 1);border-right:1px solid rgba(255,255,255,0.5);\"></div>\n",
       "    \n",
       "    <div style=\"width:11px;background:rgba(255, 152, 0, 1);border-right:1px solid rgba(255,255,255,0.5);\"></div>\n",
       "    \n",
       "    <div style=\"width:11px;background:rgba(255, 152, 0, 1);border-right:1px solid rgba(255,255,255,0.5);\"></div>\n",
       "    \n",
       "    <div style=\"width:11px;background:rgba(255, 152, 0, 1);border-right:1px solid rgba(255,255,255,0.5);\"></div>\n",
       "    \n",
       "    <div style=\"width:11px;background:rgba(255, 152, 0, 1);border-right:1px solid rgba(255,255,255,0.5);\"></div>\n",
       "    \n",
       "    <div style=\"width:11px;background:rgba(255, 152, 0, 1);border-right:1px solid rgba(255,255,255,0.5);\"></div>\n",
       "    \n",
       "    <div style=\"width:11px;background:rgba(255, 152, 0, 1);border-right:1px solid rgba(255,255,255,0.5);\"></div>\n",
       "    \n",
       "    <div style=\"width:11px;background:rgba(255, 152, 0, 1);border-right:1px solid rgba(255,255,255,0.5);\"></div>\n",
       "    \n",
       "  </div></td>\n",
       "        <td class=\"pl1\"><b>59,138</b></td>\n",
       "        <td class=\"change neg\">(<b>+27,632</b>)</td>\n",
       "        <td class=\"pl1\">5,476</td>\n",
       "        <td class=\"change neg\">(<b>+2,973</b>)</td>\n",
       "        <td class=\"pl1\">9.3%</td>\n",
       "        <td>7,024</td>\n",
       "        <td class=\"change pos\">(<b>+4,083</b>)</td>\n",
       "      </tr>\n",
       "    \n",
       "      <tr>\n",
       "        <td class=\"mw\"><b>Spain</b></td>\n",
       "        <td style=\"vertical-align: middle;\"><div class=\"d-flex\" style=\"height:15px;\">\n",
       "    \n",
       "    \n",
       "    <div style=\"width:11px;background:#eee;border-right:1px solid rgba(255,255,255,0.5);\"></div>\n",
       "    \n",
       "    <div style=\"width:11px;background:rgba(255, 152, 0, 1);border-right:1px solid rgba(255,255,255,0.5);\"></div>\n",
       "    \n",
       "    <div style=\"width:11px;background:rgba(255, 152, 0, 1);border-right:1px solid rgba(255,255,255,0.5);\"></div>\n",
       "    \n",
       "    <div style=\"width:11px;background:rgba(255, 152, 0, 1);border-right:1px solid rgba(255,255,255,0.5);\"></div>\n",
       "    \n",
       "    <div style=\"width:11px;background:rgba(255, 152, 0, 1);border-right:1px solid rgba(255,255,255,0.5);\"></div>\n",
       "    \n",
       "    <div style=\"width:11px;background:rgba(255, 152, 0, 1);border-right:1px solid rgba(255,255,255,0.5);\"></div>\n",
       "    \n",
       "    <div style=\"width:11px;background:rgba(255, 152, 0, 1);border-right:1px solid rgba(255,255,255,0.5);\"></div>\n",
       "    \n",
       "    <div style=\"width:11px;background:rgba(255, 152, 0, 1);border-right:1px solid rgba(255,255,255,0.5);\"></div>\n",
       "    \n",
       "    <div style=\"width:11px;background:rgba(255, 152, 0, 1);border-right:1px solid rgba(255,255,255,0.5);\"></div>\n",
       "    \n",
       "    <div style=\"width:11px;background:rgba(255, 152, 0, 1);border-right:1px solid rgba(255,255,255,0.5);\"></div>\n",
       "    \n",
       "    <div style=\"width:11px;background:rgba(255, 152, 0, 1);border-right:1px solid rgba(255,255,255,0.5);\"></div>\n",
       "    \n",
       "  </div></td>\n",
       "        <td class=\"pl1\"><b>28,768</b></td>\n",
       "        <td class=\"change neg\">(<b>+17,020</b>)</td>\n",
       "        <td class=\"pl1\">1,772</td>\n",
       "        <td class=\"change neg\">(<b>+1,239</b>)</td>\n",
       "        <td class=\"pl1\">6.2%</td>\n",
       "        <td>2,575</td>\n",
       "        <td class=\"change pos\">(<b>+1,547</b>)</td>\n",
       "      </tr>\n",
       "    \n",
       "      <tr>\n",
       "        <td class=\"mw\"><b>Germany</b></td>\n",
       "        <td style=\"vertical-align: middle;\"><div class=\"d-flex\" style=\"height:15px;\">\n",
       "    \n",
       "    \n",
       "    <div style=\"width:11px;background:rgba(255, 152, 0, 0.7);border-right:1px solid rgba(255,255,255,0.5);\"></div>\n",
       "    \n",
       "    <div style=\"width:11px;background:rgba(255, 152, 0, 1);border-right:1px solid rgba(255,255,255,0.5);\"></div>\n",
       "    \n",
       "    <div style=\"width:11px;background:rgba(255, 152, 0, 1);border-right:1px solid rgba(255,255,255,0.5);\"></div>\n",
       "    \n",
       "    <div style=\"width:11px;background:rgba(255, 152, 0, 1);border-right:1px solid rgba(255,255,255,0.5);\"></div>\n",
       "    \n",
       "    <div style=\"width:11px;background:rgba(255, 152, 0, 1);border-right:1px solid rgba(255,255,255,0.5);\"></div>\n",
       "    \n",
       "    <div style=\"width:11px;background:rgba(255, 152, 0, 1);border-right:1px solid rgba(255,255,255,0.5);\"></div>\n",
       "    \n",
       "    <div style=\"width:11px;background:rgba(255, 152, 0, 1);border-right:1px solid rgba(255,255,255,0.5);\"></div>\n",
       "    \n",
       "    <div style=\"width:11px;background:rgba(255, 152, 0, 1);border-right:1px solid rgba(255,255,255,0.5);\"></div>\n",
       "    \n",
       "    <div style=\"width:11px;background:rgba(255, 152, 0, 1);border-right:1px solid rgba(255,255,255,0.5);\"></div>\n",
       "    \n",
       "    <div style=\"width:11px;background:rgba(255, 152, 0, 1);border-right:1px solid rgba(255,255,255,0.5);\"></div>\n",
       "    \n",
       "    <div style=\"width:11px;background:rgba(255, 152, 0, 1);border-right:1px solid rgba(255,255,255,0.5);\"></div>\n",
       "    \n",
       "  </div></td>\n",
       "        <td class=\"pl1\"><b>24,873</b></td>\n",
       "        <td class=\"change neg\">(<b>+15,616</b>)</td>\n",
       "        <td class=\"pl1\">94</td>\n",
       "        <td class=\"change neg\">(<b>+70</b>)</td>\n",
       "        <td class=\"pl1\">0.4%</td>\n",
       "        <td>266</td>\n",
       "        <td class=\"change pos\">(<b>+199</b>)</td>\n",
       "      </tr>\n",
       "    \n",
       "      <tr>\n",
       "        <td class=\"mw\"><b>France</b></td>\n",
       "        <td style=\"vertical-align: middle;\"><div class=\"d-flex\" style=\"height:15px;\">\n",
       "    \n",
       "    \n",
       "    <div style=\"width:11px;background:#eee;border-right:1px solid rgba(255,255,255,0.5);\"></div>\n",
       "    \n",
       "    <div style=\"width:11px;background:rgba(255, 152, 0, 1);border-right:1px solid rgba(255,255,255,0.5);\"></div>\n",
       "    \n",
       "    <div style=\"width:11px;background:rgba(255, 152, 0, 1);border-right:1px solid rgba(255,255,255,0.5);\"></div>\n",
       "    \n",
       "    <div style=\"width:11px;background:rgba(255, 152, 0, 0.4);border-right:1px solid rgba(255,255,255,0.5);\"></div>\n",
       "    \n",
       "    <div style=\"width:11px;background:rgba(255, 152, 0, 1);border-right:1px solid rgba(255,255,255,0.5);\"></div>\n",
       "    \n",
       "    <div style=\"width:11px;background:rgba(255, 152, 0, 1);border-right:1px solid rgba(255,255,255,0.5);\"></div>\n",
       "    \n",
       "    <div style=\"width:11px;background:rgba(255, 152, 0, 1);border-right:1px solid rgba(255,255,255,0.5);\"></div>\n",
       "    \n",
       "    <div style=\"width:11px;background:rgba(255, 152, 0, 1);border-right:1px solid rgba(255,255,255,0.5);\"></div>\n",
       "    \n",
       "    <div style=\"width:11px;background:rgba(255, 152, 0, 1);border-right:1px solid rgba(255,255,255,0.5);\"></div>\n",
       "    \n",
       "    <div style=\"width:11px;background:rgba(255, 152, 0, 1);border-right:1px solid rgba(255,255,255,0.5);\"></div>\n",
       "    \n",
       "    <div style=\"width:11px;background:rgba(255, 152, 0, 1);border-right:1px solid rgba(255,255,255,0.5);\"></div>\n",
       "    \n",
       "  </div></td>\n",
       "        <td class=\"pl1\"><b>16,176</b></td>\n",
       "        <td class=\"change neg\">(<b>+8,477</b>)</td>\n",
       "        <td class=\"pl1\">674</td>\n",
       "        <td class=\"change neg\">(<b>+526</b>)</td>\n",
       "        <td class=\"pl1\">4.2%</td>\n",
       "        <td>2,206</td>\n",
       "        <td class=\"change pos\">(<b>+2,194</b>)</td>\n",
       "      </tr>\n",
       "    \n",
       "      <tr>\n",
       "        <td class=\"mw\"><b>South Korea</b></td>\n",
       "        <td style=\"vertical-align: middle;\"><div class=\"d-flex\" style=\"height:15px;\">\n",
       "    \n",
       "    \n",
       "    <div style=\"width:11px;background:rgba(255, 152, 0, 0.7);border-right:1px solid rgba(255,255,255,0.5);\"></div>\n",
       "    \n",
       "    <div style=\"width:11px;background:rgba(255, 152, 0, 0.7);border-right:1px solid rgba(255,255,255,0.5);\"></div>\n",
       "    \n",
       "    <div style=\"width:11px;background:rgba(255, 152, 0, 0.7);border-right:1px solid rgba(255,255,255,0.5);\"></div>\n",
       "    \n",
       "    <div style=\"width:11px;background:rgba(255, 152, 0, 0.7);border-right:1px solid rgba(255,255,255,0.5);\"></div>\n",
       "    \n",
       "    <div style=\"width:11px;background:rgba(255, 152, 0, 0.7);border-right:1px solid rgba(255,255,255,0.5);\"></div>\n",
       "    \n",
       "    <div style=\"width:11px;background:rgba(255, 152, 0, 0.7);border-right:1px solid rgba(255,255,255,0.5);\"></div>\n",
       "    \n",
       "    <div style=\"width:11px;background:rgba(255, 152, 0, 0.7);border-right:1px solid rgba(255,255,255,0.5);\"></div>\n",
       "    \n",
       "    <div style=\"width:11px;background:rgba(255, 152, 0, 0.7);border-right:1px solid rgba(255,255,255,0.5);\"></div>\n",
       "    \n",
       "    <div style=\"width:11px;background:rgba(255, 152, 0, 0.7);border-right:1px solid rgba(255,255,255,0.5);\"></div>\n",
       "    \n",
       "    <div style=\"width:11px;background:rgba(255, 152, 0, 0.7);border-right:1px solid rgba(255,255,255,0.5);\"></div>\n",
       "    \n",
       "    <div style=\"width:11px;background:rgba(255, 152, 0, 0.7);border-right:1px solid rgba(255,255,255,0.5);\"></div>\n",
       "    \n",
       "  </div></td>\n",
       "        <td class=\"pl1\"><b>8,897</b></td>\n",
       "        <td class=\"change neg\">(<b>+577</b>)</td>\n",
       "        <td class=\"pl1\">104</td>\n",
       "        <td class=\"change neg\">(<b>+23</b>)</td>\n",
       "        <td class=\"pl1\">1.2%</td>\n",
       "        <td>2,909</td>\n",
       "        <td class=\"change pos\">(<b>+1,502</b>)</td>\n",
       "      </tr>\n",
       "    \n",
       "      <tr>\n",
       "        <td class=\"mw\"><b>United Kingdom</b></td>\n",
       "        <td style=\"vertical-align: middle;\"><div class=\"d-flex\" style=\"height:15px;\">\n",
       "    \n",
       "    \n",
       "    <div style=\"width:11px;background:#eee;border-right:1px solid rgba(255,255,255,0.5);\"></div>\n",
       "    \n",
       "    <div style=\"width:11px;background:rgba(255, 152, 0, 0.7);border-right:1px solid rgba(255,255,255,0.5);\"></div>\n",
       "    \n",
       "    <div style=\"width:11px;background:rgba(255, 152, 0, 0.7);border-right:1px solid rgba(255,255,255,0.5);\"></div>\n",
       "    \n",
       "    <div style=\"width:11px;background:rgba(255, 152, 0, 0.1);border-right:1px solid rgba(255,255,255,0.5);\"></div>\n",
       "    \n",
       "    <div style=\"width:11px;background:rgba(255, 152, 0, 0.7);border-right:1px solid rgba(255,255,255,0.5);\"></div>\n",
       "    \n",
       "    <div style=\"width:11px;background:rgba(255, 152, 0, 0.7);border-right:1px solid rgba(255,255,255,0.5);\"></div>\n",
       "    \n",
       "    <div style=\"width:11px;background:rgba(255, 152, 0, 1);border-right:1px solid rgba(255,255,255,0.5);\"></div>\n",
       "    \n",
       "    <div style=\"width:11px;background:rgba(255, 152, 0, 0.7);border-right:1px solid rgba(255,255,255,0.5);\"></div>\n",
       "    \n",
       "    <div style=\"width:11px;background:rgba(255, 152, 0, 1);border-right:1px solid rgba(255,255,255,0.5);\"></div>\n",
       "    \n",
       "    <div style=\"width:11px;background:rgba(255, 152, 0, 1);border-right:1px solid rgba(255,255,255,0.5);\"></div>\n",
       "    \n",
       "    <div style=\"width:11px;background:rgba(255, 152, 0, 1);border-right:1px solid rgba(255,255,255,0.5);\"></div>\n",
       "    \n",
       "  </div></td>\n",
       "        <td class=\"pl1\"><b>5,741</b></td>\n",
       "        <td class=\"change neg\">(<b>+3,781</b>)</td>\n",
       "        <td class=\"pl1\">282</td>\n",
       "        <td class=\"change neg\">(<b>+226</b>)</td>\n",
       "        <td class=\"pl1\">4.9%</td>\n",
       "        <td>67</td>\n",
       "        <td class=\"change pos\">(<b>+14</b>)</td>\n",
       "      </tr>\n",
       "    \n",
       "      <tr>\n",
       "        <td class=\"mw\"><b>Austria</b></td>\n",
       "        <td style=\"vertical-align: middle;\"><div class=\"d-flex\" style=\"height:15px;\">\n",
       "    \n",
       "    \n",
       "    <div style=\"width:11px;background:rgba(255, 152, 0, 0.7);border-right:1px solid rgba(255,255,255,0.5);\"></div>\n",
       "    \n",
       "    <div style=\"width:11px;background:rgba(255, 152, 0, 0.7);border-right:1px solid rgba(255,255,255,0.5);\"></div>\n",
       "    \n",
       "    <div style=\"width:11px;background:rgba(255, 152, 0, 0.7);border-right:1px solid rgba(255,255,255,0.5);\"></div>\n",
       "    \n",
       "    <div style=\"width:11px;background:rgba(255, 152, 0, 0.7);border-right:1px solid rgba(255,255,255,0.5);\"></div>\n",
       "    \n",
       "    <div style=\"width:11px;background:rgba(255, 152, 0, 0.7);border-right:1px solid rgba(255,255,255,0.5);\"></div>\n",
       "    \n",
       "    <div style=\"width:11px;background:rgba(255, 152, 0, 0.7);border-right:1px solid rgba(255,255,255,0.5);\"></div>\n",
       "    \n",
       "    <div style=\"width:11px;background:rgba(255, 152, 0, 0.7);border-right:1px solid rgba(255,255,255,0.5);\"></div>\n",
       "    \n",
       "    <div style=\"width:11px;background:rgba(255, 152, 0, 0.7);border-right:1px solid rgba(255,255,255,0.5);\"></div>\n",
       "    \n",
       "    <div style=\"width:11px;background:rgba(255, 152, 0, 0.7);border-right:1px solid rgba(255,255,255,0.5);\"></div>\n",
       "    \n",
       "    <div style=\"width:11px;background:rgba(255, 152, 0, 0.7);border-right:1px solid rgba(255,255,255,0.5);\"></div>\n",
       "    \n",
       "    <div style=\"width:11px;background:rgba(255, 152, 0, 0.7);border-right:1px solid rgba(255,255,255,0.5);\"></div>\n",
       "    \n",
       "  </div></td>\n",
       "        <td class=\"pl1\"><b>3,244</b></td>\n",
       "        <td class=\"change neg\">(<b>+1,912</b>)</td>\n",
       "        <td class=\"pl1\">16</td>\n",
       "        <td class=\"change neg\">(<b>+13</b>)</td>\n",
       "        <td class=\"pl1\">0.5%</td>\n",
       "        <td>9</td>\n",
       "        <td class=\"change pos\">(<b>+8</b>)</td>\n",
       "      </tr>\n",
       "    \n",
       "      <tr>\n",
       "        <td class=\"mw\"><b>Norway</b></td>\n",
       "        <td style=\"vertical-align: middle;\"><div class=\"d-flex\" style=\"height:15px;\">\n",
       "    \n",
       "    \n",
       "    <div style=\"width:11px;background:rgba(255, 152, 0, 0.7);border-right:1px solid rgba(255,255,255,0.5);\"></div>\n",
       "    \n",
       "    <div style=\"width:11px;background:rgba(255, 152, 0, 0.7);border-right:1px solid rgba(255,255,255,0.5);\"></div>\n",
       "    \n",
       "    <div style=\"width:11px;background:rgba(255, 152, 0, 0.7);border-right:1px solid rgba(255,255,255,0.5);\"></div>\n",
       "    \n",
       "    <div style=\"width:11px;background:rgba(255, 152, 0, 0.7);border-right:1px solid rgba(255,255,255,0.5);\"></div>\n",
       "    \n",
       "    <div style=\"width:11px;background:rgba(255, 152, 0, 0.7);border-right:1px solid rgba(255,255,255,0.5);\"></div>\n",
       "    \n",
       "    <div style=\"width:11px;background:rgba(255, 152, 0, 0.7);border-right:1px solid rgba(255,255,255,0.5);\"></div>\n",
       "    \n",
       "    <div style=\"width:11px;background:rgba(255, 152, 0, 0.7);border-right:1px solid rgba(255,255,255,0.5);\"></div>\n",
       "    \n",
       "    <div style=\"width:11px;background:rgba(255, 152, 0, 0.7);border-right:1px solid rgba(255,255,255,0.5);\"></div>\n",
       "    \n",
       "    <div style=\"width:11px;background:rgba(255, 152, 0, 0.7);border-right:1px solid rgba(255,255,255,0.5);\"></div>\n",
       "    \n",
       "    <div style=\"width:11px;background:rgba(255, 152, 0, 0.7);border-right:1px solid rgba(255,255,255,0.5);\"></div>\n",
       "    \n",
       "    <div style=\"width:11px;background:rgba(255, 152, 0, 0.7);border-right:1px solid rgba(255,255,255,0.5);\"></div>\n",
       "    \n",
       "  </div></td>\n",
       "        <td class=\"pl1\"><b>2,383</b></td>\n",
       "        <td class=\"change neg\">(<b>+920</b>)</td>\n",
       "        <td class=\"pl1\">7</td>\n",
       "        <td class=\"change neg\">(<b>+4</b>)</td>\n",
       "        <td class=\"pl1\">0.3%</td>\n",
       "        <td>1</td>\n",
       "        <td class=\"change pos\">(<b>+0</b>)</td>\n",
       "      </tr>\n",
       "    \n",
       "      <tr>\n",
       "        <td class=\"mw\"><b>Sweden</b></td>\n",
       "        <td style=\"vertical-align: middle;\"><div class=\"d-flex\" style=\"height:15px;\">\n",
       "    \n",
       "    \n",
       "    <div style=\"width:11px;background:rgba(255, 152, 0, 0.7);border-right:1px solid rgba(255,255,255,0.5);\"></div>\n",
       "    \n",
       "    <div style=\"width:11px;background:rgba(255, 152, 0, 0.7);border-right:1px solid rgba(255,255,255,0.5);\"></div>\n",
       "    \n",
       "    <div style=\"width:11px;background:rgba(255, 152, 0, 0.7);border-right:1px solid rgba(255,255,255,0.5);\"></div>\n",
       "    \n",
       "    <div style=\"width:11px;background:rgba(255, 152, 0, 0.7);border-right:1px solid rgba(255,255,255,0.5);\"></div>\n",
       "    \n",
       "    <div style=\"width:11px;background:rgba(255, 152, 0, 0.7);border-right:1px solid rgba(255,255,255,0.5);\"></div>\n",
       "    \n",
       "    <div style=\"width:11px;background:rgba(255, 152, 0, 0.7);border-right:1px solid rgba(255,255,255,0.5);\"></div>\n",
       "    \n",
       "    <div style=\"width:11px;background:rgba(255, 152, 0, 0.7);border-right:1px solid rgba(255,255,255,0.5);\"></div>\n",
       "    \n",
       "    <div style=\"width:11px;background:rgba(255, 152, 0, 0.7);border-right:1px solid rgba(255,255,255,0.5);\"></div>\n",
       "    \n",
       "    <div style=\"width:11px;background:rgba(255, 152, 0, 0.7);border-right:1px solid rgba(255,255,255,0.5);\"></div>\n",
       "    \n",
       "    <div style=\"width:11px;background:rgba(255, 152, 0, 0.7);border-right:1px solid rgba(255,255,255,0.5);\"></div>\n",
       "    \n",
       "    <div style=\"width:11px;background:rgba(255, 152, 0, 0.7);border-right:1px solid rgba(255,255,255,0.5);\"></div>\n",
       "    \n",
       "  </div></td>\n",
       "        <td class=\"pl1\"><b>1,934</b></td>\n",
       "        <td class=\"change neg\">(<b>+744</b>)</td>\n",
       "        <td class=\"pl1\">21</td>\n",
       "        <td class=\"change neg\">(<b>+14</b>)</td>\n",
       "        <td class=\"pl1\">1.1%</td>\n",
       "        <td>16</td>\n",
       "        <td class=\"change pos\">(<b>+15</b>)</td>\n",
       "      </tr>\n",
       "    \n",
       "      <tr>\n",
       "        <td class=\"mw\"><b>Denmark</b></td>\n",
       "        <td style=\"vertical-align: middle;\"><div class=\"d-flex\" style=\"height:15px;\">\n",
       "    \n",
       "    \n",
       "    <div style=\"width:11px;background:rgba(255, 152, 0, 0.7);border-right:1px solid rgba(255,255,255,0.5);\"></div>\n",
       "    \n",
       "    <div style=\"width:11px;background:rgba(255, 152, 0, 0.7);border-right:1px solid rgba(255,255,255,0.5);\"></div>\n",
       "    \n",
       "    <div style=\"width:11px;background:rgba(255, 152, 0, 0.4);border-right:1px solid rgba(255,255,255,0.5);\"></div>\n",
       "    \n",
       "    <div style=\"width:11px;background:rgba(255, 152, 0, 0.4);border-right:1px solid rgba(255,255,255,0.5);\"></div>\n",
       "    \n",
       "    <div style=\"width:11px;background:rgba(255, 152, 0, 0.7);border-right:1px solid rgba(255,255,255,0.5);\"></div>\n",
       "    \n",
       "    <div style=\"width:11px;background:rgba(255, 152, 0, 0.7);border-right:1px solid rgba(255,255,255,0.5);\"></div>\n",
       "    \n",
       "    <div style=\"width:11px;background:rgba(255, 152, 0, 0.7);border-right:1px solid rgba(255,255,255,0.5);\"></div>\n",
       "    \n",
       "    <div style=\"width:11px;background:rgba(255, 152, 0, 0.7);border-right:1px solid rgba(255,255,255,0.5);\"></div>\n",
       "    \n",
       "    <div style=\"width:11px;background:rgba(255, 152, 0, 0.7);border-right:1px solid rgba(255,255,255,0.5);\"></div>\n",
       "    \n",
       "    <div style=\"width:11px;background:rgba(255, 152, 0, 0.7);border-right:1px solid rgba(255,255,255,0.5);\"></div>\n",
       "    \n",
       "    <div style=\"width:11px;background:rgba(255, 152, 0, 0.7);border-right:1px solid rgba(255,255,255,0.5);\"></div>\n",
       "    \n",
       "  </div></td>\n",
       "        <td class=\"pl1\"><b>1,514</b></td>\n",
       "        <td class=\"change neg\">(<b>+489</b>)</td>\n",
       "        <td class=\"pl1\">13</td>\n",
       "        <td class=\"change neg\">(<b>+9</b>)</td>\n",
       "        <td class=\"pl1\">0.9%</td>\n",
       "        <td>1</td>\n",
       "        <td class=\"change pos\">(<b>+0</b>)</td>\n",
       "      </tr>\n",
       "    \n",
       "    </tbody>\n",
       "  </table>\n",
       "</div>\n",
       "<style>\n",
       ".overview {\n",
       "  min-width: 500px;\n",
       "  font-size: 10px;\n",
       "  font-family: \"Segoe UI\", SegoeUI, Roboto, \"Segoe WP\", \"Helvetica Neue\", \"Helvetica\", \"Tahoma\", \"Arial\", sans-serif !important;\n",
       "}\n",
       ".overview .toplinksgithub a {\n",
       "  background: #d3d3d3;\n",
       "  font-size: 14px;\n",
       "  color: #1d87ae;\n",
       "  margin: 10px;\n",
       "  padding: 2px 10px;\n",
       "}\n",
       ".overview p {\n",
       "  margin: 6px auto !important;\n",
       "  padding: 0;\n",
       "}\n",
       "@media screen and (max-width: 660px) {\n",
       "  .overview p { max-width: none !important; }\n",
       "}\n",
       ".overview b {\n",
       "  font-weight: bolder;\n",
       "}\n",
       ".overview .kpi-hed {\n",
       "  font-weight: bold;\n",
       "  font-size: 20px;\n",
       "}\n",
       ".overview .kpi-box {\n",
       "  justify-content: space-around;\n",
       "  background: #ececec;\n",
       "  padding: 10px 0 !important;\n",
       "  margin: 5px 0 !important;\n",
       "  min-width: 180px;\n",
       "}\n",
       ".overview .kpi .num {\n",
       "  font-size: 40px;\n",
       "  line-height: 40px;\n",
       "  font-weight: bold;\n",
       "}\n",
       ".overview .kpi .grow {\n",
       "  line-height: 12px;\n",
       "  font-size: 12px;\n",
       "}\n",
       ".overview .table .change.pos , .overview .kpi .grow.pos {\n",
       "  color: #118822;\n",
       "}\n",
       ".overview .table .change.neg, .overview .kpi .grow, .color-neg {\n",
       "  color: #cc1100;\n",
       "}\n",
       ".overview p .color-neg {\n",
       "  background: #ececec;\n",
       "  padding: 0 5px;\n",
       "}\n",
       ".overview .kpi .kname {\n",
       "  font-size: 12px;\n",
       "}\n",
       ".overview .kpi-sm .kpi-hed {\n",
       "  font-size: 14px;\n",
       "  line-height: 10px;\n",
       "  padding-top: 10px !important;\n",
       "}\n",
       ".overview .kpi-sm .num {\n",
       "  font-size: 20px;\n",
       "  line-height: 20px;\n",
       "}\n",
       ".overview .kpi-sm .kname {\n",
       "  font-size: 11px;\n",
       "  line-height: 10px;\n",
       "}\n",
       ".overview .table {\n",
       "  border-collapse: collapse;\n",
       "  margin: auto !important;\n",
       "  text-align: right;\n",
       "  margin-top: 14px;\n",
       "  color: black;\n",
       "  font-size: 13px;\n",
       "  display: table !important;\n",
       "}\n",
       ".overview .table .change {\n",
       "  color: #999;\n",
       "  font-size: 80%;\n",
       "  text-align: start;\n",
       "  vertical-align: inherit;\n",
       "  font-weight: normal;\n",
       "  padding-left: 1px !important;\n",
       "}\n",
       ".overview .table th {\n",
       "  font-weight: normal;\n",
       "}\n",
       ".overview .table tbody tr {\n",
       "  border-bottom: 1px solid #eee;\n",
       "  background: none;\n",
       "}\n",
       ".overview .table td, .overview .table th {\n",
       "  padding: 1px 1px 1px 10px !important;\n",
       "  vertical-align: middle;\n",
       "  border: none;\n",
       "  background: none;\n",
       "}\n",
       ".overview .table th {\n",
       "  text-align: center;\n",
       "  text-transform: uppercase;\n",
       "}\n",
       ".overview .table thead {\n",
       "  border-bottom: 1px solid black;\n",
       "}\n",
       ".overview .fs9 {\n",
       "  font-size: 9px;\n",
       "}\n",
       ".overview .d-flex {\n",
       "  display: flex;\n",
       "}\n",
       ".overview .text-center { text-align: center !important; }\n",
       ".overview .text-left { text-align: left !important; }\n",
       ".overview .text-right { text-align: right !important; }\n",
       ".overview .text-uppercase { text-transform: uppercase !important; }\n",
       ".overview div {\n",
       "  margin: 0 !important;\n",
       "  padding: 0 !important;\n",
       "}\n",
       "</style></div>"
      ],
      "text/plain": [
       "<IPython.core.display.HTML object>"
      ]
     },
     "execution_count": 6,
     "metadata": {},
     "output_type": "execute_result"
    }
   ],
   "source": [
    "#hide_input\n",
    "template = Template(covid.get_template(covid.paths['overview']))\n",
    "dt_cols, LAST_DATE_I = overview_data['dt_cols'], overview_data['dt_last']\n",
    "html = template.render(\n",
    "    D=overview_data['summary'], table=overview_data['table'],\n",
    "    newcases=overview_data['newcases'].loc[:, dt_cols[LAST_DATE_I - 10]:dt_cols[LAST_DATE_I]],\n",
    "    COL_REGION=COL_REGION,\n",
    "    KPI_CASE='Latest Covid-19 numbers',\n",
    "    KPIS_INFO=kpis_info,\n",
    "    LEGEND_DOMAIN=[5, 50, 500, np.inf],\n",
    "    np=np, pd=pd, enumerate=enumerate)\n",
    "HTML(f'<div>{html}</div>')"
   ]
  },
  {
   "cell_type": "markdown",
   "metadata": {},
   "source": [
    "## New cases"
   ]
  },
  {
   "cell_type": "code",
   "execution_count": 7,
   "metadata": {},
   "outputs": [
    {
     "data": {
      "application/vnd.vegalite.v3+json": {
       "$schema": "https://vega.github.io/schema/vega-lite/v3.4.0.json",
       "config": {
        "mark": {
         "tooltip": null
        },
        "view": {
         "height": 300,
         "width": 400
        }
       },
       "data": {
        "name": "data-ba40bd901f5f5fa02a2e26e55b7804e1"
       },
       "datasets": {
        "data-ba40bd901f5f5fa02a2e26e55b7804e1": [
         {
          "country": "Austria",
          "date": "1/22/20",
          "new_cases": 0
         },
         {
          "country": "China",
          "date": "1/22/20",
          "new_cases": 0
         },
         {
          "country": "Denmark",
          "date": "1/22/20",
          "new_cases": 0
         },
         {
          "country": "France",
          "date": "1/22/20",
          "new_cases": 0
         },
         {
          "country": "Germany",
          "date": "1/22/20",
          "new_cases": 0
         },
         {
          "country": "Italy",
          "date": "1/22/20",
          "new_cases": 0
         },
         {
          "country": "Norway",
          "date": "1/22/20",
          "new_cases": 0
         },
         {
          "country": "South Korea",
          "date": "1/22/20",
          "new_cases": 0
         },
         {
          "country": "Spain",
          "date": "1/22/20",
          "new_cases": 0
         },
         {
          "country": "Sweden",
          "date": "1/22/20",
          "new_cases": 0
         },
         {
          "country": "United Kingdom",
          "date": "1/22/20",
          "new_cases": 0
         },
         {
          "country": "Austria",
          "date": "1/23/20",
          "new_cases": 0
         },
         {
          "country": "China",
          "date": "1/23/20",
          "new_cases": 95
         },
         {
          "country": "Denmark",
          "date": "1/23/20",
          "new_cases": 0
         },
         {
          "country": "France",
          "date": "1/23/20",
          "new_cases": 0
         },
         {
          "country": "Germany",
          "date": "1/23/20",
          "new_cases": 0
         },
         {
          "country": "Italy",
          "date": "1/23/20",
          "new_cases": 0
         },
         {
          "country": "Norway",
          "date": "1/23/20",
          "new_cases": 0
         },
         {
          "country": "South Korea",
          "date": "1/23/20",
          "new_cases": 0
         },
         {
          "country": "Spain",
          "date": "1/23/20",
          "new_cases": 0
         },
         {
          "country": "Sweden",
          "date": "1/23/20",
          "new_cases": 0
         },
         {
          "country": "United Kingdom",
          "date": "1/23/20",
          "new_cases": 0
         },
         {
          "country": "Austria",
          "date": "1/24/20",
          "new_cases": 0
         },
         {
          "country": "China",
          "date": "1/24/20",
          "new_cases": 277
         },
         {
          "country": "Denmark",
          "date": "1/24/20",
          "new_cases": 0
         },
         {
          "country": "France",
          "date": "1/24/20",
          "new_cases": 2
         },
         {
          "country": "Germany",
          "date": "1/24/20",
          "new_cases": 0
         },
         {
          "country": "Italy",
          "date": "1/24/20",
          "new_cases": 0
         },
         {
          "country": "Norway",
          "date": "1/24/20",
          "new_cases": 0
         },
         {
          "country": "South Korea",
          "date": "1/24/20",
          "new_cases": 1
         },
         {
          "country": "Spain",
          "date": "1/24/20",
          "new_cases": 0
         },
         {
          "country": "Sweden",
          "date": "1/24/20",
          "new_cases": 0
         },
         {
          "country": "United Kingdom",
          "date": "1/24/20",
          "new_cases": 0
         },
         {
          "country": "Austria",
          "date": "1/25/20",
          "new_cases": 0
         },
         {
          "country": "China",
          "date": "1/25/20",
          "new_cases": 486
         },
         {
          "country": "Denmark",
          "date": "1/25/20",
          "new_cases": 0
         },
         {
          "country": "France",
          "date": "1/25/20",
          "new_cases": 1
         },
         {
          "country": "Germany",
          "date": "1/25/20",
          "new_cases": 0
         },
         {
          "country": "Italy",
          "date": "1/25/20",
          "new_cases": 0
         },
         {
          "country": "Norway",
          "date": "1/25/20",
          "new_cases": 0
         },
         {
          "country": "South Korea",
          "date": "1/25/20",
          "new_cases": 0
         },
         {
          "country": "Spain",
          "date": "1/25/20",
          "new_cases": 0
         },
         {
          "country": "Sweden",
          "date": "1/25/20",
          "new_cases": 0
         },
         {
          "country": "United Kingdom",
          "date": "1/25/20",
          "new_cases": 0
         },
         {
          "country": "Austria",
          "date": "1/26/20",
          "new_cases": 0
         },
         {
          "country": "China",
          "date": "1/26/20",
          "new_cases": 669
         },
         {
          "country": "Denmark",
          "date": "1/26/20",
          "new_cases": 0
         },
         {
          "country": "France",
          "date": "1/26/20",
          "new_cases": 0
         },
         {
          "country": "Germany",
          "date": "1/26/20",
          "new_cases": 0
         },
         {
          "country": "Italy",
          "date": "1/26/20",
          "new_cases": 0
         },
         {
          "country": "Norway",
          "date": "1/26/20",
          "new_cases": 0
         },
         {
          "country": "South Korea",
          "date": "1/26/20",
          "new_cases": 1
         },
         {
          "country": "Spain",
          "date": "1/26/20",
          "new_cases": 0
         },
         {
          "country": "Sweden",
          "date": "1/26/20",
          "new_cases": 0
         },
         {
          "country": "United Kingdom",
          "date": "1/26/20",
          "new_cases": 0
         },
         {
          "country": "Austria",
          "date": "1/27/20",
          "new_cases": 0
         },
         {
          "country": "China",
          "date": "1/27/20",
          "new_cases": 802
         },
         {
          "country": "Denmark",
          "date": "1/27/20",
          "new_cases": 0
         },
         {
          "country": "France",
          "date": "1/27/20",
          "new_cases": 0
         },
         {
          "country": "Germany",
          "date": "1/27/20",
          "new_cases": 1
         },
         {
          "country": "Italy",
          "date": "1/27/20",
          "new_cases": 0
         },
         {
          "country": "Norway",
          "date": "1/27/20",
          "new_cases": 0
         },
         {
          "country": "South Korea",
          "date": "1/27/20",
          "new_cases": 1
         },
         {
          "country": "Spain",
          "date": "1/27/20",
          "new_cases": 0
         },
         {
          "country": "Sweden",
          "date": "1/27/20",
          "new_cases": 0
         },
         {
          "country": "United Kingdom",
          "date": "1/27/20",
          "new_cases": 0
         },
         {
          "country": "Austria",
          "date": "1/28/20",
          "new_cases": 0
         },
         {
          "country": "China",
          "date": "1/28/20",
          "new_cases": 2632
         },
         {
          "country": "Denmark",
          "date": "1/28/20",
          "new_cases": 0
         },
         {
          "country": "France",
          "date": "1/28/20",
          "new_cases": 1
         },
         {
          "country": "Germany",
          "date": "1/28/20",
          "new_cases": 3
         },
         {
          "country": "Italy",
          "date": "1/28/20",
          "new_cases": 0
         },
         {
          "country": "Norway",
          "date": "1/28/20",
          "new_cases": 0
         },
         {
          "country": "South Korea",
          "date": "1/28/20",
          "new_cases": 0
         },
         {
          "country": "Spain",
          "date": "1/28/20",
          "new_cases": 0
         },
         {
          "country": "Sweden",
          "date": "1/28/20",
          "new_cases": 0
         },
         {
          "country": "United Kingdom",
          "date": "1/28/20",
          "new_cases": 0
         },
         {
          "country": "Austria",
          "date": "1/29/20",
          "new_cases": 0
         },
         {
          "country": "China",
          "date": "1/29/20",
          "new_cases": 578
         },
         {
          "country": "Denmark",
          "date": "1/29/20",
          "new_cases": 0
         },
         {
          "country": "France",
          "date": "1/29/20",
          "new_cases": 1
         },
         {
          "country": "Germany",
          "date": "1/29/20",
          "new_cases": 0
         },
         {
          "country": "Italy",
          "date": "1/29/20",
          "new_cases": 0
         },
         {
          "country": "Norway",
          "date": "1/29/20",
          "new_cases": 0
         },
         {
          "country": "South Korea",
          "date": "1/29/20",
          "new_cases": 0
         },
         {
          "country": "Spain",
          "date": "1/29/20",
          "new_cases": 0
         },
         {
          "country": "Sweden",
          "date": "1/29/20",
          "new_cases": 0
         },
         {
          "country": "United Kingdom",
          "date": "1/29/20",
          "new_cases": 0
         },
         {
          "country": "Austria",
          "date": "1/30/20",
          "new_cases": 0
         },
         {
          "country": "China",
          "date": "1/30/20",
          "new_cases": 2054
         },
         {
          "country": "Denmark",
          "date": "1/30/20",
          "new_cases": 0
         },
         {
          "country": "France",
          "date": "1/30/20",
          "new_cases": 0
         },
         {
          "country": "Germany",
          "date": "1/30/20",
          "new_cases": 0
         },
         {
          "country": "Italy",
          "date": "1/30/20",
          "new_cases": 0
         },
         {
          "country": "Norway",
          "date": "1/30/20",
          "new_cases": 0
         },
         {
          "country": "South Korea",
          "date": "1/30/20",
          "new_cases": 0
         },
         {
          "country": "Spain",
          "date": "1/30/20",
          "new_cases": 0
         },
         {
          "country": "Sweden",
          "date": "1/30/20",
          "new_cases": 0
         },
         {
          "country": "United Kingdom",
          "date": "1/30/20",
          "new_cases": 0
         },
         {
          "country": "Austria",
          "date": "1/31/20",
          "new_cases": 0
         },
         {
          "country": "China",
          "date": "1/31/20",
          "new_cases": 1661
         },
         {
          "country": "Denmark",
          "date": "1/31/20",
          "new_cases": 0
         },
         {
          "country": "France",
          "date": "1/31/20",
          "new_cases": 0
         },
         {
          "country": "Germany",
          "date": "1/31/20",
          "new_cases": 1
         },
         {
          "country": "Italy",
          "date": "1/31/20",
          "new_cases": 2
         },
         {
          "country": "Norway",
          "date": "1/31/20",
          "new_cases": 0
         },
         {
          "country": "South Korea",
          "date": "1/31/20",
          "new_cases": 7
         },
         {
          "country": "Spain",
          "date": "1/31/20",
          "new_cases": 0
         },
         {
          "country": "Sweden",
          "date": "1/31/20",
          "new_cases": 1
         },
         {
          "country": "United Kingdom",
          "date": "1/31/20",
          "new_cases": 2
         },
         {
          "country": "Austria",
          "date": "2/1/20",
          "new_cases": 0
         },
         {
          "country": "China",
          "date": "2/1/20",
          "new_cases": 2089
         },
         {
          "country": "Denmark",
          "date": "2/1/20",
          "new_cases": 0
         },
         {
          "country": "France",
          "date": "2/1/20",
          "new_cases": 1
         },
         {
          "country": "Germany",
          "date": "2/1/20",
          "new_cases": 3
         },
         {
          "country": "Italy",
          "date": "2/1/20",
          "new_cases": 0
         },
         {
          "country": "Norway",
          "date": "2/1/20",
          "new_cases": 0
         },
         {
          "country": "South Korea",
          "date": "2/1/20",
          "new_cases": 1
         },
         {
          "country": "Spain",
          "date": "2/1/20",
          "new_cases": 1
         },
         {
          "country": "Sweden",
          "date": "2/1/20",
          "new_cases": 0
         },
         {
          "country": "United Kingdom",
          "date": "2/1/20",
          "new_cases": 0
         },
         {
          "country": "Austria",
          "date": "2/2/20",
          "new_cases": 0
         },
         {
          "country": "China",
          "date": "2/2/20",
          "new_cases": 4739
         },
         {
          "country": "Denmark",
          "date": "2/2/20",
          "new_cases": 0
         },
         {
          "country": "France",
          "date": "2/2/20",
          "new_cases": 0
         },
         {
          "country": "Germany",
          "date": "2/2/20",
          "new_cases": 2
         },
         {
          "country": "Italy",
          "date": "2/2/20",
          "new_cases": 0
         },
         {
          "country": "Norway",
          "date": "2/2/20",
          "new_cases": 0
         },
         {
          "country": "South Korea",
          "date": "2/2/20",
          "new_cases": 3
         },
         {
          "country": "Spain",
          "date": "2/2/20",
          "new_cases": 0
         },
         {
          "country": "Sweden",
          "date": "2/2/20",
          "new_cases": 0
         },
         {
          "country": "United Kingdom",
          "date": "2/2/20",
          "new_cases": 0
         },
         {
          "country": "Austria",
          "date": "2/3/20",
          "new_cases": 0
         },
         {
          "country": "China",
          "date": "2/3/20",
          "new_cases": 3086
         },
         {
          "country": "Denmark",
          "date": "2/3/20",
          "new_cases": 0
         },
         {
          "country": "France",
          "date": "2/3/20",
          "new_cases": 0
         },
         {
          "country": "Germany",
          "date": "2/3/20",
          "new_cases": 2
         },
         {
          "country": "Italy",
          "date": "2/3/20",
          "new_cases": 0
         },
         {
          "country": "Norway",
          "date": "2/3/20",
          "new_cases": 0
         },
         {
          "country": "South Korea",
          "date": "2/3/20",
          "new_cases": 0
         },
         {
          "country": "Spain",
          "date": "2/3/20",
          "new_cases": 0
         },
         {
          "country": "Sweden",
          "date": "2/3/20",
          "new_cases": 0
         },
         {
          "country": "United Kingdom",
          "date": "2/3/20",
          "new_cases": 0
         },
         {
          "country": "Austria",
          "date": "2/4/20",
          "new_cases": 0
         },
         {
          "country": "China",
          "date": "2/4/20",
          "new_cases": 3991
         },
         {
          "country": "Denmark",
          "date": "2/4/20",
          "new_cases": 0
         },
         {
          "country": "France",
          "date": "2/4/20",
          "new_cases": 0
         },
         {
          "country": "Germany",
          "date": "2/4/20",
          "new_cases": 0
         },
         {
          "country": "Italy",
          "date": "2/4/20",
          "new_cases": 0
         },
         {
          "country": "Norway",
          "date": "2/4/20",
          "new_cases": 0
         },
         {
          "country": "South Korea",
          "date": "2/4/20",
          "new_cases": 1
         },
         {
          "country": "Spain",
          "date": "2/4/20",
          "new_cases": 0
         },
         {
          "country": "Sweden",
          "date": "2/4/20",
          "new_cases": 0
         },
         {
          "country": "United Kingdom",
          "date": "2/4/20",
          "new_cases": 0
         },
         {
          "country": "Austria",
          "date": "2/5/20",
          "new_cases": 0
         },
         {
          "country": "China",
          "date": "2/5/20",
          "new_cases": 3733
         },
         {
          "country": "Denmark",
          "date": "2/5/20",
          "new_cases": 0
         },
         {
          "country": "France",
          "date": "2/5/20",
          "new_cases": 0
         },
         {
          "country": "Germany",
          "date": "2/5/20",
          "new_cases": 0
         },
         {
          "country": "Italy",
          "date": "2/5/20",
          "new_cases": 0
         },
         {
          "country": "Norway",
          "date": "2/5/20",
          "new_cases": 0
         },
         {
          "country": "South Korea",
          "date": "2/5/20",
          "new_cases": 3
         },
         {
          "country": "Spain",
          "date": "2/5/20",
          "new_cases": 0
         },
         {
          "country": "Sweden",
          "date": "2/5/20",
          "new_cases": 0
         },
         {
          "country": "United Kingdom",
          "date": "2/5/20",
          "new_cases": 0
         },
         {
          "country": "Austria",
          "date": "2/6/20",
          "new_cases": 0
         },
         {
          "country": "China",
          "date": "2/6/20",
          "new_cases": 3147
         },
         {
          "country": "Denmark",
          "date": "2/6/20",
          "new_cases": 0
         },
         {
          "country": "France",
          "date": "2/6/20",
          "new_cases": 0
         },
         {
          "country": "Germany",
          "date": "2/6/20",
          "new_cases": 0
         },
         {
          "country": "Italy",
          "date": "2/6/20",
          "new_cases": 0
         },
         {
          "country": "Norway",
          "date": "2/6/20",
          "new_cases": 0
         },
         {
          "country": "South Korea",
          "date": "2/6/20",
          "new_cases": 4
         },
         {
          "country": "Spain",
          "date": "2/6/20",
          "new_cases": 0
         },
         {
          "country": "Sweden",
          "date": "2/6/20",
          "new_cases": 0
         },
         {
          "country": "United Kingdom",
          "date": "2/6/20",
          "new_cases": 0
         },
         {
          "country": "Austria",
          "date": "2/7/20",
          "new_cases": 0
         },
         {
          "country": "China",
          "date": "2/7/20",
          "new_cases": 3523
         },
         {
          "country": "Denmark",
          "date": "2/7/20",
          "new_cases": 0
         },
         {
          "country": "France",
          "date": "2/7/20",
          "new_cases": 0
         },
         {
          "country": "Germany",
          "date": "2/7/20",
          "new_cases": 1
         },
         {
          "country": "Italy",
          "date": "2/7/20",
          "new_cases": 1
         },
         {
          "country": "Norway",
          "date": "2/7/20",
          "new_cases": 0
         },
         {
          "country": "South Korea",
          "date": "2/7/20",
          "new_cases": 1
         },
         {
          "country": "Spain",
          "date": "2/7/20",
          "new_cases": 0
         },
         {
          "country": "Sweden",
          "date": "2/7/20",
          "new_cases": 0
         },
         {
          "country": "United Kingdom",
          "date": "2/7/20",
          "new_cases": 1
         },
         {
          "country": "Austria",
          "date": "2/8/20",
          "new_cases": 0
         },
         {
          "country": "China",
          "date": "2/8/20",
          "new_cases": 2704
         },
         {
          "country": "Denmark",
          "date": "2/8/20",
          "new_cases": 0
         },
         {
          "country": "France",
          "date": "2/8/20",
          "new_cases": 5
         },
         {
          "country": "Germany",
          "date": "2/8/20",
          "new_cases": 0
         },
         {
          "country": "Italy",
          "date": "2/8/20",
          "new_cases": 0
         },
         {
          "country": "Norway",
          "date": "2/8/20",
          "new_cases": 0
         },
         {
          "country": "South Korea",
          "date": "2/8/20",
          "new_cases": 0
         },
         {
          "country": "Spain",
          "date": "2/8/20",
          "new_cases": 0
         },
         {
          "country": "Sweden",
          "date": "2/8/20",
          "new_cases": 0
         },
         {
          "country": "United Kingdom",
          "date": "2/8/20",
          "new_cases": 0
         },
         {
          "country": "Austria",
          "date": "2/9/20",
          "new_cases": 0
         },
         {
          "country": "China",
          "date": "2/9/20",
          "new_cases": 3015
         },
         {
          "country": "Denmark",
          "date": "2/9/20",
          "new_cases": 0
         },
         {
          "country": "France",
          "date": "2/9/20",
          "new_cases": 0
         },
         {
          "country": "Germany",
          "date": "2/9/20",
          "new_cases": 1
         },
         {
          "country": "Italy",
          "date": "2/9/20",
          "new_cases": 0
         },
         {
          "country": "Norway",
          "date": "2/9/20",
          "new_cases": 0
         },
         {
          "country": "South Korea",
          "date": "2/9/20",
          "new_cases": 1
         },
         {
          "country": "Spain",
          "date": "2/9/20",
          "new_cases": 1
         },
         {
          "country": "Sweden",
          "date": "2/9/20",
          "new_cases": 0
         },
         {
          "country": "United Kingdom",
          "date": "2/9/20",
          "new_cases": 0
         },
         {
          "country": "Austria",
          "date": "2/10/20",
          "new_cases": 0
         },
         {
          "country": "China",
          "date": "2/10/20",
          "new_cases": 2525
         },
         {
          "country": "Denmark",
          "date": "2/10/20",
          "new_cases": 0
         },
         {
          "country": "France",
          "date": "2/10/20",
          "new_cases": 0
         },
         {
          "country": "Germany",
          "date": "2/10/20",
          "new_cases": 0
         },
         {
          "country": "Italy",
          "date": "2/10/20",
          "new_cases": 0
         },
         {
          "country": "Norway",
          "date": "2/10/20",
          "new_cases": 0
         },
         {
          "country": "South Korea",
          "date": "2/10/20",
          "new_cases": 2
         },
         {
          "country": "Spain",
          "date": "2/10/20",
          "new_cases": 0
         },
         {
          "country": "Sweden",
          "date": "2/10/20",
          "new_cases": 0
         },
         {
          "country": "United Kingdom",
          "date": "2/10/20",
          "new_cases": 5
         },
         {
          "country": "Austria",
          "date": "2/11/20",
          "new_cases": 0
         },
         {
          "country": "China",
          "date": "2/11/20",
          "new_cases": 2032
         },
         {
          "country": "Denmark",
          "date": "2/11/20",
          "new_cases": 0
         },
         {
          "country": "France",
          "date": "2/11/20",
          "new_cases": 0
         },
         {
          "country": "Germany",
          "date": "2/11/20",
          "new_cases": 2
         },
         {
          "country": "Italy",
          "date": "2/11/20",
          "new_cases": 0
         },
         {
          "country": "Norway",
          "date": "2/11/20",
          "new_cases": 0
         },
         {
          "country": "South Korea",
          "date": "2/11/20",
          "new_cases": 1
         },
         {
          "country": "Spain",
          "date": "2/11/20",
          "new_cases": 0
         },
         {
          "country": "Sweden",
          "date": "2/11/20",
          "new_cases": 0
         },
         {
          "country": "United Kingdom",
          "date": "2/11/20",
          "new_cases": 0
         },
         {
          "country": "Austria",
          "date": "2/12/20",
          "new_cases": 0
         },
         {
          "country": "China",
          "date": "2/12/20",
          "new_cases": 373
         },
         {
          "country": "Denmark",
          "date": "2/12/20",
          "new_cases": 0
         },
         {
          "country": "France",
          "date": "2/12/20",
          "new_cases": 0
         },
         {
          "country": "Germany",
          "date": "2/12/20",
          "new_cases": 0
         },
         {
          "country": "Italy",
          "date": "2/12/20",
          "new_cases": 0
         },
         {
          "country": "Norway",
          "date": "2/12/20",
          "new_cases": 0
         },
         {
          "country": "South Korea",
          "date": "2/12/20",
          "new_cases": 0
         },
         {
          "country": "Spain",
          "date": "2/12/20",
          "new_cases": 0
         },
         {
          "country": "Sweden",
          "date": "2/12/20",
          "new_cases": 0
         },
         {
          "country": "United Kingdom",
          "date": "2/12/20",
          "new_cases": 1
         },
         {
          "country": "Austria",
          "date": "2/13/20",
          "new_cases": 0
         },
         {
          "country": "China",
          "date": "2/13/20",
          "new_cases": 15136
         },
         {
          "country": "Denmark",
          "date": "2/13/20",
          "new_cases": 0
         },
         {
          "country": "France",
          "date": "2/13/20",
          "new_cases": 0
         },
         {
          "country": "Germany",
          "date": "2/13/20",
          "new_cases": 0
         },
         {
          "country": "Italy",
          "date": "2/13/20",
          "new_cases": 0
         },
         {
          "country": "Norway",
          "date": "2/13/20",
          "new_cases": 0
         },
         {
          "country": "South Korea",
          "date": "2/13/20",
          "new_cases": 0
         },
         {
          "country": "Spain",
          "date": "2/13/20",
          "new_cases": 0
         },
         {
          "country": "Sweden",
          "date": "2/13/20",
          "new_cases": 0
         },
         {
          "country": "United Kingdom",
          "date": "2/13/20",
          "new_cases": 0
         },
         {
          "country": "Austria",
          "date": "2/14/20",
          "new_cases": 0
         },
         {
          "country": "China",
          "date": "2/14/20",
          "new_cases": 6463
         },
         {
          "country": "Denmark",
          "date": "2/14/20",
          "new_cases": 0
         },
         {
          "country": "France",
          "date": "2/14/20",
          "new_cases": 0
         },
         {
          "country": "Germany",
          "date": "2/14/20",
          "new_cases": 0
         },
         {
          "country": "Italy",
          "date": "2/14/20",
          "new_cases": 0
         },
         {
          "country": "Norway",
          "date": "2/14/20",
          "new_cases": 0
         },
         {
          "country": "South Korea",
          "date": "2/14/20",
          "new_cases": 0
         },
         {
          "country": "Spain",
          "date": "2/14/20",
          "new_cases": 0
         },
         {
          "country": "Sweden",
          "date": "2/14/20",
          "new_cases": 0
         },
         {
          "country": "United Kingdom",
          "date": "2/14/20",
          "new_cases": 0
         },
         {
          "country": "Austria",
          "date": "2/15/20",
          "new_cases": 0
         },
         {
          "country": "China",
          "date": "2/15/20",
          "new_cases": 2055
         },
         {
          "country": "Denmark",
          "date": "2/15/20",
          "new_cases": 0
         },
         {
          "country": "France",
          "date": "2/15/20",
          "new_cases": 1
         },
         {
          "country": "Germany",
          "date": "2/15/20",
          "new_cases": 0
         },
         {
          "country": "Italy",
          "date": "2/15/20",
          "new_cases": 0
         },
         {
          "country": "Norway",
          "date": "2/15/20",
          "new_cases": 0
         },
         {
          "country": "South Korea",
          "date": "2/15/20",
          "new_cases": 0
         },
         {
          "country": "Spain",
          "date": "2/15/20",
          "new_cases": 0
         },
         {
          "country": "Sweden",
          "date": "2/15/20",
          "new_cases": 0
         },
         {
          "country": "United Kingdom",
          "date": "2/15/20",
          "new_cases": 0
         },
         {
          "country": "Austria",
          "date": "2/16/20",
          "new_cases": 0
         },
         {
          "country": "China",
          "date": "2/16/20",
          "new_cases": 2100
         },
         {
          "country": "Denmark",
          "date": "2/16/20",
          "new_cases": 0
         },
         {
          "country": "France",
          "date": "2/16/20",
          "new_cases": 0
         },
         {
          "country": "Germany",
          "date": "2/16/20",
          "new_cases": 0
         },
         {
          "country": "Italy",
          "date": "2/16/20",
          "new_cases": 0
         },
         {
          "country": "Norway",
          "date": "2/16/20",
          "new_cases": 0
         },
         {
          "country": "South Korea",
          "date": "2/16/20",
          "new_cases": 1
         },
         {
          "country": "Spain",
          "date": "2/16/20",
          "new_cases": 0
         },
         {
          "country": "Sweden",
          "date": "2/16/20",
          "new_cases": 0
         },
         {
          "country": "United Kingdom",
          "date": "2/16/20",
          "new_cases": 0
         },
         {
          "country": "Austria",
          "date": "2/17/20",
          "new_cases": 0
         },
         {
          "country": "China",
          "date": "2/17/20",
          "new_cases": 1921
         },
         {
          "country": "Denmark",
          "date": "2/17/20",
          "new_cases": 0
         },
         {
          "country": "France",
          "date": "2/17/20",
          "new_cases": 0
         },
         {
          "country": "Germany",
          "date": "2/17/20",
          "new_cases": 0
         },
         {
          "country": "Italy",
          "date": "2/17/20",
          "new_cases": 0
         },
         {
          "country": "Norway",
          "date": "2/17/20",
          "new_cases": 0
         },
         {
          "country": "South Korea",
          "date": "2/17/20",
          "new_cases": 1
         },
         {
          "country": "Spain",
          "date": "2/17/20",
          "new_cases": 0
         },
         {
          "country": "Sweden",
          "date": "2/17/20",
          "new_cases": 0
         },
         {
          "country": "United Kingdom",
          "date": "2/17/20",
          "new_cases": 0
         },
         {
          "country": "Austria",
          "date": "2/18/20",
          "new_cases": 0
         },
         {
          "country": "China",
          "date": "2/18/20",
          "new_cases": 1777
         },
         {
          "country": "Denmark",
          "date": "2/18/20",
          "new_cases": 0
         },
         {
          "country": "France",
          "date": "2/18/20",
          "new_cases": 0
         },
         {
          "country": "Germany",
          "date": "2/18/20",
          "new_cases": 0
         },
         {
          "country": "Italy",
          "date": "2/18/20",
          "new_cases": 0
         },
         {
          "country": "Norway",
          "date": "2/18/20",
          "new_cases": 0
         },
         {
          "country": "South Korea",
          "date": "2/18/20",
          "new_cases": 1
         },
         {
          "country": "Spain",
          "date": "2/18/20",
          "new_cases": 0
         },
         {
          "country": "Sweden",
          "date": "2/18/20",
          "new_cases": 0
         },
         {
          "country": "United Kingdom",
          "date": "2/18/20",
          "new_cases": 0
         },
         {
          "country": "Austria",
          "date": "2/19/20",
          "new_cases": 0
         },
         {
          "country": "China",
          "date": "2/19/20",
          "new_cases": 408
         },
         {
          "country": "Denmark",
          "date": "2/19/20",
          "new_cases": 0
         },
         {
          "country": "France",
          "date": "2/19/20",
          "new_cases": 0
         },
         {
          "country": "Germany",
          "date": "2/19/20",
          "new_cases": 0
         },
         {
          "country": "Italy",
          "date": "2/19/20",
          "new_cases": 0
         },
         {
          "country": "Norway",
          "date": "2/19/20",
          "new_cases": 0
         },
         {
          "country": "South Korea",
          "date": "2/19/20",
          "new_cases": 0
         },
         {
          "country": "Spain",
          "date": "2/19/20",
          "new_cases": 0
         },
         {
          "country": "Sweden",
          "date": "2/19/20",
          "new_cases": 0
         },
         {
          "country": "United Kingdom",
          "date": "2/19/20",
          "new_cases": 0
         },
         {
          "country": "Austria",
          "date": "2/20/20",
          "new_cases": 0
         },
         {
          "country": "China",
          "date": "2/20/20",
          "new_cases": 458
         },
         {
          "country": "Denmark",
          "date": "2/20/20",
          "new_cases": 0
         },
         {
          "country": "France",
          "date": "2/20/20",
          "new_cases": 0
         },
         {
          "country": "Germany",
          "date": "2/20/20",
          "new_cases": 0
         },
         {
          "country": "Italy",
          "date": "2/20/20",
          "new_cases": 0
         },
         {
          "country": "Norway",
          "date": "2/20/20",
          "new_cases": 0
         },
         {
          "country": "South Korea",
          "date": "2/20/20",
          "new_cases": 73
         },
         {
          "country": "Spain",
          "date": "2/20/20",
          "new_cases": 0
         },
         {
          "country": "Sweden",
          "date": "2/20/20",
          "new_cases": 0
         },
         {
          "country": "United Kingdom",
          "date": "2/20/20",
          "new_cases": 0
         },
         {
          "country": "Austria",
          "date": "2/21/20",
          "new_cases": 0
         },
         {
          "country": "China",
          "date": "2/21/20",
          "new_cases": 473
         },
         {
          "country": "Denmark",
          "date": "2/21/20",
          "new_cases": 0
         },
         {
          "country": "France",
          "date": "2/21/20",
          "new_cases": 0
         },
         {
          "country": "Germany",
          "date": "2/21/20",
          "new_cases": 0
         },
         {
          "country": "Italy",
          "date": "2/21/20",
          "new_cases": 17
         },
         {
          "country": "Norway",
          "date": "2/21/20",
          "new_cases": 0
         },
         {
          "country": "South Korea",
          "date": "2/21/20",
          "new_cases": 100
         },
         {
          "country": "Spain",
          "date": "2/21/20",
          "new_cases": 0
         },
         {
          "country": "Sweden",
          "date": "2/21/20",
          "new_cases": 0
         },
         {
          "country": "United Kingdom",
          "date": "2/21/20",
          "new_cases": 0
         },
         {
          "country": "Austria",
          "date": "2/22/20",
          "new_cases": 0
         },
         {
          "country": "China",
          "date": "2/22/20",
          "new_cases": 1451
         },
         {
          "country": "Denmark",
          "date": "2/22/20",
          "new_cases": 0
         },
         {
          "country": "France",
          "date": "2/22/20",
          "new_cases": 0
         },
         {
          "country": "Germany",
          "date": "2/22/20",
          "new_cases": 0
         },
         {
          "country": "Italy",
          "date": "2/22/20",
          "new_cases": 42
         },
         {
          "country": "Norway",
          "date": "2/22/20",
          "new_cases": 0
         },
         {
          "country": "South Korea",
          "date": "2/22/20",
          "new_cases": 229
         },
         {
          "country": "Spain",
          "date": "2/22/20",
          "new_cases": 0
         },
         {
          "country": "Sweden",
          "date": "2/22/20",
          "new_cases": 0
         },
         {
          "country": "United Kingdom",
          "date": "2/22/20",
          "new_cases": 0
         },
         {
          "country": "Austria",
          "date": "2/23/20",
          "new_cases": 0
         },
         {
          "country": "China",
          "date": "2/23/20",
          "new_cases": 21
         },
         {
          "country": "Denmark",
          "date": "2/23/20",
          "new_cases": 0
         },
         {
          "country": "France",
          "date": "2/23/20",
          "new_cases": 0
         },
         {
          "country": "Germany",
          "date": "2/23/20",
          "new_cases": 0
         },
         {
          "country": "Italy",
          "date": "2/23/20",
          "new_cases": 93
         },
         {
          "country": "Norway",
          "date": "2/23/20",
          "new_cases": 0
         },
         {
          "country": "South Korea",
          "date": "2/23/20",
          "new_cases": 169
         },
         {
          "country": "Spain",
          "date": "2/23/20",
          "new_cases": 0
         },
         {
          "country": "Sweden",
          "date": "2/23/20",
          "new_cases": 0
         },
         {
          "country": "United Kingdom",
          "date": "2/23/20",
          "new_cases": 0
         },
         {
          "country": "Austria",
          "date": "2/24/20",
          "new_cases": 0
         },
         {
          "country": "China",
          "date": "2/24/20",
          "new_cases": 219
         },
         {
          "country": "Denmark",
          "date": "2/24/20",
          "new_cases": 0
         },
         {
          "country": "France",
          "date": "2/24/20",
          "new_cases": 0
         },
         {
          "country": "Germany",
          "date": "2/24/20",
          "new_cases": 0
         },
         {
          "country": "Italy",
          "date": "2/24/20",
          "new_cases": 74
         },
         {
          "country": "Norway",
          "date": "2/24/20",
          "new_cases": 0
         },
         {
          "country": "South Korea",
          "date": "2/24/20",
          "new_cases": 231
         },
         {
          "country": "Spain",
          "date": "2/24/20",
          "new_cases": 0
         },
         {
          "country": "Sweden",
          "date": "2/24/20",
          "new_cases": 0
         },
         {
          "country": "United Kingdom",
          "date": "2/24/20",
          "new_cases": 4
         },
         {
          "country": "Austria",
          "date": "2/25/20",
          "new_cases": 2
         },
         {
          "country": "China",
          "date": "2/25/20",
          "new_cases": 513
         },
         {
          "country": "Denmark",
          "date": "2/25/20",
          "new_cases": 0
         },
         {
          "country": "France",
          "date": "2/25/20",
          "new_cases": 2
         },
         {
          "country": "Germany",
          "date": "2/25/20",
          "new_cases": 1
         },
         {
          "country": "Italy",
          "date": "2/25/20",
          "new_cases": 93
         },
         {
          "country": "Norway",
          "date": "2/25/20",
          "new_cases": 0
         },
         {
          "country": "South Korea",
          "date": "2/25/20",
          "new_cases": 144
         },
         {
          "country": "Spain",
          "date": "2/25/20",
          "new_cases": 4
         },
         {
          "country": "Sweden",
          "date": "2/25/20",
          "new_cases": 0
         },
         {
          "country": "United Kingdom",
          "date": "2/25/20",
          "new_cases": 0
         },
         {
          "country": "Austria",
          "date": "2/26/20",
          "new_cases": 0
         },
         {
          "country": "China",
          "date": "2/26/20",
          "new_cases": 412
         },
         {
          "country": "Denmark",
          "date": "2/26/20",
          "new_cases": 0
         },
         {
          "country": "France",
          "date": "2/26/20",
          "new_cases": 4
         },
         {
          "country": "Germany",
          "date": "2/26/20",
          "new_cases": 10
         },
         {
          "country": "Italy",
          "date": "2/26/20",
          "new_cases": 131
         },
         {
          "country": "Norway",
          "date": "2/26/20",
          "new_cases": 1
         },
         {
          "country": "South Korea",
          "date": "2/26/20",
          "new_cases": 284
         },
         {
          "country": "Spain",
          "date": "2/26/20",
          "new_cases": 7
         },
         {
          "country": "Sweden",
          "date": "2/26/20",
          "new_cases": 1
         },
         {
          "country": "United Kingdom",
          "date": "2/26/20",
          "new_cases": 0
         },
         {
          "country": "Austria",
          "date": "2/27/20",
          "new_cases": 1
         },
         {
          "country": "China",
          "date": "2/27/20",
          "new_cases": 434
         },
         {
          "country": "Denmark",
          "date": "2/27/20",
          "new_cases": 1
         },
         {
          "country": "France",
          "date": "2/27/20",
          "new_cases": 20
         },
         {
          "country": "Germany",
          "date": "2/27/20",
          "new_cases": 19
         },
         {
          "country": "Italy",
          "date": "2/27/20",
          "new_cases": 202
         },
         {
          "country": "Norway",
          "date": "2/27/20",
          "new_cases": 0
         },
         {
          "country": "South Korea",
          "date": "2/27/20",
          "new_cases": 505
         },
         {
          "country": "Spain",
          "date": "2/27/20",
          "new_cases": 2
         },
         {
          "country": "Sweden",
          "date": "2/27/20",
          "new_cases": 5
         },
         {
          "country": "United Kingdom",
          "date": "2/27/20",
          "new_cases": 2
         },
         {
          "country": "Austria",
          "date": "2/28/20",
          "new_cases": 0
         },
         {
          "country": "China",
          "date": "2/28/20",
          "new_cases": 328
         },
         {
          "country": "Denmark",
          "date": "2/28/20",
          "new_cases": 0
         },
         {
          "country": "France",
          "date": "2/28/20",
          "new_cases": 19
         },
         {
          "country": "Germany",
          "date": "2/28/20",
          "new_cases": 2
         },
         {
          "country": "Italy",
          "date": "2/28/20",
          "new_cases": 233
         },
         {
          "country": "Norway",
          "date": "2/28/20",
          "new_cases": 5
         },
         {
          "country": "South Korea",
          "date": "2/28/20",
          "new_cases": 571
         },
         {
          "country": "Spain",
          "date": "2/28/20",
          "new_cases": 17
         },
         {
          "country": "Sweden",
          "date": "2/28/20",
          "new_cases": 0
         },
         {
          "country": "United Kingdom",
          "date": "2/28/20",
          "new_cases": 5
         },
         {
          "country": "Austria",
          "date": "2/29/20",
          "new_cases": 6
         },
         {
          "country": "China",
          "date": "2/29/20",
          "new_cases": 428
         },
         {
          "country": "Denmark",
          "date": "2/29/20",
          "new_cases": 2
         },
         {
          "country": "France",
          "date": "2/29/20",
          "new_cases": 43
         },
         {
          "country": "Germany",
          "date": "2/29/20",
          "new_cases": 31
         },
         {
          "country": "Italy",
          "date": "2/29/20",
          "new_cases": 240
         },
         {
          "country": "Norway",
          "date": "2/29/20",
          "new_cases": 9
         },
         {
          "country": "South Korea",
          "date": "2/29/20",
          "new_cases": 813
         },
         {
          "country": "Spain",
          "date": "2/29/20",
          "new_cases": 13
         },
         {
          "country": "Sweden",
          "date": "2/29/20",
          "new_cases": 5
         },
         {
          "country": "United Kingdom",
          "date": "2/29/20",
          "new_cases": 3
         },
         {
          "country": "Austria",
          "date": "3/1/20",
          "new_cases": 5
         },
         {
          "country": "China",
          "date": "3/1/20",
          "new_cases": 576
         },
         {
          "country": "Denmark",
          "date": "3/1/20",
          "new_cases": 1
         },
         {
          "country": "France",
          "date": "3/1/20",
          "new_cases": 30
         },
         {
          "country": "Germany",
          "date": "3/1/20",
          "new_cases": 51
         },
         {
          "country": "Italy",
          "date": "3/1/20",
          "new_cases": 566
         },
         {
          "country": "Norway",
          "date": "3/1/20",
          "new_cases": 4
         },
         {
          "country": "South Korea",
          "date": "3/1/20",
          "new_cases": 586
         },
         {
          "country": "Spain",
          "date": "3/1/20",
          "new_cases": 39
         },
         {
          "country": "Sweden",
          "date": "3/1/20",
          "new_cases": 2
         },
         {
          "country": "United Kingdom",
          "date": "3/1/20",
          "new_cases": 13
         },
         {
          "country": "Austria",
          "date": "3/2/20",
          "new_cases": 4
         },
         {
          "country": "China",
          "date": "3/2/20",
          "new_cases": 204
         },
         {
          "country": "Denmark",
          "date": "3/2/20",
          "new_cases": 0
         },
         {
          "country": "France",
          "date": "3/2/20",
          "new_cases": 61
         },
         {
          "country": "Germany",
          "date": "3/2/20",
          "new_cases": 29
         },
         {
          "country": "Italy",
          "date": "3/2/20",
          "new_cases": 342
         },
         {
          "country": "Norway",
          "date": "3/2/20",
          "new_cases": 6
         },
         {
          "country": "South Korea",
          "date": "3/2/20",
          "new_cases": 599
         },
         {
          "country": "Spain",
          "date": "3/2/20",
          "new_cases": 36
         },
         {
          "country": "Sweden",
          "date": "3/2/20",
          "new_cases": 1
         },
         {
          "country": "United Kingdom",
          "date": "3/2/20",
          "new_cases": 4
         },
         {
          "country": "Austria",
          "date": "3/3/20",
          "new_cases": 3
         },
         {
          "country": "China",
          "date": "3/3/20",
          "new_cases": 125
         },
         {
          "country": "Denmark",
          "date": "3/3/20",
          "new_cases": 2
         },
         {
          "country": "France",
          "date": "3/3/20",
          "new_cases": 13
         },
         {
          "country": "Germany",
          "date": "3/3/20",
          "new_cases": 37
         },
         {
          "country": "Italy",
          "date": "3/3/20",
          "new_cases": 466
         },
         {
          "country": "Norway",
          "date": "3/3/20",
          "new_cases": 7
         },
         {
          "country": "South Korea",
          "date": "3/3/20",
          "new_cases": 851
         },
         {
          "country": "Spain",
          "date": "3/3/20",
          "new_cases": 45
         },
         {
          "country": "Sweden",
          "date": "3/3/20",
          "new_cases": 6
         },
         {
          "country": "United Kingdom",
          "date": "3/3/20",
          "new_cases": 11
         },
         {
          "country": "Austria",
          "date": "3/4/20",
          "new_cases": 8
         },
         {
          "country": "China",
          "date": "3/4/20",
          "new_cases": 125
         },
         {
          "country": "Denmark",
          "date": "3/4/20",
          "new_cases": 5
         },
         {
          "country": "France",
          "date": "3/4/20",
          "new_cases": 84
         },
         {
          "country": "Germany",
          "date": "3/4/20",
          "new_cases": 66
         },
         {
          "country": "Italy",
          "date": "3/4/20",
          "new_cases": 587
         },
         {
          "country": "Norway",
          "date": "3/4/20",
          "new_cases": 24
         },
         {
          "country": "South Korea",
          "date": "3/4/20",
          "new_cases": 435
         },
         {
          "country": "Spain",
          "date": "3/4/20",
          "new_cases": 57
         },
         {
          "country": "Sweden",
          "date": "3/4/20",
          "new_cases": 14
         },
         {
          "country": "United Kingdom",
          "date": "3/4/20",
          "new_cases": 35
         },
         {
          "country": "Austria",
          "date": "3/5/20",
          "new_cases": 12
         },
         {
          "country": "China",
          "date": "3/5/20",
          "new_cases": 151
         },
         {
          "country": "Denmark",
          "date": "3/5/20",
          "new_cases": 0
         },
         {
          "country": "France",
          "date": "3/5/20",
          "new_cases": 92
         },
         {
          "country": "Germany",
          "date": "3/5/20",
          "new_cases": 220
         },
         {
          "country": "Italy",
          "date": "3/5/20",
          "new_cases": 769
         },
         {
          "country": "Norway",
          "date": "3/5/20",
          "new_cases": 31
         },
         {
          "country": "South Korea",
          "date": "3/5/20",
          "new_cases": 467
         },
         {
          "country": "Spain",
          "date": "3/5/20",
          "new_cases": 37
         },
         {
          "country": "Sweden",
          "date": "3/5/20",
          "new_cases": 59
         },
         {
          "country": "United Kingdom",
          "date": "3/5/20",
          "new_cases": 30
         },
         {
          "country": "Austria",
          "date": "3/6/20",
          "new_cases": 14
         },
         {
          "country": "China",
          "date": "3/6/20",
          "new_cases": 153
         },
         {
          "country": "Denmark",
          "date": "3/6/20",
          "new_cases": 13
         },
         {
          "country": "France",
          "date": "3/6/20",
          "new_cases": 276
         },
         {
          "country": "Germany",
          "date": "3/6/20",
          "new_cases": 188
         },
         {
          "country": "Italy",
          "date": "3/6/20",
          "new_cases": 778
         },
         {
          "country": "Norway",
          "date": "3/6/20",
          "new_cases": 21
         },
         {
          "country": "South Korea",
          "date": "3/6/20",
          "new_cases": 505
         },
         {
          "country": "Spain",
          "date": "3/6/20",
          "new_cases": 141
         },
         {
          "country": "Sweden",
          "date": "3/6/20",
          "new_cases": 7
         },
         {
          "country": "United Kingdom",
          "date": "3/6/20",
          "new_cases": 48
         },
         {
          "country": "Austria",
          "date": "3/7/20",
          "new_cases": 24
         },
         {
          "country": "China",
          "date": "3/7/20",
          "new_cases": 80
         },
         {
          "country": "Denmark",
          "date": "3/7/20",
          "new_cases": 0
         },
         {
          "country": "France",
          "date": "3/7/20",
          "new_cases": 301
         },
         {
          "country": "Germany",
          "date": "3/7/20",
          "new_cases": 129
         },
         {
          "country": "Italy",
          "date": "3/7/20",
          "new_cases": 1247
         },
         {
          "country": "Norway",
          "date": "3/7/20",
          "new_cases": 39
         },
         {
          "country": "South Korea",
          "date": "3/7/20",
          "new_cases": 448
         },
         {
          "country": "Spain",
          "date": "3/7/20",
          "new_cases": 100
         },
         {
          "country": "Sweden",
          "date": "3/7/20",
          "new_cases": 60
         },
         {
          "country": "United Kingdom",
          "date": "3/7/20",
          "new_cases": 43
         },
         {
          "country": "Austria",
          "date": "3/8/20",
          "new_cases": 25
         },
         {
          "country": "China",
          "date": "3/8/20",
          "new_cases": 53
         },
         {
          "country": "Denmark",
          "date": "3/8/20",
          "new_cases": 13
         },
         {
          "country": "France",
          "date": "3/8/20",
          "new_cases": 177
         },
         {
          "country": "Germany",
          "date": "3/8/20",
          "new_cases": 241
         },
         {
          "country": "Italy",
          "date": "3/8/20",
          "new_cases": 1492
         },
         {
          "country": "Norway",
          "date": "3/8/20",
          "new_cases": 29
         },
         {
          "country": "South Korea",
          "date": "3/8/20",
          "new_cases": 273
         },
         {
          "country": "Spain",
          "date": "3/8/20",
          "new_cases": 173
         },
         {
          "country": "Sweden",
          "date": "3/8/20",
          "new_cases": 42
         },
         {
          "country": "United Kingdom",
          "date": "3/8/20",
          "new_cases": 67
         },
         {
          "country": "Austria",
          "date": "3/9/20",
          "new_cases": 27
         },
         {
          "country": "China",
          "date": "3/9/20",
          "new_cases": 37
         },
         {
          "country": "Denmark",
          "date": "3/9/20",
          "new_cases": 55
         },
         {
          "country": "France",
          "date": "3/9/20",
          "new_cases": 83
         },
         {
          "country": "Germany",
          "date": "3/9/20",
          "new_cases": 136
         },
         {
          "country": "Italy",
          "date": "3/9/20",
          "new_cases": 1797
         },
         {
          "country": "Norway",
          "date": "3/9/20",
          "new_cases": 29
         },
         {
          "country": "South Korea",
          "date": "3/9/20",
          "new_cases": 164
         },
         {
          "country": "Spain",
          "date": "3/9/20",
          "new_cases": 400
         },
         {
          "country": "Sweden",
          "date": "3/9/20",
          "new_cases": 45
         },
         {
          "country": "United Kingdom",
          "date": "3/9/20",
          "new_cases": 48
         },
         {
          "country": "Austria",
          "date": "3/10/20",
          "new_cases": 51
         },
         {
          "country": "China",
          "date": "3/10/20",
          "new_cases": 27
         },
         {
          "country": "Denmark",
          "date": "3/10/20",
          "new_cases": 172
         },
         {
          "country": "France",
          "date": "3/10/20",
          "new_cases": 575
         },
         {
          "country": "Germany",
          "date": "3/10/20",
          "new_cases": 281
         },
         {
          "country": "Italy",
          "date": "3/10/20",
          "new_cases": 977
         },
         {
          "country": "Norway",
          "date": "3/10/20",
          "new_cases": 195
         },
         {
          "country": "South Korea",
          "date": "3/10/20",
          "new_cases": 35
         },
         {
          "country": "Spain",
          "date": "3/10/20",
          "new_cases": 622
         },
         {
          "country": "Sweden",
          "date": "3/10/20",
          "new_cases": 107
         },
         {
          "country": "United Kingdom",
          "date": "3/10/20",
          "new_cases": 62
         },
         {
          "country": "Austria",
          "date": "3/11/20",
          "new_cases": 64
         },
         {
          "country": "China",
          "date": "3/11/20",
          "new_cases": 34
         },
         {
          "country": "Denmark",
          "date": "3/11/20",
          "new_cases": 180
         },
         {
          "country": "France",
          "date": "3/11/20",
          "new_cases": 498
         },
         {
          "country": "Germany",
          "date": "3/11/20",
          "new_cases": 451
         },
         {
          "country": "Italy",
          "date": "3/11/20",
          "new_cases": 2313
         },
         {
          "country": "Norway",
          "date": "3/11/20",
          "new_cases": 198
         },
         {
          "country": "South Korea",
          "date": "3/11/20",
          "new_cases": 242
         },
         {
          "country": "Spain",
          "date": "3/11/20",
          "new_cases": 582
         },
         {
          "country": "Sweden",
          "date": "3/11/20",
          "new_cases": 145
         },
         {
          "country": "United Kingdom",
          "date": "3/11/20",
          "new_cases": 75
         },
         {
          "country": "Austria",
          "date": "3/12/20",
          "new_cases": 56
         },
         {
          "country": "China",
          "date": "3/12/20",
          "new_cases": 11
         },
         {
          "country": "Denmark",
          "date": "3/12/20",
          "new_cases": 173
         },
         {
          "country": "France",
          "date": "3/12/20",
          "new_cases": 0
         },
         {
          "country": "Germany",
          "date": "3/12/20",
          "new_cases": 170
         },
         {
          "country": "Italy",
          "date": "3/12/20",
          "new_cases": 0
         },
         {
          "country": "Norway",
          "date": "3/12/20",
          "new_cases": 104
         },
         {
          "country": "South Korea",
          "date": "3/12/20",
          "new_cases": 114
         },
         {
          "country": "Spain",
          "date": "3/12/20",
          "new_cases": 0
         },
         {
          "country": "Sweden",
          "date": "3/12/20",
          "new_cases": 99
         },
         {
          "country": "United Kingdom",
          "date": "3/12/20",
          "new_cases": 0
         },
         {
          "country": "Austria",
          "date": "3/13/20",
          "new_cases": 202
         },
         {
          "country": "China",
          "date": "3/13/20",
          "new_cases": 13
         },
         {
          "country": "Denmark",
          "date": "3/13/20",
          "new_cases": 187
         },
         {
          "country": "France",
          "date": "3/13/20",
          "new_cases": 1388
         },
         {
          "country": "Germany",
          "date": "3/13/20",
          "new_cases": 1597
         },
         {
          "country": "Italy",
          "date": "3/13/20",
          "new_cases": 5198
         },
         {
          "country": "Norway",
          "date": "3/13/20",
          "new_cases": 294
         },
         {
          "country": "South Korea",
          "date": "3/13/20",
          "new_cases": 110
         },
         {
          "country": "Spain",
          "date": "3/13/20",
          "new_cases": 2955
         },
         {
          "country": "Sweden",
          "date": "3/13/20",
          "new_cases": 215
         },
         {
          "country": "United Kingdom",
          "date": "3/13/20",
          "new_cases": 343
         },
         {
          "country": "Austria",
          "date": "3/14/20",
          "new_cases": 151
         },
         {
          "country": "China",
          "date": "3/14/20",
          "new_cases": 32
         },
         {
          "country": "Denmark",
          "date": "3/14/20",
          "new_cases": 32
         },
         {
          "country": "France",
          "date": "3/14/20",
          "new_cases": 809
         },
         {
          "country": "Germany",
          "date": "3/14/20",
          "new_cases": 910
         },
         {
          "country": "Italy",
          "date": "3/14/20",
          "new_cases": 3497
         },
         {
          "country": "Norway",
          "date": "3/14/20",
          "new_cases": 94
         },
         {
          "country": "South Korea",
          "date": "3/14/20",
          "new_cases": 107
         },
         {
          "country": "Spain",
          "date": "3/14/20",
          "new_cases": 1159
         },
         {
          "country": "Sweden",
          "date": "3/14/20",
          "new_cases": 147
         },
         {
          "country": "United Kingdom",
          "date": "3/14/20",
          "new_cases": 342
         },
         {
          "country": "Austria",
          "date": "3/15/20",
          "new_cases": 205
         },
         {
          "country": "China",
          "date": "3/15/20",
          "new_cases": 26
         },
         {
          "country": "Denmark",
          "date": "3/15/20",
          "new_cases": 39
         },
         {
          "country": "France",
          "date": "3/15/20",
          "new_cases": 36
         },
         {
          "country": "Germany",
          "date": "3/15/20",
          "new_cases": 1210
         },
         {
          "country": "Italy",
          "date": "3/15/20",
          "new_cases": 3590
         },
         {
          "country": "Norway",
          "date": "3/15/20",
          "new_cases": 131
         },
         {
          "country": "South Korea",
          "date": "3/15/20",
          "new_cases": 76
         },
         {
          "country": "Spain",
          "date": "3/15/20",
          "new_cases": 1407
         },
         {
          "country": "Sweden",
          "date": "3/15/20",
          "new_cases": 61
         },
         {
          "country": "United Kingdom",
          "date": "3/15/20",
          "new_cases": 1
         },
         {
          "country": "Austria",
          "date": "3/16/20",
          "new_cases": 158
         },
         {
          "country": "China",
          "date": "3/16/20",
          "new_cases": 30
         },
         {
          "country": "Denmark",
          "date": "3/16/20",
          "new_cases": 58
         },
         {
          "country": "France",
          "date": "3/16/20",
          "new_cases": 2145
         },
         {
          "country": "Germany",
          "date": "3/16/20",
          "new_cases": 1477
         },
         {
          "country": "Italy",
          "date": "3/16/20",
          "new_cases": 3233
         },
         {
          "country": "Norway",
          "date": "3/16/20",
          "new_cases": 112
         },
         {
          "country": "South Korea",
          "date": "3/16/20",
          "new_cases": 74
         },
         {
          "country": "Spain",
          "date": "3/16/20",
          "new_cases": 2144
         },
         {
          "country": "Sweden",
          "date": "3/16/20",
          "new_cases": 81
         },
         {
          "country": "United Kingdom",
          "date": "3/16/20",
          "new_cases": 406
         },
         {
          "country": "Austria",
          "date": "3/17/20",
          "new_cases": 314
         },
         {
          "country": "China",
          "date": "3/17/20",
          "new_cases": 25
         },
         {
          "country": "Denmark",
          "date": "3/17/20",
          "new_cases": 92
         },
         {
          "country": "France",
          "date": "3/17/20",
          "new_cases": 1031
         },
         {
          "country": "Germany",
          "date": "3/17/20",
          "new_cases": 1985
         },
         {
          "country": "Italy",
          "date": "3/17/20",
          "new_cases": 3526
         },
         {
          "country": "Norway",
          "date": "3/17/20",
          "new_cases": 130
         },
         {
          "country": "South Korea",
          "date": "3/17/20",
          "new_cases": 84
         },
         {
          "country": "Spain",
          "date": "3/17/20",
          "new_cases": 1806
         },
         {
          "country": "Sweden",
          "date": "3/17/20",
          "new_cases": 87
         },
         {
          "country": "United Kingdom",
          "date": "3/17/20",
          "new_cases": 409
         },
         {
          "country": "Austria",
          "date": "3/18/20",
          "new_cases": 314
         },
         {
          "country": "China",
          "date": "3/18/20",
          "new_cases": 44
         },
         {
          "country": "Denmark",
          "date": "3/18/20",
          "new_cases": 91
         },
         {
          "country": "France",
          "date": "3/18/20",
          "new_cases": 1406
         },
         {
          "country": "Germany",
          "date": "3/18/20",
          "new_cases": 3070
         },
         {
          "country": "Italy",
          "date": "3/18/20",
          "new_cases": 4207
         },
         {
          "country": "Norway",
          "date": "3/18/20",
          "new_cases": 87
         },
         {
          "country": "South Korea",
          "date": "3/18/20",
          "new_cases": 93
         },
         {
          "country": "Spain",
          "date": "3/18/20",
          "new_cases": 2162
         },
         {
          "country": "Sweden",
          "date": "3/18/20",
          "new_cases": 89
         },
         {
          "country": "United Kingdom",
          "date": "3/18/20",
          "new_cases": 682
         },
         {
          "country": "Austria",
          "date": "3/19/20",
          "new_cases": 367
         },
         {
          "country": "China",
          "date": "3/19/20",
          "new_cases": 54
         },
         {
          "country": "Denmark",
          "date": "3/19/20",
          "new_cases": 109
         },
         {
          "country": "France",
          "date": "3/19/20",
          "new_cases": 1842
         },
         {
          "country": "Germany",
          "date": "3/19/20",
          "new_cases": 2993
         },
         {
          "country": "Italy",
          "date": "3/19/20",
          "new_cases": 5322
         },
         {
          "country": "Norway",
          "date": "3/19/20",
          "new_cases": 196
         },
         {
          "country": "South Korea",
          "date": "3/19/20",
          "new_cases": 152
         },
         {
          "country": "Spain",
          "date": "3/19/20",
          "new_cases": 4053
         },
         {
          "country": "Sweden",
          "date": "3/19/20",
          "new_cases": 160
         },
         {
          "country": "United Kingdom",
          "date": "3/19/20",
          "new_cases": 74
         },
         {
          "country": "Austria",
          "date": "3/20/20",
          "new_cases": 375
         },
         {
          "country": "China",
          "date": "3/20/20",
          "new_cases": 94
         },
         {
          "country": "Denmark",
          "date": "3/20/20",
          "new_cases": 112
         },
         {
          "country": "France",
          "date": "3/20/20",
          "new_cases": 1779
         },
         {
          "country": "Germany",
          "date": "3/20/20",
          "new_cases": 4528
         },
         {
          "country": "Italy",
          "date": "3/20/20",
          "new_cases": 5986
         },
         {
          "country": "Norway",
          "date": "3/20/20",
          "new_cases": 168
         },
         {
          "country": "South Korea",
          "date": "3/20/20",
          "new_cases": 87
         },
         {
          "country": "Spain",
          "date": "3/20/20",
          "new_cases": 2447
         },
         {
          "country": "Sweden",
          "date": "3/20/20",
          "new_cases": 200
         },
         {
          "country": "United Kingdom",
          "date": "3/20/20",
          "new_cases": 1298
         },
         {
          "country": "Austria",
          "date": "3/21/20",
          "new_cases": 426
         },
         {
          "country": "China",
          "date": "3/21/20",
          "new_cases": 55
         },
         {
          "country": "Denmark",
          "date": "3/21/20",
          "new_cases": 83
         },
         {
          "country": "France",
          "date": "3/21/20",
          "new_cases": 1705
         },
         {
          "country": "Germany",
          "date": "3/21/20",
          "new_cases": 2365
         },
         {
          "country": "Italy",
          "date": "3/21/20",
          "new_cases": 6557
         },
         {
          "country": "Norway",
          "date": "3/21/20",
          "new_cases": 204
         },
         {
          "country": "South Korea",
          "date": "3/21/20",
          "new_cases": 147
         },
         {
          "country": "Spain",
          "date": "3/21/20",
          "new_cases": 4964
         },
         {
          "country": "Sweden",
          "date": "3/21/20",
          "new_cases": 124
         },
         {
          "country": "United Kingdom",
          "date": "3/21/20",
          "new_cases": 1053
         },
         {
          "country": "Austria",
          "date": "3/22/20",
          "new_cases": 430
         },
         {
          "country": "China",
          "date": "3/22/20",
          "new_cases": 92
         },
         {
          "country": "Denmark",
          "date": "3/22/20",
          "new_cases": 94
         },
         {
          "country": "France",
          "date": "3/22/20",
          "new_cases": 1745
         },
         {
          "country": "Germany",
          "date": "3/22/20",
          "new_cases": 2660
         },
         {
          "country": "Italy",
          "date": "3/22/20",
          "new_cases": 5560
         },
         {
          "country": "Norway",
          "date": "3/22/20",
          "new_cases": 265
         },
         {
          "country": "South Korea",
          "date": "3/22/20",
          "new_cases": 98
         },
         {
          "country": "Spain",
          "date": "3/22/20",
          "new_cases": 3394
         },
         {
          "country": "Sweden",
          "date": "3/22/20",
          "new_cases": 171
         },
         {
          "country": "United Kingdom",
          "date": "3/22/20",
          "new_cases": 674
         }
        ]
       },
       "encoding": {
        "column": {
         "field": "country",
         "type": "nominal"
        },
        "x": {
         "field": "date",
         "type": "temporal"
        },
        "y": {
         "field": "new_cases",
         "type": "quantitative"
        }
       },
       "height": 140,
       "mark": "bar",
       "selection": {
        "selector001": {
         "bind": "scales",
         "encodings": [
          "x",
          "y"
         ],
         "type": "interval"
        }
       },
       "title": "Number of new cases by Country",
       "width": 250
      },
      "image/png": "[encoded data removed]",
      "text/plain": [
       "<VegaLite 3 object>\n",
       "\n",
       "If you see this message, it means the renderer has not been properly enabled\n",
       "for the frontend that you are using. For more information, see\n",
       "https://altair-viz.github.io/user_guide/troubleshooting.html\n"
      ]
     },
     "execution_count": 7,
     "metadata": {},
     "output_type": "execute_result"
    }
   ],
   "source": [
    "#hide_input\n",
    "new_cases_df = overview_data['newcases'].reset_index().rename(columns={'Country/Region':'country'})\n",
    "new_cases_melted_df = pd.melt(new_cases_df, id_vars=[\"country\"], var_name=\"date\", value_name=\"new_cases\")\n",
    "\n",
    "alt.Chart(new_cases_melted_df).mark_bar().encode(\n",
    "     x='date:T',\n",
    "     y='new_cases:Q',\n",
    "     #color='country:N',\n",
    "     column='country:N',\n",
    "     #facet=alt.Facet('country:O', columns=1),\n",
    "    #tooltip=['country','data', 'new_cases']\n",
    "    #tooltip=[alt.Tooltip(title='matches played')]\n",
    "\n",
    "    ).properties(\n",
    "    title='Number of new cases by Country',\n",
    "    width=250,\n",
    "    height=140\n",
    ").interactive()"
   ]
  },
  {
   "cell_type": "markdown",
   "metadata": {},
   "source": [
    "## Compare country trajectories\n",
    "\n"
   ]
  },
  {
   "cell_type": "code",
   "execution_count": 8,
   "metadata": {},
   "outputs": [],
   "source": [
    "#hide\n",
    "url = ('https://raw.githubusercontent.com/CSSEGISandData/COVID-19/master/csse_covid_19_data/'\n",
    "       'csse_covid_19_time_series/time_series_19-covid-Confirmed.csv')\n",
    "df = pd.read_csv(url)\n",
    "# rename countries\n",
    "df['Country/Region'] = df['Country/Region'].replace({'Korea, South': 'South Korea'})\n",
    "df = df[~df['Country/Region'].isin(['Cruise Ship'])]   # Remove Ships\n",
    "dt_cols = df.columns[~df.columns.isin(['Province/State', 'Country/Region', 'Lat', 'Long'])]"
   ]
  },
  {
   "cell_type": "code",
   "execution_count": 9,
   "metadata": {},
   "outputs": [],
   "source": [
    "#hide\n",
    "dff = (df.groupby('Country/Region')[dt_cols].sum()\n",
    "       .stack().reset_index(name='Confirmed Cases')\n",
    "       .rename(columns={'level_1': 'Date', 'Country/Region': 'Country'}))\n",
    "dff['Date'] = pd.to_datetime(dff['Date'], format='%m/%d/%y')"
   ]
  },
  {
   "cell_type": "code",
   "execution_count": 10,
   "metadata": {},
   "outputs": [],
   "source": [
    "#hide\n",
    "MIN_CASES = 700\n",
    "LAST_DATE = dt_cols[-1]\n",
    "# sometimes last column may be empty, then go backwards\n",
    "for c in dt_cols[::-1]:\n",
    "    if not df[c].fillna(0).eq(0).all():\n",
    "        LAST_DATE = c\n",
    "        break\n",
    "countries = dff[dff['Date'].eq(LAST_DATE) & dff['Confirmed Cases'].ge(MIN_CASES) & \n",
    "        dff['Country'].ne('China')\n",
    "       ].sort_values(by='Confirmed Cases', ascending=False)\n",
    "countries = countries['Country'].values\n",
    "\n",
    "\n",
    "SINCE_CASES_NUM = 100\n",
    "dff2 = dff[dff['Country'].isin(countries)].copy()\n",
    "days_since = (dff2.assign(F=dff2['Confirmed Cases'].ge(SINCE_CASES_NUM))\n",
    "              .set_index('Date')\n",
    "              .groupby('Country')['F'].transform('idxmax'))\n",
    "dff2['Days since 100 cases'] = (dff2['Date'] - days_since.values).dt.days.values\n",
    "dff2 = dff2[dff2['Days since 100 cases'].ge(0)]"
   ]
  },
  {
   "cell_type": "code",
   "execution_count": 11,
   "metadata": {},
   "outputs": [],
   "source": [
    "#hide\n",
    "def get_country_colors(x):\n",
    "    mapping = {\n",
    "        'Italy': 'black',\n",
    "        'Iran': '#A1BA59',\n",
    "        'South Korea': '#E45756',\n",
    "        'Spain': '#F58518',\n",
    "        'Germany': '#9D755D',\n",
    "        'France': '#F58518',\n",
    "        'US': '#2495D3',\n",
    "        'Switzerland': '#9D755D',\n",
    "        'Norway': '#C1B7AD',\n",
    "        'United Kingdom': '#2495D3',\n",
    "        'Netherlands': '#C1B7AD',\n",
    "        'Sweden': '#C1B7AD',\n",
    "        'Belgium': '#C1B7AD',\n",
    "        'Denmark': '#C1B7AD',\n",
    "        'Austria': '#9D755D',\n",
    "        'Japan': '#9467bd'}\n",
    "    return mapping.get(x, '#C1B7AD')"
   ]
  },
  {
   "cell_type": "code",
   "execution_count": 12,
   "metadata": {},
   "outputs": [],
   "source": [
    "#hide\n",
    "baseline_countries = ['Italy', 'South Korea', 'Japan']\n",
    "max_date = dff2['Date'].max()\n",
    "\n",
    "dff2 = dff2[dff2['Country'].isin(['Spain', 'Germany', 'Austria','Italy'])]\n",
    "\n",
    "color_domain = list(dff2['Country'].unique())\n",
    "color_range = list(map(get_country_colors, color_domain))\n",
    "\n"
   ]
  },
  {
   "cell_type": "code",
   "execution_count": 13,
   "metadata": {},
   "outputs": [],
   "source": [
    "#hide\n",
    "def make_since_chart(highlight_countries=[], baseline_countries=baseline_countries, bind='legend', init=[{'Country': x} for x in baseline_countries] ):\n",
    "    #selection = alt.selection_multi(fields=['Country'], bind='legend', \n",
    "    #                                init=[{'Country': x} for x in highlight_countries + baseline_countries])\n",
    "\n",
    "    selection = alt.selection_multi(fields=['Country'])\n",
    "    \n",
    "    base = alt.Chart(dff2, width=550).encode(\n",
    "        x='Days since 100 cases:Q',\n",
    "        y=alt.Y('Confirmed Cases:Q', scale=alt.Scale(type='log')),\n",
    "        color=alt.Color(\n",
    "            'Country:N',\n",
    "            scale=alt.Scale(domain=color_domain, range=color_range),\n",
    "            legend=alt.Legend(columns=2)),\n",
    "        tooltip=list(dff2),\n",
    "        opacity=alt.condition(selection, alt.value(1), alt.value(0.05))\n",
    "    )\n",
    "    max_day = dff2['Days since 100 cases'].max()\n",
    "    ref = pd.DataFrame([[x, 100*1.33**x] for x in range(max_day+1)], columns=['Days since 100 cases', 'Confirmed Cases'])\n",
    "    base_ref = alt.Chart(ref).encode(x='Days since 100 cases:Q', y='Confirmed Cases:Q')\n",
    "    return (\n",
    "        base_ref.mark_line(color='black', opacity=.5, strokeDash=[3,3]) +\n",
    "        base_ref.transform_filter(\n",
    "            alt.datum['Days since 100 cases'] >= max_day\n",
    "        ).mark_text(dy=-6, align='right', fontSize=10, text='33% Daily Growth') +\n",
    "        base.mark_line(point=True).add_selection(selection) + \n",
    "        base.transform_filter(\n",
    "            alt.datum['Date'] >= int(max_date.timestamp() * 1000)\n",
    "        ).mark_text(dy=-8, align='right', fontWeight='bold').encode(text='Country:N')\n",
    "    ).properties(\n",
    "        title=f\"Compare {', '.join(highlight_countries)} trajectory with {', '.join(baseline_countries)}\"\n",
    "    )"
   ]
  },
  {
   "cell_type": "code",
   "execution_count": 14,
   "metadata": {},
   "outputs": [
    {
     "data": {
      "application/vnd.vegalite.v3+json": {
       "$schema": "https://vega.github.io/schema/vega-lite/v3.4.0.json",
       "config": {
        "mark": {
         "tooltip": null
        },
        "view": {
         "height": 300,
         "width": 400
        }
       },
       "data": {
        "name": "data-23685a90df2dc184a5ecf611f7b8fe3f"
       },
       "datasets": {
        "data-23685a90df2dc184a5ecf611f7b8fe3f": [
         {
          "Confirmed Cases": 100,
          "Days since 100 cases": 0
         },
         {
          "Confirmed Cases": 133,
          "Days since 100 cases": 1
         },
         {
          "Confirmed Cases": 176.89000000000001,
          "Days since 100 cases": 2
         },
         {
          "Confirmed Cases": 235.26370000000006,
          "Days since 100 cases": 3
         },
         {
          "Confirmed Cases": 312.90072100000003,
          "Days since 100 cases": 4
         },
         {
          "Confirmed Cases": 416.1579589300001,
          "Days since 100 cases": 5
         },
         {
          "Confirmed Cases": 553.4900853769002,
          "Days since 100 cases": 6
         },
         {
          "Confirmed Cases": 736.1418135512773,
          "Days since 100 cases": 7
         },
         {
          "Confirmed Cases": 979.0686120231989,
          "Days since 100 cases": 8
         },
         {
          "Confirmed Cases": 1302.1612539908547,
          "Days since 100 cases": 9
         },
         {
          "Confirmed Cases": 1731.8744678078367,
          "Days since 100 cases": 10
         },
         {
          "Confirmed Cases": 2303.393042184423,
          "Days since 100 cases": 11
         },
         {
          "Confirmed Cases": 3063.5127461052825,
          "Days since 100 cases": 12
         },
         {
          "Confirmed Cases": 4074.471952320026,
          "Days since 100 cases": 13
         },
         {
          "Confirmed Cases": 5419.047696585635,
          "Days since 100 cases": 14
         },
         {
          "Confirmed Cases": 7207.3334364588945,
          "Days since 100 cases": 15
         },
         {
          "Confirmed Cases": 9585.75347049033,
          "Days since 100 cases": 16
         },
         {
          "Confirmed Cases": 12749.05211575214,
          "Days since 100 cases": 17
         },
         {
          "Confirmed Cases": 16956.239313950347,
          "Days since 100 cases": 18
         },
         {
          "Confirmed Cases": 22551.79828755396,
          "Days since 100 cases": 19
         },
         {
          "Confirmed Cases": 29993.891722446773,
          "Days since 100 cases": 20
         },
         {
          "Confirmed Cases": 39891.875990854205,
          "Days since 100 cases": 21
         },
         {
          "Confirmed Cases": 53056.195067836095,
          "Days since 100 cases": 22
         },
         {
          "Confirmed Cases": 70564.73944022201,
          "Days since 100 cases": 23
         },
         {
          "Confirmed Cases": 93851.1034554953,
          "Days since 100 cases": 24
         },
         {
          "Confirmed Cases": 124821.96759580875,
          "Days since 100 cases": 25
         },
         {
          "Confirmed Cases": 166013.21690242563,
          "Days since 100 cases": 26
         },
         {
          "Confirmed Cases": 220797.5784802261,
          "Days since 100 cases": 27
         },
         {
          "Confirmed Cases": 293660.7793787007,
          "Days since 100 cases": 28
         }
        ],
        "data-89131bf4aa248899e37aa361d30d9b0d": [
         {
          "Confirmed Cases": 104,
          "Country": "Austria",
          "Date": "2020-03-08T00:00:00",
          "Days since 100 cases": 0
         },
         {
          "Confirmed Cases": 131,
          "Country": "Austria",
          "Date": "2020-03-09T00:00:00",
          "Days since 100 cases": 1
         },
         {
          "Confirmed Cases": 182,
          "Country": "Austria",
          "Date": "2020-03-10T00:00:00",
          "Days since 100 cases": 2
         },
         {
          "Confirmed Cases": 246,
          "Country": "Austria",
          "Date": "2020-03-11T00:00:00",
          "Days since 100 cases": 3
         },
         {
          "Confirmed Cases": 302,
          "Country": "Austria",
          "Date": "2020-03-12T00:00:00",
          "Days since 100 cases": 4
         },
         {
          "Confirmed Cases": 504,
          "Country": "Austria",
          "Date": "2020-03-13T00:00:00",
          "Days since 100 cases": 5
         },
         {
          "Confirmed Cases": 655,
          "Country": "Austria",
          "Date": "2020-03-14T00:00:00",
          "Days since 100 cases": 6
         },
         {
          "Confirmed Cases": 860,
          "Country": "Austria",
          "Date": "2020-03-15T00:00:00",
          "Days since 100 cases": 7
         },
         {
          "Confirmed Cases": 1018,
          "Country": "Austria",
          "Date": "2020-03-16T00:00:00",
          "Days since 100 cases": 8
         },
         {
          "Confirmed Cases": 1332,
          "Country": "Austria",
          "Date": "2020-03-17T00:00:00",
          "Days since 100 cases": 9
         },
         {
          "Confirmed Cases": 1646,
          "Country": "Austria",
          "Date": "2020-03-18T00:00:00",
          "Days since 100 cases": 10
         },
         {
          "Confirmed Cases": 2013,
          "Country": "Austria",
          "Date": "2020-03-19T00:00:00",
          "Days since 100 cases": 11
         },
         {
          "Confirmed Cases": 2388,
          "Country": "Austria",
          "Date": "2020-03-20T00:00:00",
          "Days since 100 cases": 12
         },
         {
          "Confirmed Cases": 2814,
          "Country": "Austria",
          "Date": "2020-03-21T00:00:00",
          "Days since 100 cases": 13
         },
         {
          "Confirmed Cases": 3244,
          "Country": "Austria",
          "Date": "2020-03-22T00:00:00",
          "Days since 100 cases": 14
         },
         {
          "Confirmed Cases": 130,
          "Country": "Germany",
          "Date": "2020-03-01T00:00:00",
          "Days since 100 cases": 0
         },
         {
          "Confirmed Cases": 159,
          "Country": "Germany",
          "Date": "2020-03-02T00:00:00",
          "Days since 100 cases": 1
         },
         {
          "Confirmed Cases": 196,
          "Country": "Germany",
          "Date": "2020-03-03T00:00:00",
          "Days since 100 cases": 2
         },
         {
          "Confirmed Cases": 262,
          "Country": "Germany",
          "Date": "2020-03-04T00:00:00",
          "Days since 100 cases": 3
         },
         {
          "Confirmed Cases": 482,
          "Country": "Germany",
          "Date": "2020-03-05T00:00:00",
          "Days since 100 cases": 4
         },
         {
          "Confirmed Cases": 670,
          "Country": "Germany",
          "Date": "2020-03-06T00:00:00",
          "Days since 100 cases": 5
         },
         {
          "Confirmed Cases": 799,
          "Country": "Germany",
          "Date": "2020-03-07T00:00:00",
          "Days since 100 cases": 6
         },
         {
          "Confirmed Cases": 1040,
          "Country": "Germany",
          "Date": "2020-03-08T00:00:00",
          "Days since 100 cases": 7
         },
         {
          "Confirmed Cases": 1176,
          "Country": "Germany",
          "Date": "2020-03-09T00:00:00",
          "Days since 100 cases": 8
         },
         {
          "Confirmed Cases": 1457,
          "Country": "Germany",
          "Date": "2020-03-10T00:00:00",
          "Days since 100 cases": 9
         },
         {
          "Confirmed Cases": 1908,
          "Country": "Germany",
          "Date": "2020-03-11T00:00:00",
          "Days since 100 cases": 10
         },
         {
          "Confirmed Cases": 2078,
          "Country": "Germany",
          "Date": "2020-03-12T00:00:00",
          "Days since 100 cases": 11
         },
         {
          "Confirmed Cases": 3675,
          "Country": "Germany",
          "Date": "2020-03-13T00:00:00",
          "Days since 100 cases": 12
         },
         {
          "Confirmed Cases": 4585,
          "Country": "Germany",
          "Date": "2020-03-14T00:00:00",
          "Days since 100 cases": 13
         },
         {
          "Confirmed Cases": 5795,
          "Country": "Germany",
          "Date": "2020-03-15T00:00:00",
          "Days since 100 cases": 14
         },
         {
          "Confirmed Cases": 7272,
          "Country": "Germany",
          "Date": "2020-03-16T00:00:00",
          "Days since 100 cases": 15
         },
         {
          "Confirmed Cases": 9257,
          "Country": "Germany",
          "Date": "2020-03-17T00:00:00",
          "Days since 100 cases": 16
         },
         {
          "Confirmed Cases": 12327,
          "Country": "Germany",
          "Date": "2020-03-18T00:00:00",
          "Days since 100 cases": 17
         },
         {
          "Confirmed Cases": 15320,
          "Country": "Germany",
          "Date": "2020-03-19T00:00:00",
          "Days since 100 cases": 18
         },
         {
          "Confirmed Cases": 19848,
          "Country": "Germany",
          "Date": "2020-03-20T00:00:00",
          "Days since 100 cases": 19
         },
         {
          "Confirmed Cases": 22213,
          "Country": "Germany",
          "Date": "2020-03-21T00:00:00",
          "Days since 100 cases": 20
         },
         {
          "Confirmed Cases": 24873,
          "Country": "Germany",
          "Date": "2020-03-22T00:00:00",
          "Days since 100 cases": 21
         },
         {
          "Confirmed Cases": 155,
          "Country": "Italy",
          "Date": "2020-02-23T00:00:00",
          "Days since 100 cases": 0
         },
         {
          "Confirmed Cases": 229,
          "Country": "Italy",
          "Date": "2020-02-24T00:00:00",
          "Days since 100 cases": 1
         },
         {
          "Confirmed Cases": 322,
          "Country": "Italy",
          "Date": "2020-02-25T00:00:00",
          "Days since 100 cases": 2
         },
         {
          "Confirmed Cases": 453,
          "Country": "Italy",
          "Date": "2020-02-26T00:00:00",
          "Days since 100 cases": 3
         },
         {
          "Confirmed Cases": 655,
          "Country": "Italy",
          "Date": "2020-02-27T00:00:00",
          "Days since 100 cases": 4
         },
         {
          "Confirmed Cases": 888,
          "Country": "Italy",
          "Date": "2020-02-28T00:00:00",
          "Days since 100 cases": 5
         },
         {
          "Confirmed Cases": 1128,
          "Country": "Italy",
          "Date": "2020-02-29T00:00:00",
          "Days since 100 cases": 6
         },
         {
          "Confirmed Cases": 1694,
          "Country": "Italy",
          "Date": "2020-03-01T00:00:00",
          "Days since 100 cases": 7
         },
         {
          "Confirmed Cases": 2036,
          "Country": "Italy",
          "Date": "2020-03-02T00:00:00",
          "Days since 100 cases": 8
         },
         {
          "Confirmed Cases": 2502,
          "Country": "Italy",
          "Date": "2020-03-03T00:00:00",
          "Days since 100 cases": 9
         },
         {
          "Confirmed Cases": 3089,
          "Country": "Italy",
          "Date": "2020-03-04T00:00:00",
          "Days since 100 cases": 10
         },
         {
          "Confirmed Cases": 3858,
          "Country": "Italy",
          "Date": "2020-03-05T00:00:00",
          "Days since 100 cases": 11
         },
         {
          "Confirmed Cases": 4636,
          "Country": "Italy",
          "Date": "2020-03-06T00:00:00",
          "Days since 100 cases": 12
         },
         {
          "Confirmed Cases": 5883,
          "Country": "Italy",
          "Date": "2020-03-07T00:00:00",
          "Days since 100 cases": 13
         },
         {
          "Confirmed Cases": 7375,
          "Country": "Italy",
          "Date": "2020-03-08T00:00:00",
          "Days since 100 cases": 14
         },
         {
          "Confirmed Cases": 9172,
          "Country": "Italy",
          "Date": "2020-03-09T00:00:00",
          "Days since 100 cases": 15
         },
         {
          "Confirmed Cases": 10149,
          "Country": "Italy",
          "Date": "2020-03-10T00:00:00",
          "Days since 100 cases": 16
         },
         {
          "Confirmed Cases": 12462,
          "Country": "Italy",
          "Date": "2020-03-11T00:00:00",
          "Days since 100 cases": 17
         },
         {
          "Confirmed Cases": 12462,
          "Country": "Italy",
          "Date": "2020-03-12T00:00:00",
          "Days since 100 cases": 18
         },
         {
          "Confirmed Cases": 17660,
          "Country": "Italy",
          "Date": "2020-03-13T00:00:00",
          "Days since 100 cases": 19
         },
         {
          "Confirmed Cases": 21157,
          "Country": "Italy",
          "Date": "2020-03-14T00:00:00",
          "Days since 100 cases": 20
         },
         {
          "Confirmed Cases": 24747,
          "Country": "Italy",
          "Date": "2020-03-15T00:00:00",
          "Days since 100 cases": 21
         },
         {
          "Confirmed Cases": 27980,
          "Country": "Italy",
          "Date": "2020-03-16T00:00:00",
          "Days since 100 cases": 22
         },
         {
          "Confirmed Cases": 31506,
          "Country": "Italy",
          "Date": "2020-03-17T00:00:00",
          "Days since 100 cases": 23
         },
         {
          "Confirmed Cases": 35713,
          "Country": "Italy",
          "Date": "2020-03-18T00:00:00",
          "Days since 100 cases": 24
         },
         {
          "Confirmed Cases": 41035,
          "Country": "Italy",
          "Date": "2020-03-19T00:00:00",
          "Days since 100 cases": 25
         },
         {
          "Confirmed Cases": 47021,
          "Country": "Italy",
          "Date": "2020-03-20T00:00:00",
          "Days since 100 cases": 26
         },
         {
          "Confirmed Cases": 53578,
          "Country": "Italy",
          "Date": "2020-03-21T00:00:00",
          "Days since 100 cases": 27
         },
         {
          "Confirmed Cases": 59138,
          "Country": "Italy",
          "Date": "2020-03-22T00:00:00",
          "Days since 100 cases": 28
         },
         {
          "Confirmed Cases": 120,
          "Country": "Spain",
          "Date": "2020-03-02T00:00:00",
          "Days since 100 cases": 0
         },
         {
          "Confirmed Cases": 165,
          "Country": "Spain",
          "Date": "2020-03-03T00:00:00",
          "Days since 100 cases": 1
         },
         {
          "Confirmed Cases": 222,
          "Country": "Spain",
          "Date": "2020-03-04T00:00:00",
          "Days since 100 cases": 2
         },
         {
          "Confirmed Cases": 259,
          "Country": "Spain",
          "Date": "2020-03-05T00:00:00",
          "Days since 100 cases": 3
         },
         {
          "Confirmed Cases": 400,
          "Country": "Spain",
          "Date": "2020-03-06T00:00:00",
          "Days since 100 cases": 4
         },
         {
          "Confirmed Cases": 500,
          "Country": "Spain",
          "Date": "2020-03-07T00:00:00",
          "Days since 100 cases": 5
         },
         {
          "Confirmed Cases": 673,
          "Country": "Spain",
          "Date": "2020-03-08T00:00:00",
          "Days since 100 cases": 6
         },
         {
          "Confirmed Cases": 1073,
          "Country": "Spain",
          "Date": "2020-03-09T00:00:00",
          "Days since 100 cases": 7
         },
         {
          "Confirmed Cases": 1695,
          "Country": "Spain",
          "Date": "2020-03-10T00:00:00",
          "Days since 100 cases": 8
         },
         {
          "Confirmed Cases": 2277,
          "Country": "Spain",
          "Date": "2020-03-11T00:00:00",
          "Days since 100 cases": 9
         },
         {
          "Confirmed Cases": 2277,
          "Country": "Spain",
          "Date": "2020-03-12T00:00:00",
          "Days since 100 cases": 10
         },
         {
          "Confirmed Cases": 5232,
          "Country": "Spain",
          "Date": "2020-03-13T00:00:00",
          "Days since 100 cases": 11
         },
         {
          "Confirmed Cases": 6391,
          "Country": "Spain",
          "Date": "2020-03-14T00:00:00",
          "Days since 100 cases": 12
         },
         {
          "Confirmed Cases": 7798,
          "Country": "Spain",
          "Date": "2020-03-15T00:00:00",
          "Days since 100 cases": 13
         },
         {
          "Confirmed Cases": 9942,
          "Country": "Spain",
          "Date": "2020-03-16T00:00:00",
          "Days since 100 cases": 14
         },
         {
          "Confirmed Cases": 11748,
          "Country": "Spain",
          "Date": "2020-03-17T00:00:00",
          "Days since 100 cases": 15
         },
         {
          "Confirmed Cases": 13910,
          "Country": "Spain",
          "Date": "2020-03-18T00:00:00",
          "Days since 100 cases": 16
         },
         {
          "Confirmed Cases": 17963,
          "Country": "Spain",
          "Date": "2020-03-19T00:00:00",
          "Days since 100 cases": 17
         },
         {
          "Confirmed Cases": 20410,
          "Country": "Spain",
          "Date": "2020-03-20T00:00:00",
          "Days since 100 cases": 18
         },
         {
          "Confirmed Cases": 25374,
          "Country": "Spain",
          "Date": "2020-03-21T00:00:00",
          "Days since 100 cases": 19
         },
         {
          "Confirmed Cases": 28768,
          "Country": "Spain",
          "Date": "2020-03-22T00:00:00",
          "Days since 100 cases": 20
         }
        ]
       },
       "layer": [
        {
         "encoding": {
          "x": {
           "field": "Days since 100 cases",
           "type": "quantitative"
          },
          "y": {
           "field": "Confirmed Cases",
           "type": "quantitative"
          }
         },
         "mark": {
          "color": "black",
          "opacity": 0.5,
          "strokeDash": [
           3,
           3
          ],
          "type": "line"
         }
        },
        {
         "encoding": {
          "x": {
           "field": "Days since 100 cases",
           "type": "quantitative"
          },
          "y": {
           "field": "Confirmed Cases",
           "type": "quantitative"
          }
         },
         "mark": {
          "align": "right",
          "dy": -6,
          "fontSize": 10,
          "text": "33% Daily Growth",
          "type": "text"
         },
         "transform": [
          {
           "filter": "(datum['Days since 100 cases'] >= 28)"
          }
         ]
        },
        {
         "data": {
          "name": "data-89131bf4aa248899e37aa361d30d9b0d"
         },
         "encoding": {
          "color": {
           "field": "Country",
           "legend": {
            "columns": 2
           },
           "scale": {
            "domain": [
             "Austria",
             "Germany",
             "Italy",
             "Spain"
            ],
            "range": [
             "#9D755D",
             "#9D755D",
             "black",
             "#F58518"
            ]
           },
           "type": "nominal"
          },
          "opacity": {
           "condition": {
            "selection": "selector002",
            "value": 1
           },
           "value": 0.05
          },
          "tooltip": [
           {
            "field": "Country",
            "type": "nominal"
           },
           {
            "field": "Date",
            "type": "temporal"
           },
           {
            "field": "Confirmed Cases",
            "type": "quantitative"
           },
           {
            "field": "Days since 100 cases",
            "type": "quantitative"
           }
          ],
          "x": {
           "field": "Days since 100 cases",
           "type": "quantitative"
          },
          "y": {
           "field": "Confirmed Cases",
           "scale": {
            "type": "log"
           },
           "type": "quantitative"
          }
         },
         "mark": {
          "point": true,
          "type": "line"
         },
         "selection": {
          "selector002": {
           "fields": [
            "Country"
           ],
           "type": "multi"
          }
         },
         "width": 550
        },
        {
         "data": {
          "name": "data-89131bf4aa248899e37aa361d30d9b0d"
         },
         "encoding": {
          "color": {
           "field": "Country",
           "legend": {
            "columns": 2
           },
           "scale": {
            "domain": [
             "Austria",
             "Germany",
             "Italy",
             "Spain"
            ],
            "range": [
             "#9D755D",
             "#9D755D",
             "black",
             "#F58518"
            ]
           },
           "type": "nominal"
          },
          "opacity": {
           "condition": {
            "selection": "selector002",
            "value": 1
           },
           "value": 0.05
          },
          "text": {
           "field": "Country",
           "type": "nominal"
          },
          "tooltip": [
           {
            "field": "Country",
            "type": "nominal"
           },
           {
            "field": "Date",
            "type": "temporal"
           },
           {
            "field": "Confirmed Cases",
            "type": "quantitative"
           },
           {
            "field": "Days since 100 cases",
            "type": "quantitative"
           }
          ],
          "x": {
           "field": "Days since 100 cases",
           "type": "quantitative"
          },
          "y": {
           "field": "Confirmed Cases",
           "scale": {
            "type": "log"
           },
           "type": "quantitative"
          }
         },
         "mark": {
          "align": "right",
          "dy": -8,
          "fontWeight": "bold",
          "type": "text"
         },
         "transform": [
          {
           "filter": "(datum['Date'] >= 1584835200000)"
          }
         ],
         "width": 550
        }
       ],
       "title": "Compare Spain, Germany, Austria, Italy trajectory with Italy, South Korea, Japan"
      },
      "image/png": "[encoded data removed]",
      "text/plain": [
       "<VegaLite 3 object>\n",
       "\n",
       "If you see this message, it means the renderer has not been properly enabled\n",
       "for the frontend that you are using. For more information, see\n",
       "https://altair-viz.github.io/user_guide/troubleshooting.html\n"
      ]
     },
     "execution_count": 14,
     "metadata": {},
     "output_type": "execute_result"
    }
   ],
   "source": [
    "#hide_input\n",
    "chart2 = make_since_chart(highlight_countries=['Spain', 'Germany', 'Austria','Italy'])\n",
    "chart2"
   ]
  },
  {
   "cell_type": "code",
   "execution_count": 15,
   "metadata": {
    "ExecuteTime": {
     "end_time": "2020-03-21T19:24:14.157848Z",
     "start_time": "2020-03-21T19:24:11.570716Z"
    }
   },
   "outputs": [],
   "source": [
    "#hide \n",
    "data = pd.read_csv(\"https://raw.githubusercontent.com/CSSEGISandData/COVID-19/master/csse_covid_19_data/csse_covid_19_time_series/time_series_19-covid-Deaths.csv\", error_bad_lines=False)\n",
    "data = data.drop(columns=[\"Lat\", \"Long\"])\n",
    "data = data.melt(id_vars= [\"Province/State\", \"Country/Region\"])\n",
    "data = pd.DataFrame(data.groupby(['Country/Region', \"variable\"]).sum())\n",
    "data.reset_index(inplace=True)  \n",
    "data = data.rename(columns={\"Country/Region\": \"location\", \"variable\": \"date\", \"value\": \"total_cases\"})\n",
    "data['date'] =pd.to_datetime(data.date)\n",
    "data = data.sort_values(by = \"date\")\n",
    "data.loc[data.location == \"US\",\"location\"] = \"United States\"\n",
    "data.loc[data.location == \"Korea, South\",\"location\"] = \"South Korea\"\n",
    "\n",
    "data_pwt = pd.read_stata(\"https://www.rug.nl/ggdc/docs/pwt91.dta\")\n",
    "\n",
    "filter1 = data_pwt[\"year\"] == 2017\n",
    "data_pop = data_pwt[filter1]\n",
    "data_pop = data_pop[[\"country\",\"pop\"]]\n",
    "data_pop.loc[data_pop.country == \"Republic of Korea\",\"country\"] = \"South Korea\"\n",
    "data_pop.loc[data_pop.country == \"Iran (Islamic Republic of)\",\"country\"] = \"Iran\"\n",
    "#data_pop.loc[data_pop.country == \"United States\",\"country\"] = \"US\"\n",
    "\n",
    "\n",
    "\n",
    "# per habitant\n",
    "data_pc = data.copy()\n",
    "# countries = [\"China\", \"Italy\", \"Spain\", \"France\", \"United Kingdom\", \"Germany\", \n",
    "#              \"Portugal\", \"United States\", \"Singapore\",\"South Korea\", \"Japan\", \n",
    "#              \"Brazil\",\"Iran\"]\n",
    "\n",
    "data_countries = []\n",
    "data_countries_pc = []\n",
    "\n",
    "# compute per habitant\n",
    "for i in int_countries:\n",
    "    data_pc.loc[data_pc.location == i,\"total_cases\"] = data_pc.loc[data_pc.location == i,\"total_cases\"]/float(data_pop.loc[data_pop.country == i, \"pop\"])\n",
    "\n",
    "    # get each country time series\n",
    "filter1 = data_pc[\"total_cases\"] > 1\n",
    "for i in int_countries:\n",
    "    filter_country = data_pc[\"location\"]== i\n",
    "    data_countries_pc.append(data_pc[filter_country & filter1])"
   ]
  },
  {
   "cell_type": "markdown",
   "metadata": {},
   "source": [
    "## Covid-19 deaths per million inhabitants\n",
    "\n",
    "source: https://covid19dashboards.com/covid-compare-permillion/"
   ]
  },
  {
   "cell_type": "code",
   "execution_count": 16,
   "metadata": {
    "ExecuteTime": {
     "end_time": "2020-03-21T19:25:18.338214Z",
     "start_time": "2020-03-21T19:25:18.202640Z"
    },
    "jupyter": {
     "source_hidden": true
    }
   },
   "outputs": [
    {
     "data": {
      "application/vnd.vegalite.v3+json": {
       "$schema": "https://vega.github.io/schema/vega-lite/v3.4.0.json",
       "config": {
        "axis": {
         "labelFontSize": 15,
         "titleFontSize": 18
        },
        "mark": {
         "tooltip": null
        },
        "title": {
         "fontSize": 20
        },
        "view": {
         "height": 300,
         "width": 400
        }
       },
       "data": {
        "name": "data-ce54b12b61d675fc8a03c76e70997c22"
       },
       "datasets": {
        "data-46e792c21b458ace41bb6619bc6d4ad3": [
         {
          "label": "Doubles every 2 days",
          "x_coord": 6,
          "y_coord": 4
         },
         {
          "label": "Doubles every 4 days",
          "x_coord": 17,
          "y_coord": 3.5
         },
         {
          "label": "Doubles every 12 days",
          "x_coord": 25,
          "y_coord": 2.5
         }
        ],
        "data-ce54b12b61d675fc8a03c76e70997c22": [
         {
          "date": "2020-02-14T00:00:00",
          "index": 2028,
          "location": "China",
          "log_cases": 0.07612059720949207,
          "n_days": 0,
          "total_cases": 1.079092701879236,
          "trend_12days": 0,
          "trend_12days_label": "Doubles every 12 days",
          "trend_2days": 0,
          "trend_2days_label": "Doubles every 2 days",
          "trend_4days": 0,
          "trend_4days_label": "Doubles evey 4 days"
         },
         {
          "date": "2020-02-15T00:00:00",
          "index": 2029,
          "location": "China",
          "log_cases": 0.16537578414312687,
          "n_days": 1,
          "total_cases": 1.1798363992275933,
          "trend_12days": 0.08333333333333333,
          "trend_12days_label": "Doubles every 12 days",
          "trend_2days": 0.5,
          "trend_2days_label": "Doubles every 2 days",
          "trend_4days": 0.25,
          "trend_4days_label": "Doubles evey 4 days"
         },
         {
          "date": "2020-02-16T00:00:00",
          "index": 2030,
          "location": "China",
          "log_cases": 0.22546968611410462,
          "n_days": 2,
          "total_cases": 1.2529110529380216,
          "trend_12days": 0.16666666666666666,
          "trend_12days_label": "Doubles every 12 days",
          "trend_2days": 1,
          "trend_2days_label": "Doubles every 2 days",
          "trend_4days": 0.5,
          "trend_4days_label": "Doubles evey 4 days"
         },
         {
          "date": "2020-02-17T00:00:00",
          "index": 2031,
          "location": "China",
          "log_cases": 0.27947730019573575,
          "n_days": 3,
          "total_cases": 1.3224383933615358,
          "trend_12days": 0.25,
          "trend_12days_label": "Doubles every 12 days",
          "trend_2days": 1.5,
          "trend_2days_label": "Doubles every 2 days",
          "trend_4days": 0.75,
          "trend_4days_label": "Doubles evey 4 days"
         },
         {
          "date": "2020-02-18T00:00:00",
          "index": 2032,
          "location": "China",
          "log_cases": 0.3513986406160175,
          "n_days": 4,
          "total_cases": 1.4210537027377448,
          "trend_12days": 0.3333333333333333,
          "trend_12days_label": "Doubles every 12 days",
          "trend_2days": 2,
          "trend_2days_label": "Doubles every 2 days",
          "trend_4days": 1,
          "trend_4days_label": "Doubles evey 4 days"
         },
         {
          "date": "2020-02-19T00:00:00",
          "index": 2033,
          "location": "China",
          "log_cases": 0.40628009792838926,
          "n_days": 5,
          "total_cases": 1.501222983022001,
          "trend_12days": 0.4166666666666667,
          "trend_12days_label": "Doubles every 12 days",
          "trend_2days": 2.5,
          "trend_2days_label": "Doubles every 2 days",
          "trend_4days": 1.25,
          "trend_4days_label": "Doubles evey 4 days"
         },
         {
          "date": "2020-02-20T00:00:00",
          "index": 2035,
          "location": "China",
          "log_cases": 0.4623351938220698,
          "n_days": 6,
          "total_cases": 1.5877774272227023,
          "trend_12days": 0.5,
          "trend_12days_label": "Doubles every 12 days",
          "trend_2days": 3,
          "trend_2days_label": "Doubles every 2 days",
          "trend_4days": 1.5,
          "trend_4days_label": "Doubles evey 4 days"
         },
         {
          "date": "2020-02-21T00:00:00",
          "index": 2036,
          "location": "China",
          "log_cases": 0.4623351938220698,
          "n_days": 7,
          "total_cases": 1.5877774272227023,
          "trend_12days": 0.5833333333333334,
          "trend_12days_label": "Doubles every 12 days",
          "trend_2days": 3.5,
          "trend_2days_label": "Doubles every 2 days",
          "trend_4days": 1.75,
          "trend_4days_label": "Doubles evey 4 days"
         },
         {
          "date": "2020-02-22T00:00:00",
          "index": 2037,
          "location": "China",
          "log_cases": 0.5499793762079397,
          "n_days": 8,
          "total_cases": 1.7332172719861758,
          "trend_12days": 0.6666666666666666,
          "trend_12days_label": "Doubles every 12 days",
          "trend_2days": 4,
          "trend_2days_label": "Doubles every 2 days",
          "trend_4days": 2,
          "trend_4days_label": "Doubles evey 4 days"
         },
         {
          "date": "2020-02-23T00:00:00",
          "index": 2038,
          "location": "China",
          "log_cases": 0.5507977068591716,
          "n_days": 9,
          "total_cases": 1.7346361973009414,
          "trend_12days": 0.75,
          "trend_12days_label": "Doubles every 12 days",
          "trend_2days": 4.5,
          "trend_2days_label": "Doubles every 2 days",
          "trend_4days": 2.25,
          "trend_4days_label": "Doubles evey 4 days"
         },
         {
          "date": "2020-02-24T00:00:00",
          "index": 2039,
          "location": "China",
          "log_cases": 0.6103391005501883,
          "n_days": 10,
          "total_cases": 1.8410555959083612,
          "trend_12days": 0.8333333333333334,
          "trend_12days_label": "Doubles every 12 days",
          "trend_2days": 5,
          "trend_2days_label": "Doubles every 2 days",
          "trend_4days": 2.5,
          "trend_4days_label": "Doubles evey 4 days"
         },
         {
          "date": "2020-02-25T00:00:00",
          "index": 2040,
          "location": "China",
          "log_cases": 0.6369566415501442,
          "n_days": 11,
          "total_cases": 1.8907179819251572,
          "trend_12days": 0.9166666666666666,
          "trend_12days_label": "Doubles every 12 days",
          "trend_2days": 5.5,
          "trend_2days_label": "Doubles every 2 days",
          "trend_4days": 2.75,
          "trend_4days_label": "Doubles evey 4 days"
         },
         {
          "date": "2020-02-26T00:00:00",
          "index": 2041,
          "location": "China",
          "log_cases": 0.6562809143765469,
          "n_days": 12,
          "total_cases": 1.9276100401090626,
          "trend_12days": 1,
          "trend_12days_label": "Doubles every 12 days",
          "trend_2days": 6,
          "trend_2days_label": "Doubles every 2 days",
          "trend_4days": 3,
          "trend_4days_label": "Doubles evey 4 days"
         },
         {
          "date": "2020-02-27T00:00:00",
          "index": 2042,
          "location": "China",
          "log_cases": 0.6668978912781155,
          "n_days": 13,
          "total_cases": 1.9481844571731637,
          "trend_12days": 1.0833333333333333,
          "trend_12days_label": "Doubles every 12 days",
          "trend_2days": 6.5,
          "trend_2days_label": "Doubles every 2 days",
          "trend_4days": 3.25,
          "trend_4days_label": "Doubles evey 4 days"
         },
         {
          "date": "2020-02-28T00:00:00",
          "index": 2043,
          "location": "China",
          "log_cases": 0.6827941797656105,
          "n_days": 14,
          "total_cases": 1.9794008140980068,
          "trend_12days": 1.1666666666666667,
          "trend_12days_label": "Doubles every 12 days",
          "trend_2days": 7,
          "trend_2days_label": "Doubles every 2 days",
          "trend_4days": 3.5,
          "trend_4days_label": "Doubles evey 4 days"
         },
         {
          "date": "2020-02-29T00:00:00",
          "index": 2044,
          "location": "China",
          "log_cases": 0.6994997397590507,
          "n_days": 15,
          "total_cases": 2.0127455589949985,
          "trend_12days": 1.25,
          "trend_12days_label": "Doubles every 12 days",
          "trend_2days": 7.5,
          "trend_2days_label": "Doubles every 2 days",
          "trend_4days": 3.75,
          "trend_4days_label": "Doubles evey 4 days"
         },
         {
          "date": "2020-03-01T00:00:00",
          "index": 2052,
          "location": "China",
          "log_cases": 0.7117612351183141,
          "n_days": 16,
          "total_cases": 2.0375767520033965,
          "trend_12days": 1.3333333333333333,
          "trend_12days_label": "Doubles every 12 days",
          "trend_2days": 8,
          "trend_2days_label": "Doubles every 2 days",
          "trend_4days": 4,
          "trend_4days_label": "Doubles evey 4 days"
         },
         {
          "date": "2020-03-02T00:00:00",
          "index": 2063,
          "location": "China",
          "log_cases": 0.7262792917053493,
          "n_days": 17,
          "total_cases": 2.067374183613474,
          "trend_12days": 1.4166666666666667,
          "trend_12days_label": "Doubles every 12 days",
          "trend_2days": 8.5,
          "trend_2days_label": "Doubles every 2 days",
          "trend_4days": 4.25,
          "trend_4days_label": "Doubles evey 4 days"
         },
         {
          "date": "2020-03-03T00:00:00",
          "index": 2067,
          "location": "China",
          "log_cases": 0.7375402876878938,
          "n_days": 18,
          "total_cases": 2.090786451307106,
          "trend_12days": 1.5,
          "trend_12days_label": "Doubles every 12 days",
          "trend_2days": 9,
          "trend_2days_label": "Doubles every 2 days",
          "trend_4days": 4.5,
          "trend_4days_label": "Doubles evey 4 days"
         },
         {
          "date": "2020-03-04T00:00:00",
          "index": 2068,
          "location": "China",
          "log_cases": 0.7496820894649479,
          "n_days": 19,
          "total_cases": 2.116327106972887,
          "trend_12days": 1.5833333333333333,
          "trend_12days_label": "Doubles every 12 days",
          "trend_2days": 9.5,
          "trend_2days_label": "Doubles every 2 days",
          "trend_4days": 4.75,
          "trend_4days_label": "Doubles evey 4 days"
         },
         {
          "date": "2020-03-05T00:00:00",
          "index": 2069,
          "location": "China",
          "log_cases": 0.760352414111485,
          "n_days": 20,
          "total_cases": 2.1390299120091365,
          "trend_12days": 1.6666666666666667,
          "trend_12days_label": "Doubles every 12 days",
          "trend_2days": 10,
          "trend_2days_label": "Doubles every 2 days",
          "trend_4days": 5,
          "trend_4days_label": "Doubles evey 4 days"
         },
         {
          "date": "2020-03-06T00:00:00",
          "index": 2070,
          "location": "China",
          "log_cases": 0.7699250239317755,
          "n_days": 21,
          "total_cases": 2.1596043290732374,
          "trend_12days": 1.75,
          "trend_12days_label": "Doubles every 12 days",
          "trend_2days": 10.5,
          "trend_2days_label": "Doubles every 2 days",
          "trend_4days": 5.25,
          "trend_4days_label": "Doubles evey 4 days"
         },
         {
          "date": "2020-03-07T00:00:00",
          "index": 2071,
          "location": "China",
          "log_cases": 0.7790813992177621,
          "n_days": 22,
          "total_cases": 2.179469283479956,
          "trend_12days": 1.8333333333333333,
          "trend_12days_label": "Doubles every 12 days",
          "trend_2days": 11,
          "trend_2days_label": "Doubles every 2 days",
          "trend_4days": 5.5,
          "trend_4days_label": "Doubles evey 4 days"
         },
         {
          "date": "2020-03-08T00:00:00",
          "index": 2072,
          "location": "China",
          "log_cases": 0.7881546954234369,
          "n_days": 23,
          "total_cases": 2.1993342378866743,
          "trend_12days": 1.9166666666666667,
          "trend_12days_label": "Doubles every 12 days",
          "trend_2days": 11.5,
          "trend_2days_label": "Doubles every 2 days",
          "trend_4days": 5.75,
          "trend_4days_label": "Doubles evey 4 days"
         },
         {
          "date": "2020-03-09T00:00:00",
          "index": 2073,
          "location": "China",
          "log_cases": 0.7955466622332777,
          "n_days": 24,
          "total_cases": 2.2156518790064785,
          "trend_12days": 2,
          "trend_12days_label": "Doubles every 12 days",
          "trend_2days": 12,
          "trend_2days_label": "Doubles every 2 days",
          "trend_4days": 6,
          "trend_4days_label": "Doubles evey 4 days"
         },
         {
          "date": "2020-03-10T00:00:00",
          "index": 2053,
          "location": "China",
          "log_cases": 0.8006568617921528,
          "n_days": 25,
          "total_cases": 2.2270032815246035,
          "trend_12days": 2.0833333333333335,
          "trend_12days_label": "Doubles every 12 days",
          "trend_2days": 12.5,
          "trend_2days_label": "Doubles every 2 days",
          "trend_4days": 6.25,
          "trend_4days_label": "Doubles evey 4 days"
         },
         {
          "date": "2020-03-11T00:00:00",
          "index": 2054,
          "location": "China",
          "log_cases": 0.8076410171658169,
          "n_days": 26,
          "total_cases": 2.242611459987025,
          "trend_12days": 2.1666666666666665,
          "trend_12days_label": "Doubles every 12 days",
          "trend_2days": 13,
          "trend_2days_label": "Doubles every 2 days",
          "trend_4days": 6.5,
          "trend_4days_label": "Doubles evey 4 days"
         },
         {
          "date": "2020-03-12T00:00:00",
          "index": 2055,
          "location": "China",
          "log_cases": 0.8111148877049378,
          "n_days": 27,
          "total_cases": 2.2504155492182356,
          "trend_12days": 2.25,
          "trend_12days_label": "Doubles every 12 days",
          "trend_2days": 13.5,
          "trend_2days_label": "Doubles every 2 days",
          "trend_4days": 6.75,
          "trend_4days_label": "Doubles evey 4 days"
         },
         {
          "date": "2020-03-13T00:00:00",
          "index": 2056,
          "location": "China",
          "log_cases": 0.8136337807244217,
          "n_days": 28,
          "total_cases": 2.256091250477298,
          "trend_12days": 2.3333333333333335,
          "trend_12days_label": "Doubles every 12 days",
          "trend_2days": 14,
          "trend_2days_label": "Doubles every 2 days",
          "trend_4days": 7,
          "trend_4days_label": "Doubles evey 4 days"
         },
         {
          "date": "2020-03-14T00:00:00",
          "index": 2057,
          "location": "China",
          "log_cases": 0.8177134976649812,
          "n_days": 29,
          "total_cases": 2.2653142650232745,
          "trend_12days": 2.4166666666666665,
          "trend_12days_label": "Doubles every 12 days",
          "trend_2days": 14.5,
          "trend_2days_label": "Doubles every 2 days",
          "trend_4days": 7.25,
          "trend_4days_label": "Doubles evey 4 days"
         },
         {
          "date": "2020-03-15T00:00:00",
          "index": 2058,
          "location": "China",
          "log_cases": 0.8208404545593573,
          "n_days": 30,
          "total_cases": 2.2724088915971024,
          "trend_12days": 2.5,
          "trend_12days_label": "Doubles every 12 days",
          "trend_2days": 15,
          "trend_2days_label": "Doubles every 2 days",
          "trend_4days": 7.5,
          "trend_4days_label": "Doubles evey 4 days"
         },
         {
          "date": "2020-03-16T00:00:00",
          "index": 2059,
          "location": "China",
          "log_cases": 0.8252018321892255,
          "n_days": 31,
          "total_cases": 2.2823413688004615,
          "trend_12days": 2.5833333333333335,
          "trend_12days_label": "Doubles every 12 days",
          "trend_2days": 15.5,
          "trend_2days_label": "Doubles every 2 days",
          "trend_4days": 7.75,
          "trend_4days_label": "Doubles evey 4 days"
         },
         {
          "date": "2020-03-17T00:00:00",
          "index": 2060,
          "location": "China",
          "log_cases": 0.8292347211669013,
          "n_days": 32,
          "total_cases": 2.291564383346438,
          "trend_12days": 2.6666666666666665,
          "trend_12days_label": "Doubles every 12 days",
          "trend_2days": 16,
          "trend_2days_label": "Doubles every 2 days",
          "trend_4days": 8,
          "trend_4days_label": "Doubles evey 4 days"
         },
         {
          "date": "2020-03-18T00:00:00",
          "index": 2061,
          "location": "China",
          "log_cases": 0.8326345080917467,
          "n_days": 33,
          "total_cases": 2.299368472577649,
          "trend_12days": 2.75,
          "trend_12days_label": "Doubles every 12 days",
          "trend_2days": 16.5,
          "trend_2days_label": "Doubles every 2 days",
          "trend_4days": 8.25,
          "trend_4days_label": "Doubles evey 4 days"
         },
         {
          "date": "2020-03-19T00:00:00",
          "index": 2062,
          "location": "China",
          "log_cases": 0.8350998406192995,
          "n_days": 34,
          "total_cases": 2.3050441738367113,
          "trend_12days": 2.8333333333333335,
          "trend_12days_label": "Doubles every 12 days",
          "trend_2days": 17,
          "trend_2days_label": "Doubles every 2 days",
          "trend_4days": 8.5,
          "trend_4days_label": "Doubles evey 4 days"
         },
         {
          "date": "2020-03-20T00:00:00",
          "index": 2064,
          "location": "China",
          "log_cases": 0.8363302314235508,
          "n_days": 35,
          "total_cases": 2.3078820244662426,
          "trend_12days": 2.9166666666666665,
          "trend_12days_label": "Doubles every 12 days",
          "trend_2days": 17.5,
          "trend_2days_label": "Doubles every 2 days",
          "trend_4days": 8.75,
          "trend_4days_label": "Doubles evey 4 days"
         },
         {
          "date": "2020-03-21T00:00:00",
          "index": 2065,
          "location": "China",
          "log_cases": 0.8381729837877607,
          "n_days": 36,
          "total_cases": 2.312138800410539,
          "trend_12days": 3,
          "trend_12days_label": "Doubles every 12 days",
          "trend_2days": 18,
          "trend_2days_label": "Doubles every 2 days",
          "trend_4days": 9,
          "trend_4days_label": "Doubles evey 4 days"
         },
         {
          "date": "2020-03-22T00:00:00",
          "index": 2066,
          "location": "China",
          "log_cases": 0.8400123466607305,
          "n_days": 37,
          "total_cases": 2.316395576354836,
          "trend_12days": 3.0833333333333335,
          "trend_12days_label": "Doubles every 12 days",
          "trend_2days": 18.5,
          "trend_2days_label": "Doubles every 2 days",
          "trend_4days": 9.25,
          "trend_4days_label": "Doubles evey 4 days"
         },
         {
          "date": "2020-03-03T00:00:00",
          "index": 4995,
          "location": "Italy",
          "log_cases": 0.2858289141850391,
          "n_days": 0,
          "total_cases": 1.3308647436944607,
          "trend_12days": 0,
          "trend_12days_label": "Doubles every 12 days",
          "trend_2days": 0,
          "trend_2days_label": "Doubles every 2 days",
          "trend_4days": 0,
          "trend_4days_label": "Doubles evey 4 days"
         },
         {
          "date": "2020-03-04T00:00:00",
          "index": 4996,
          "location": "Italy",
          "log_cases": 0.5892098961799238,
          "n_days": 1,
          "total_cases": 1.8025636401937633,
          "trend_12days": 0.08333333333333333,
          "trend_12days_label": "Doubles every 12 days",
          "trend_2days": 0.5,
          "trend_2days_label": "Doubles every 2 days",
          "trend_4days": 0.25,
          "trend_4days_label": "Doubles evey 4 days"
         },
         {
          "date": "2020-03-05T00:00:00",
          "index": 4997,
          "location": "Italy",
          "log_cases": 0.9135933354821327,
          "n_days": 2,
          "total_cases": 2.4932655957820278,
          "trend_12days": 0.16666666666666666,
          "trend_12days_label": "Doubles every 12 days",
          "trend_2days": 1,
          "trend_2days_label": "Doubles every 2 days",
          "trend_4days": 0.5,
          "trend_4days_label": "Doubles evey 4 days"
         },
         {
          "date": "2020-03-06T00:00:00",
          "index": 4998,
          "location": "Italy",
          "log_cases": 1.1995847904560062,
          "n_days": 3,
          "total_cases": 3.318738664655807,
          "trend_12days": 0.25,
          "trend_12days_label": "Doubles every 12 days",
          "trend_2days": 1.5,
          "trend_2days_label": "Doubles every 2 days",
          "trend_4days": 0.75,
          "trend_4days_label": "Doubles evey 4 days"
         },
         {
          "date": "2020-03-07T00:00:00",
          "index": 4999,
          "location": "Italy",
          "log_cases": 1.367419515283718,
          "n_days": 4,
          "total_cases": 3.9252086744406247,
          "trend_12days": 0.3333333333333333,
          "trend_12days_label": "Doubles every 12 days",
          "trend_2days": 2,
          "trend_2days_label": "Doubles every 2 days",
          "trend_4days": 1,
          "trend_4days_label": "Doubles evey 4 days"
         },
         {
          "date": "2020-03-08T00:00:00",
          "index": 5000,
          "location": "Italy",
          "log_cases": 1.8190143951193838,
          "n_days": 5,
          "total_cases": 6.165778432812312,
          "trend_12days": 0.4166666666666667,
          "trend_12days_label": "Doubles every 12 days",
          "trend_2days": 2.5,
          "trend_2days_label": "Doubles every 2 days",
          "trend_4days": 1.25,
          "trend_4days_label": "Doubles evey 4 days"
         },
         {
          "date": "2020-03-09T00:00:00",
          "index": 5001,
          "location": "Italy",
          "log_cases": 2.054108115804252,
          "n_days": 6,
          "total_cases": 7.7998781813991815,
          "trend_12days": 0.5,
          "trend_12days_label": "Doubles every 12 days",
          "trend_2days": 3,
          "trend_2days_label": "Doubles every 2 days",
          "trend_4days": 1.5,
          "trend_4days_label": "Doubles evey 4 days"
         },
         {
          "date": "2020-03-10T00:00:00",
          "index": 4981,
          "location": "Italy",
          "log_cases": 2.363686924259231,
          "n_days": 7,
          "total_cases": 10.630071560394997,
          "trend_12days": 0.5833333333333334,
          "trend_12days_label": "Doubles every 12 days",
          "trend_2days": 3.5,
          "trend_2days_label": "Doubles every 2 days",
          "trend_4days": 1.75,
          "trend_4days_label": "Doubles evey 4 days"
         },
         {
          "date": "2020-03-11T00:00:00",
          "index": 4982,
          "location": "Italy",
          "log_cases": 2.634185756741709,
          "n_days": 8,
          "total_cases": 13.931963835890114,
          "trend_12days": 0.6666666666666666,
          "trend_12days_label": "Doubles every 12 days",
          "trend_2days": 4,
          "trend_2days_label": "Doubles every 2 days",
          "trend_4days": 2,
          "trend_4days_label": "Doubles evey 4 days"
         },
         {
          "date": "2020-03-12T00:00:00",
          "index": 4983,
          "location": "Italy",
          "log_cases": 2.634185756741709,
          "n_days": 9,
          "total_cases": 13.931963835890114,
          "trend_12days": 0.75,
          "trend_12days_label": "Doubles every 12 days",
          "trend_2days": 4.5,
          "trend_2days_label": "Doubles every 2 days",
          "trend_4days": 2.25,
          "trend_4days_label": "Doubles evey 4 days"
         },
         {
          "date": "2020-03-13T00:00:00",
          "index": 4984,
          "location": "Italy",
          "log_cases": 3.059998664422139,
          "n_days": 10,
          "total_cases": 21.32752867743275,
          "trend_12days": 0.8333333333333334,
          "trend_12days_label": "Doubles every 12 days",
          "trend_2days": 5,
          "trend_2days_label": "Doubles every 2 days",
          "trend_4days": 2.5,
          "trend_4days_label": "Doubles evey 4 days"
         },
         {
          "date": "2020-03-14T00:00:00",
          "index": 4985,
          "location": "Italy",
          "log_cases": 3.1894736577175395,
          "n_days": 11,
          "total_cases": 24.27564678055339,
          "trend_12days": 0.9166666666666666,
          "trend_12days_label": "Doubles every 12 days",
          "trend_2days": 5.5,
          "trend_2days_label": "Doubles every 2 days",
          "trend_4days": 2.75,
          "trend_4days_label": "Doubles evey 4 days"
         },
         {
          "date": "2020-03-15T00:00:00",
          "index": 4986,
          "location": "Italy",
          "log_cases": 3.4169105471133125,
          "n_days": 12,
          "total_cases": 30.475117991687082,
          "trend_12days": 1,
          "trend_12days_label": "Doubles every 12 days",
          "trend_2days": 6,
          "trend_2days_label": "Doubles every 2 days",
          "trend_4days": 3,
          "trend_4days_label": "Doubles evey 4 days"
         },
         {
          "date": "2020-03-16T00:00:00",
          "index": 4987,
          "location": "Italy",
          "log_cases": 3.5933182075360977,
          "n_days": 13,
          "total_cases": 36.35450780876767,
          "trend_12days": 1.0833333333333333,
          "trend_12days_label": "Doubles every 12 days",
          "trend_2days": 6.5,
          "trend_2days_label": "Doubles every 2 days",
          "trend_4days": 3.25,
          "trend_4days_label": "Doubles evey 4 days"
         },
         {
          "date": "2020-03-17T00:00:00",
          "index": 4988,
          "location": "Italy",
          "log_cases": 3.7416263531497918,
          "n_days": 14,
          "total_cases": 42.16651206920551,
          "trend_12days": 1.1666666666666667,
          "trend_12days_label": "Doubles every 12 days",
          "trend_2days": 7,
          "trend_2days_label": "Doubles every 2 days",
          "trend_4days": 3.5,
          "trend_4days_label": "Doubles evey 4 days"
         },
         {
          "date": "2020-03-18T00:00:00",
          "index": 4989,
          "location": "Italy",
          "log_cases": 3.915388274961972,
          "n_days": 15,
          "total_cases": 50.16854692053296,
          "trend_12days": 1.25,
          "trend_12days_label": "Doubles every 12 days",
          "trend_2days": 7.5,
          "trend_2days_label": "Doubles every 2 days",
          "trend_4days": 3.75,
          "trend_4days_label": "Doubles evey 4 days"
         },
         {
          "date": "2020-03-19T00:00:00",
          "index": 4990,
          "location": "Italy",
          "log_cases": 4.04938128030163,
          "n_days": 16,
          "total_cases": 57.361955092147326,
          "trend_12days": 1.3333333333333333,
          "trend_12days_label": "Doubles every 12 days",
          "trend_2days": 8,
          "trend_2days_label": "Doubles every 2 days",
          "trend_4days": 4,
          "trend_4days_label": "Doubles evey 4 days"
         },
         {
          "date": "2020-03-20T00:00:00",
          "index": 4992,
          "location": "Italy",
          "log_cases": 4.218398871469222,
          "n_days": 17,
          "total_cases": 67.92464109589956,
          "trend_12days": 1.4166666666666667,
          "trend_12days_label": "Doubles every 12 days",
          "trend_2days": 8.5,
          "trend_2days_label": "Doubles every 2 days",
          "trend_4days": 4.25,
          "trend_4days_label": "Doubles evey 4 days"
         },
         {
          "date": "2020-03-21T00:00:00",
          "index": 4993,
          "location": "Italy",
          "log_cases": 4.397947075491104,
          "n_days": 18,
          "total_cases": 81.28382770032624,
          "trend_12days": 1.5,
          "trend_12days_label": "Doubles every 12 days",
          "trend_2days": 9,
          "trend_2days_label": "Doubles every 2 days",
          "trend_4days": 4.5,
          "trend_4days_label": "Doubles evey 4 days"
         },
         {
          "date": "2020-03-22T00:00:00",
          "index": 4994,
          "location": "Italy",
          "log_cases": 4.524511248126357,
          "n_days": 19,
          "total_cases": 92.25082704393503,
          "trend_12days": 1.5833333333333333,
          "trend_12days_label": "Doubles every 12 days",
          "trend_2days": 9.5,
          "trend_2days_label": "Doubles every 2 days",
          "trend_4days": 4.75,
          "trend_4days_label": "Doubles evey 4 days"
         },
         {
          "date": "2020-03-11T00:00:00",
          "index": 8886,
          "location": "Spain",
          "log_cases": 0.15266954366209462,
          "n_days": 0,
          "total_cases": 1.1649399535382732,
          "trend_12days": 0,
          "trend_12days_label": "Doubles every 12 days",
          "trend_2days": 0,
          "trend_2days_label": "Doubles every 2 days",
          "trend_4days": 0,
          "trend_4days_label": "Doubles evey 4 days"
         },
         {
          "date": "2020-03-12T00:00:00",
          "index": 8887,
          "location": "Spain",
          "log_cases": 0.17101868233029102,
          "n_days": 1,
          "total_cases": 1.1865129156408336,
          "trend_12days": 0.08333333333333333,
          "trend_12days_label": "Doubles every 12 days",
          "trend_2days": 0.5,
          "trend_2days_label": "Doubles every 2 days",
          "trend_4days": 0.25,
          "trend_4days_label": "Doubles evey 4 days"
         },
         {
          "date": "2020-03-13T00:00:00",
          "index": 8888,
          "location": "Spain",
          "log_cases": 1.0540346253195738,
          "n_days": 2,
          "total_cases": 2.8692039596405614,
          "trend_12days": 0.16666666666666666,
          "trend_12days_label": "Doubles every 12 days",
          "trend_2days": 1,
          "trend_2days_label": "Doubles every 2 days",
          "trend_4days": 0.5,
          "trend_4days_label": "Doubles evey 4 days"
         },
         {
          "date": "2020-03-14T00:00:00",
          "index": 8889,
          "location": "Spain",
          "log_cases": 1.436685055661567,
          "n_days": 3,
          "total_cases": 4.206727609999319,
          "trend_12days": 0.25,
          "trend_12days_label": "Doubles every 12 days",
          "trend_2days": 1.5,
          "trend_2days_label": "Doubles every 2 days",
          "trend_4days": 0.75,
          "trend_4days_label": "Doubles evey 4 days"
         },
         {
          "date": "2020-03-15T00:00:00",
          "index": 8890,
          "location": "Spain",
          "log_cases": 1.8301121852102522,
          "n_days": 4,
          "total_cases": 6.234586047640017,
          "trend_12days": 0.3333333333333333,
          "trend_12days_label": "Doubles every 12 days",
          "trend_2days": 2,
          "trend_2days_label": "Doubles every 2 days",
          "trend_4days": 1,
          "trend_4days_label": "Doubles evey 4 days"
         },
         {
          "date": "2020-03-16T00:00:00",
          "index": 8891,
          "location": "Spain",
          "log_cases": 1.9984962341604253,
          "n_days": 5,
          "total_cases": 7.377953039075729,
          "trend_12days": 0.4166666666666667,
          "trend_12days_label": "Doubles every 12 days",
          "trend_2days": 2.5,
          "trend_2days_label": "Doubles every 2 days",
          "trend_4days": 1.25,
          "trend_4days_label": "Doubles evey 4 days"
         },
         {
          "date": "2020-03-17T00:00:00",
          "index": 8892,
          "location": "Spain",
          "log_cases": 2.4422069212636646,
          "n_days": 6,
          "total_cases": 11.498388800664806,
          "trend_12days": 0.5,
          "trend_12days_label": "Doubles every 12 days",
          "trend_2days": 3,
          "trend_2days_label": "Doubles every 2 days",
          "trend_4days": 1.5,
          "trend_4days_label": "Doubles evey 4 days"
         },
         {
          "date": "2020-03-18T00:00:00",
          "index": 8893,
          "location": "Spain",
          "log_cases": 2.5982320158852734,
          "n_days": 7,
          "total_cases": 13.439955389895262,
          "trend_12days": 0.5833333333333334,
          "trend_12days_label": "Doubles every 12 days",
          "trend_2days": 3.5,
          "trend_2days_label": "Doubles every 2 days",
          "trend_4days": 1.75,
          "trend_4days_label": "Doubles evey 4 days"
         },
         {
          "date": "2020-03-19T00:00:00",
          "index": 8894,
          "location": "Spain",
          "log_cases": 2.885111197888464,
          "n_days": 8,
          "total_cases": 17.90555854512531,
          "trend_12days": 0.6666666666666666,
          "trend_12days_label": "Doubles every 12 days",
          "trend_2days": 4,
          "trend_2days_label": "Doubles every 2 days",
          "trend_4days": 2,
          "trend_4days_label": "Doubles evey 4 days"
         },
         {
          "date": "2020-03-20T00:00:00",
          "index": 8896,
          "location": "Spain",
          "log_cases": 3.1135419520985925,
          "n_days": 9,
          "total_cases": 22.50059947297072,
          "trend_12days": 0.75,
          "trend_12days_label": "Doubles every 12 days",
          "trend_2days": 4.5,
          "trend_2days_label": "Doubles every 2 days",
          "trend_4days": 2.25,
          "trend_4days_label": "Doubles evey 4 days"
         },
         {
          "date": "2020-03-21T00:00:00",
          "index": 8897,
          "location": "Spain",
          "log_cases": 3.3898945071984916,
          "n_days": 10,
          "total_cases": 29.66282289102084,
          "trend_12days": 0.8333333333333334,
          "trend_12days_label": "Doubles every 12 days",
          "trend_2days": 5,
          "trend_2days_label": "Doubles every 2 days",
          "trend_4days": 2.5,
          "trend_4days_label": "Doubles evey 4 days"
         },
         {
          "date": "2020-03-22T00:00:00",
          "index": 8898,
          "location": "Spain",
          "log_cases": 3.6435496282628463,
          "n_days": 11,
          "total_cases": 38.227288845737405,
          "trend_12days": 0.9166666666666666,
          "trend_12days_label": "Doubles every 12 days",
          "trend_2days": 5.5,
          "trend_2days_label": "Doubles every 2 days",
          "trend_4days": 2.75,
          "trend_4days_label": "Doubles evey 4 days"
         },
         {
          "date": "2020-03-13T00:00:00",
          "index": 3642,
          "location": "France",
          "log_cases": 0.16138258540438574,
          "n_days": 0,
          "total_cases": 1.17513447211891,
          "trend_12days": 0,
          "trend_12days_label": "Doubles every 12 days",
          "trend_2days": 0,
          "trend_2days_label": "Doubles every 2 days",
          "trend_4days": 0,
          "trend_4days_label": "Doubles evey 4 days"
         },
         {
          "date": "2020-03-14T00:00:00",
          "index": 3643,
          "location": "France",
          "log_cases": 0.30279423945421435,
          "n_days": 1,
          "total_cases": 1.3536359109217826,
          "trend_12days": 0.08333333333333333,
          "trend_12days_label": "Doubles every 12 days",
          "trend_2days": 0.5,
          "trend_2days_label": "Doubles every 2 days",
          "trend_4days": 0.25,
          "trend_4days_label": "Doubles evey 4 days"
         },
         {
          "date": "2020-03-15T00:00:00",
          "index": 3644,
          "location": "France",
          "log_cases": 0.30279423945421435,
          "n_days": 2,
          "total_cases": 1.3536359109217826,
          "trend_12days": 0.16666666666666666,
          "trend_12days_label": "Doubles every 12 days",
          "trend_2days": 1,
          "trend_2days_label": "Doubles every 2 days",
          "trend_4days": 0.5,
          "trend_4days_label": "Doubles evey 4 days"
         },
         {
          "date": "2020-03-16T00:00:00",
          "index": 3645,
          "location": "France",
          "log_cases": 0.7891470067014794,
          "n_days": 3,
          "total_cases": 2.2015177452354266,
          "trend_12days": 0.25,
          "trend_12days_label": "Doubles every 12 days",
          "trend_2days": 1.5,
          "trend_2days_label": "Doubles every 2 days",
          "trend_4days": 0.75,
          "trend_4days_label": "Doubles evey 4 days"
         },
         {
          "date": "2020-03-17T00:00:00",
          "index": 3646,
          "location": "France",
          "log_cases": 0.7891470067014794,
          "n_days": 4,
          "total_cases": 2.2015177452354266,
          "trend_12days": 0.3333333333333333,
          "trend_12days_label": "Doubles every 12 days",
          "trend_2days": 2,
          "trend_2days_label": "Doubles every 2 days",
          "trend_4days": 1,
          "trend_4days_label": "Doubles evey 4 days"
         },
         {
          "date": "2020-03-18T00:00:00",
          "index": 3647,
          "location": "France",
          "log_cases": 0.7891470067014794,
          "n_days": 5,
          "total_cases": 2.2015177452354266,
          "trend_12days": 0.4166666666666667,
          "trend_12days_label": "Doubles every 12 days",
          "trend_2days": 2.5,
          "trend_2days_label": "Doubles every 2 days",
          "trend_4days": 1.25,
          "trend_4days_label": "Doubles evey 4 days"
         },
         {
          "date": "2020-03-19T00:00:00",
          "index": 3648,
          "location": "France",
          "log_cases": 1.2849961762779127,
          "n_days": 6,
          "total_cases": 3.6146541357581667,
          "trend_12days": 0.5,
          "trend_12days_label": "Doubles every 12 days",
          "trend_2days": 3,
          "trend_2days_label": "Doubles every 2 days",
          "trend_4days": 1.5,
          "trend_4days_label": "Doubles evey 4 days"
         },
         {
          "date": "2020-03-20T00:00:00",
          "index": 3650,
          "location": "France",
          "log_cases": 1.9011823157017298,
          "n_days": 7,
          "total_cases": 6.693803955107716,
          "trend_12days": 0.5833333333333334,
          "trend_12days_label": "Doubles every 12 days",
          "trend_2days": 3.5,
          "trend_2days_label": "Doubles every 2 days",
          "trend_4days": 1.75,
          "trend_4days_label": "Doubles evey 4 days"
         },
         {
          "date": "2020-03-21T00:00:00",
          "index": 3651,
          "location": "France",
          "log_cases": 2.1234365828310553,
          "n_days": 8,
          "total_cases": 8.359817383934525,
          "trend_12days": 0.6666666666666666,
          "trend_12days_label": "Doubles every 12 days",
          "trend_2days": 4,
          "trend_2days_label": "Doubles every 2 days",
          "trend_4days": 2,
          "trend_4days_label": "Doubles evey 4 days"
         },
         {
          "date": "2020-03-22T00:00:00",
          "index": 3652,
          "location": "France",
          "log_cases": 2.3051648438496715,
          "n_days": 9,
          "total_cases": 10.025830812761335,
          "trend_12days": 0.75,
          "trend_12days_label": "Doubles every 12 days",
          "trend_2days": 4.5,
          "trend_2days_label": "Doubles every 2 days",
          "trend_4days": 2.25,
          "trend_4days_label": "Doubles evey 4 days"
         },
         {
          "date": "2020-03-18T00:00:00",
          "index": 10052,
          "location": "United Kingdom",
          "log_cases": 0.08426383344303114,
          "n_days": 0,
          "total_cases": 1.0879158845418317,
          "trend_12days": 0,
          "trend_12days_label": "Doubles every 12 days",
          "trend_2days": 0,
          "trend_2days_label": "Doubles every 2 days",
          "trend_4days": 0,
          "trend_4days_label": "Doubles evey 4 days"
         },
         {
          "date": "2020-03-19T00:00:00",
          "index": 10053,
          "location": "United Kingdom",
          "log_cases": 0.7348513995841806,
          "n_days": 1,
          "total_cases": 2.085172112038511,
          "trend_12days": 0.08333333333333333,
          "trend_12days_label": "Doubles every 12 days",
          "trend_2days": 0.5,
          "trend_2days_label": "Doubles every 2 days",
          "trend_4days": 0.25,
          "trend_4days_label": "Doubles evey 4 days"
         },
         {
          "date": "2020-03-20T00:00:00",
          "index": 10055,
          "location": "United Kingdom",
          "log_cases": 0.989381264719061,
          "n_days": 2,
          "total_cases": 2.6895698256728617,
          "trend_12days": 0.16666666666666666,
          "trend_12days_label": "Doubles every 12 days",
          "trend_2days": 1,
          "trend_2days_label": "Doubles every 2 days",
          "trend_4days": 0.5,
          "trend_4days_label": "Doubles evey 4 days"
         },
         {
          "date": "2020-03-21T00:00:00",
          "index": 10056,
          "location": "United Kingdom",
          "log_cases": 1.2629188297846772,
          "n_days": 3,
          "total_cases": 3.535726624760953,
          "trend_12days": 0.25,
          "trend_12days_label": "Doubles every 12 days",
          "trend_2days": 1.5,
          "trend_2days_label": "Doubles every 2 days",
          "trend_4days": 0.75,
          "trend_4days_label": "Doubles evey 4 days"
         },
         {
          "date": "2020-03-22T00:00:00",
          "index": 10057,
          "location": "United Kingdom",
          "log_cases": 1.4495047853650893,
          "n_days": 4,
          "total_cases": 4.261003881122174,
          "trend_12days": 0.3333333333333333,
          "trend_12days_label": "Doubles every 12 days",
          "trend_2days": 2,
          "trend_2days_label": "Doubles every 2 days",
          "trend_4days": 1,
          "trend_4days_label": "Doubles evey 4 days"
         },
         {
          "date": "2020-03-21T00:00:00",
          "index": 3895,
          "location": "Germany",
          "log_cases": 0.022705505133722888,
          "n_days": 0,
          "total_cases": 1.0229652371726665,
          "trend_12days": 0,
          "trend_12days_label": "Doubles every 12 days",
          "trend_2days": 0,
          "trend_2days_label": "Doubles every 2 days",
          "trend_4days": 0,
          "trend_4days_label": "Doubles evey 4 days"
         },
         {
          "date": "2020-03-22T00:00:00",
          "index": 3896,
          "location": "Germany",
          "log_cases": 0.13518348856041323,
          "n_days": 1,
          "total_cases": 1.1447468130265555,
          "trend_12days": 0.08333333333333333,
          "trend_12days_label": "Doubles every 12 days",
          "trend_2days": 0.5,
          "trend_2days_label": "Doubles every 2 days",
          "trend_4days": 0.25,
          "trend_4days_label": "Doubles evey 4 days"
         },
         {
          "date": "2020-03-22T00:00:00",
          "index": 9813,
          "location": "United States",
          "log_cases": 0.2509255851145162,
          "n_days": 0,
          "total_cases": 1.285214441687121,
          "trend_12days": 0,
          "trend_12days_label": "Doubles every 12 days",
          "trend_2days": 0,
          "trend_2days_label": "Doubles every 2 days",
          "trend_4days": 0,
          "trend_4days_label": "Doubles evey 4 days"
         },
         {
          "date": "2020-03-09T00:00:00",
          "index": 5367,
          "location": "South Korea",
          "log_cases": 0.03881512467359089,
          "n_days": 0,
          "total_cases": 1.039578273510606,
          "trend_12days": 0,
          "trend_12days_label": "Doubles every 12 days",
          "trend_2days": 0,
          "trend_2days_label": "Doubles every 2 days",
          "trend_4days": 0,
          "trend_4days_label": "Doubles evey 4 days"
         },
         {
          "date": "2020-03-10T00:00:00",
          "index": 5347,
          "location": "South Korea",
          "log_cases": 0.0575072576857434,
          "n_days": 1,
          "total_cases": 1.0591929579164665,
          "trend_12days": 0.08333333333333333,
          "trend_12days_label": "Doubles every 12 days",
          "trend_2days": 0.5,
          "trend_2days_label": "Doubles every 2 days",
          "trend_4days": 0.25,
          "trend_4days_label": "Doubles evey 4 days"
         },
         {
          "date": "2020-03-11T00:00:00",
          "index": 5348,
          "location": "South Korea",
          "log_cases": 0.16286777334356967,
          "n_days": 2,
          "total_cases": 1.1768810643516294,
          "trend_12days": 0.16666666666666666,
          "trend_12days_label": "Doubles every 12 days",
          "trend_2days": 1,
          "trend_2days_label": "Doubles every 2 days",
          "trend_4days": 0.5,
          "trend_4days_label": "Doubles evey 4 days"
         },
         {
          "date": "2020-03-12T00:00:00",
          "index": 5349,
          "location": "South Korea",
          "log_cases": 0.25817795314789455,
          "n_days": 3,
          "total_cases": 1.2945691707867923,
          "trend_12days": 0.25,
          "trend_12days_label": "Doubles every 12 days",
          "trend_2days": 1.5,
          "trend_2days_label": "Doubles every 2 days",
          "trend_4days": 0.75,
          "trend_4days_label": "Doubles evey 4 days"
         },
         {
          "date": "2020-03-13T00:00:00",
          "index": 5350,
          "location": "South Korea",
          "log_cases": 0.25817795314789455,
          "n_days": 4,
          "total_cases": 1.2945691707867923,
          "trend_12days": 0.3333333333333333,
          "trend_12days_label": "Doubles every 12 days",
          "trend_2days": 2,
          "trend_2days_label": "Doubles every 2 days",
          "trend_4days": 1,
          "trend_4days_label": "Doubles evey 4 days"
         },
         {
          "date": "2020-03-14T00:00:00",
          "index": 5351,
          "location": "South Korea",
          "log_cases": 0.34518933013752445,
          "n_days": 5,
          "total_cases": 1.4122572772219555,
          "trend_12days": 0.4166666666666667,
          "trend_12days_label": "Doubles every 12 days",
          "trend_2days": 2.5,
          "trend_2days_label": "Doubles every 2 days",
          "trend_4days": 1.25,
          "trend_4days_label": "Doubles evey 4 days"
         },
         {
          "date": "2020-03-15T00:00:00",
          "index": 5352,
          "location": "South Korea",
          "log_cases": 0.3860113246577795,
          "n_days": 6,
          "total_cases": 1.4711013304395368,
          "trend_12days": 0.5,
          "trend_12days_label": "Doubles every 12 days",
          "trend_2days": 3,
          "trend_2days_label": "Doubles every 2 days",
          "trend_4days": 1.5,
          "trend_4days_label": "Doubles evey 4 days"
         },
         {
          "date": "2020-03-16T00:00:00",
          "index": 5353,
          "location": "South Korea",
          "log_cases": 0.3860113246577795,
          "n_days": 7,
          "total_cases": 1.4711013304395368,
          "trend_12days": 0.5833333333333334,
          "trend_12days_label": "Doubles every 12 days",
          "trend_2days": 3.5,
          "trend_2days_label": "Doubles every 2 days",
          "trend_4days": 1.75,
          "trend_4days_label": "Doubles evey 4 days"
         },
         {
          "date": "2020-03-17T00:00:00",
          "index": 5354,
          "location": "South Korea",
          "log_cases": 0.46297236579390777,
          "n_days": 8,
          "total_cases": 1.5887894368746998,
          "trend_12days": 0.6666666666666666,
          "trend_12days_label": "Doubles every 12 days",
          "trend_2days": 4,
          "trend_2days_label": "Doubles every 2 days",
          "trend_4days": 2,
          "trend_4days_label": "Doubles evey 4 days"
         },
         {
          "date": "2020-03-18T00:00:00",
          "index": 5355,
          "location": "South Korea",
          "log_cases": 0.49934000996478267,
          "n_days": 9,
          "total_cases": 1.6476334900922813,
          "trend_12days": 0.75,
          "trend_12days_label": "Doubles every 12 days",
          "trend_2days": 4.5,
          "trend_2days_label": "Doubles every 2 days",
          "trend_4days": 2.25,
          "trend_4days_label": "Doubles evey 4 days"
         },
         {
          "date": "2020-03-19T00:00:00",
          "index": 5356,
          "location": "South Korea",
          "log_cases": 0.5793827176383191,
          "n_days": 10,
          "total_cases": 1.7849362809333047,
          "trend_12days": 0.8333333333333334,
          "trend_12days_label": "Doubles every 12 days",
          "trend_2days": 5,
          "trend_2days_label": "Doubles every 2 days",
          "trend_4days": 2.5,
          "trend_4days_label": "Doubles evey 4 days"
         },
         {
          "date": "2020-03-20T00:00:00",
          "index": 5358,
          "location": "South Korea",
          "log_cases": 0.611817993391473,
          "n_days": 11,
          "total_cases": 1.8437803341508863,
          "trend_12days": 0.9166666666666666,
          "trend_12days_label": "Doubles every 12 days",
          "trend_2days": 5.5,
          "trend_2days_label": "Doubles every 2 days",
          "trend_4days": 2.75,
          "trend_4days_label": "Doubles evey 4 days"
         },
         {
          "date": "2020-03-21T00:00:00",
          "index": 5359,
          "location": "South Korea",
          "log_cases": 0.6934960244057402,
          "n_days": 12,
          "total_cases": 2.0006978093977703,
          "trend_12days": 1,
          "trend_12days_label": "Doubles every 12 days",
          "trend_2days": 6,
          "trend_2days_label": "Doubles every 2 days",
          "trend_4days": 3,
          "trend_4days_label": "Doubles evey 4 days"
         },
         {
          "date": "2020-03-22T00:00:00",
          "index": 5360,
          "location": "South Korea",
          "log_cases": 0.7129141102628418,
          "n_days": 13,
          "total_cases": 2.039927178209491,
          "trend_12days": 1.0833333333333333,
          "trend_12days_label": "Doubles every 12 days",
          "trend_2days": 6.5,
          "trend_2days_label": "Doubles every 2 days",
          "trend_4days": 3.25,
          "trend_4days_label": "Doubles evey 4 days"
         },
         {
          "date": "2020-03-18T00:00:00",
          "index": 9137,
          "location": "Sweden",
          "log_cases": 0.008970030902711059,
          "n_days": 0,
          "total_cases": 1.0090103821904342,
          "trend_12days": 0,
          "trend_12days_label": "Doubles every 12 days",
          "trend_2days": 0,
          "trend_2days_label": "Doubles every 2 days",
          "trend_4days": 0,
          "trend_4days_label": "Doubles evey 4 days"
         },
         {
          "date": "2020-03-19T00:00:00",
          "index": 9138,
          "location": "Sweden",
          "log_cases": 0.1042802107070359,
          "n_days": 1,
          "total_cases": 1.1099114204094775,
          "trend_12days": 0.08333333333333333,
          "trend_12days_label": "Doubles every 12 days",
          "trend_2days": 0.5,
          "trend_2days_label": "Doubles every 2 days",
          "trend_4days": 0.25,
          "trend_4days_label": "Doubles evey 4 days"
         },
         {
          "date": "2020-03-20T00:00:00",
          "index": 9140,
          "location": "Sweden",
          "log_cases": 0.47897366014844656,
          "n_days": 2,
          "total_cases": 1.6144166115046945,
          "trend_12days": 0.16666666666666666,
          "trend_12days_label": "Doubles every 12 days",
          "trend_2days": 1,
          "trend_2days_label": "Doubles every 2 days",
          "trend_4days": 0.5,
          "trend_4days_label": "Doubles evey 4 days"
         },
         {
          "date": "2020-03-21T00:00:00",
          "index": 9141,
          "location": "Sweden",
          "log_cases": 0.7021172114626564,
          "n_days": 3,
          "total_cases": 2.0180207643808683,
          "trend_12days": 0.25,
          "trend_12days_label": "Doubles every 12 days",
          "trend_2days": 1.5,
          "trend_2days_label": "Doubles every 2 days",
          "trend_4days": 0.75,
          "trend_4days_label": "Doubles evey 4 days"
         },
         {
          "date": "2020-03-22T00:00:00",
          "index": 9142,
          "location": "Sweden",
          "log_cases": 0.7509073756320883,
          "n_days": 4,
          "total_cases": 2.1189218025999117,
          "trend_12days": 0.3333333333333333,
          "trend_12days_label": "Doubles every 12 days",
          "trend_2days": 2,
          "trend_2days_label": "Doubles every 2 days",
          "trend_4days": 1,
          "trend_4days_label": "Doubles evey 4 days"
         },
         {
          "date": "2020-03-18T00:00:00",
          "index": 7307,
          "location": "Norway",
          "log_cases": 0.1230374650086478,
          "n_days": 0,
          "total_cases": 1.1309267903357796,
          "trend_12days": 0,
          "trend_12days_label": "Doubles every 12 days",
          "trend_2days": 0,
          "trend_2days_label": "Doubles every 2 days",
          "trend_4days": 0,
          "trend_4days_label": "Doubles evey 4 days"
         },
         {
          "date": "2020-03-19T00:00:00",
          "index": 7308,
          "location": "Norway",
          "log_cases": 0.2771881448359062,
          "n_days": 1,
          "total_cases": 1.3194145887250763,
          "trend_12days": 0.08333333333333333,
          "trend_12days_label": "Doubles every 12 days",
          "trend_2days": 0.5,
          "trend_2days_label": "Doubles every 2 days",
          "trend_4days": 0.25,
          "trend_4days_label": "Doubles evey 4 days"
         },
         {
          "date": "2020-03-20T00:00:00",
          "index": 7310,
          "location": "Norway",
          "log_cases": 0.2771881448359062,
          "n_days": 2,
          "total_cases": 1.3194145887250763,
          "trend_12days": 0.16666666666666666,
          "trend_12days_label": "Doubles every 12 days",
          "trend_2days": 1,
          "trend_2days_label": "Doubles every 2 days",
          "trend_4days": 0.5,
          "trend_4days_label": "Doubles evey 4 days"
         },
         {
          "date": "2020-03-21T00:00:00",
          "index": 7311,
          "location": "Norway",
          "log_cases": 0.2771881448359062,
          "n_days": 3,
          "total_cases": 1.3194145887250763,
          "trend_12days": 0.25,
          "trend_12days_label": "Doubles every 12 days",
          "trend_2days": 1.5,
          "trend_2days_label": "Doubles every 2 days",
          "trend_4days": 0.75,
          "trend_4days_label": "Doubles evey 4 days"
         },
         {
          "date": "2020-03-22T00:00:00",
          "index": 7312,
          "location": "Norway",
          "log_cases": 0.2771881448359062,
          "n_days": 4,
          "total_cases": 1.3194145887250763,
          "trend_12days": 0.3333333333333333,
          "trend_12days_label": "Doubles every 12 days",
          "trend_2days": 2,
          "trend_2days_label": "Doubles every 2 days",
          "trend_4days": 1,
          "trend_4days_label": "Doubles evey 4 days"
         },
         {
          "date": "2020-03-19T00:00:00",
          "index": 2733,
          "location": "Denmark",
          "log_cases": 0.045424405252705746,
          "n_days": 0,
          "total_cases": 1.0464718938454414,
          "trend_12days": 0,
          "trend_12days_label": "Doubles every 12 days",
          "trend_2days": 0,
          "trend_2days_label": "Doubles every 2 days",
          "trend_4days": 0,
          "trend_4days_label": "Doubles evey 4 days"
         },
         {
          "date": "2020-03-20T00:00:00",
          "index": 2735,
          "location": "Denmark",
          "log_cases": 0.4508895133608702,
          "n_days": 1,
          "total_cases": 1.5697078407681622,
          "trend_12days": 0.08333333333333333,
          "trend_12days_label": "Doubles every 12 days",
          "trend_2days": 0.5,
          "trend_2days_label": "Doubles every 2 days",
          "trend_4days": 0.25,
          "trend_4days_label": "Doubles evey 4 days"
         },
         {
          "date": "2020-03-21T00:00:00",
          "index": 2736,
          "location": "Denmark",
          "log_cases": 0.8186142934861875,
          "n_days": 2,
          "total_cases": 2.2673557699984563,
          "trend_12days": 0.16666666666666666,
          "trend_12days_label": "Doubles every 12 days",
          "trend_2days": 1,
          "trend_2days_label": "Doubles every 2 days",
          "trend_4days": 0.5,
          "trend_4days_label": "Doubles evey 4 days"
         },
         {
          "date": "2020-03-22T00:00:00",
          "index": 2737,
          "location": "Denmark",
          "log_cases": 0.8186142934861875,
          "n_days": 3,
          "total_cases": 2.2673557699984563,
          "trend_12days": 0.25,
          "trend_12days_label": "Doubles every 12 days",
          "trend_2days": 1.5,
          "trend_2days_label": "Doubles every 2 days",
          "trend_4days": 0.75,
          "trend_4days_label": "Doubles evey 4 days"
         },
         {
          "date": "2020-03-22T00:00:00",
          "index": 602,
          "location": "Austria",
          "log_cases": 0.6051989595066954,
          "n_days": 0,
          "total_cases": 1.8316165901692463,
          "trend_12days": 0,
          "trend_12days_label": "Doubles every 12 days",
          "trend_2days": 0,
          "trend_2days_label": "Doubles every 2 days",
          "trend_4days": 0,
          "trend_4days_label": "Doubles evey 4 days"
         }
        ]
       },
       "layer": [
        {
         "encoding": {
          "x": {
           "field": "n_days",
           "type": "quantitative"
          },
          "y": {
           "field": "trend_2days",
           "scale": {
            "domain": [
             0,
             4.524511248126357
            ]
           },
           "type": "quantitative"
          }
         },
         "mark": {
          "color": "grey",
          "strokeDash": [
           3,
           3
          ],
          "type": "line"
         }
        },
        {
         "encoding": {
          "x": {
           "field": "n_days",
           "type": "quantitative"
          },
          "y": {
           "field": "trend_4days",
           "scale": {
            "domain": [
             0,
             4.524511248126357
            ]
           },
           "type": "quantitative"
          }
         },
         "mark": {
          "color": "grey",
          "strokeDash": [
           3,
           3
          ],
          "type": "line"
         }
        },
        {
         "encoding": {
          "x": {
           "field": "n_days",
           "type": "quantitative"
          },
          "y": {
           "field": "trend_12days",
           "scale": {
            "domain": [
             0,
             4.524511248126357
            ]
           },
           "type": "quantitative"
          }
         },
         "mark": {
          "color": "grey",
          "strokeDash": [
           3,
           3
          ],
          "type": "line"
         }
        },
        {
         "data": {
          "name": "data-46e792c21b458ace41bb6619bc6d4ad3"
         },
         "encoding": {
          "text": {
           "field": "label",
           "type": "nominal"
          },
          "x": {
           "field": "x_coord",
           "type": "quantitative"
          },
          "y": {
           "field": "y_coord",
           "type": "quantitative"
          }
         },
         "mark": {
          "align": "left",
          "color": "grey",
          "dx": -55,
          "dy": -15,
          "fontSize": 12,
          "type": "text"
         }
        },
        {
         "data": {
          "name": "data-ce54b12b61d675fc8a03c76e70997c22"
         },
         "encoding": {
          "color": {
           "field": "location",
           "legend": {
            "labelFontSize": 15,
            "title": "Country",
            "titleFontSize": 17
           },
           "scale": {
            "scheme": "tableau20"
           },
           "type": "nominal"
          },
          "x": {
           "field": "n_days",
           "title": "Days passed since reaching 1 death per million",
           "type": "quantitative"
          },
          "y": {
           "field": "log_cases",
           "title": "Log of deaths per million",
           "type": "quantitative"
          }
         },
         "height": 400,
         "mark": "line",
         "selection": {
          "selector003": {
           "bind": "scales",
           "type": "interval"
          }
         },
         "title": "COVID-19 Deaths Per Million of Inhabitants",
         "width": 850
        }
       ]
      },
      "image/png": "[encoded data removed]",
      "text/plain": [
       "<VegaLite 3 object>\n",
       "\n",
       "If you see this message, it means the renderer has not been properly enabled\n",
       "for the frontend that you are using. For more information, see\n",
       "https://altair-viz.github.io/user_guide/troubleshooting.html\n"
      ]
     },
     "execution_count": 16,
     "metadata": {},
     "output_type": "execute_result"
    }
   ],
   "source": [
    "#hide_input\n",
    "# Stack data to get it to Altair dataframe format\n",
    "data_countries_pc2 = data_countries_pc.copy()\n",
    "for i in range(0,len(int_countries)):\n",
    "    data_countries_pc2[i] = data_countries_pc2[i].reset_index()\n",
    "    data_countries_pc2[i]['n_days'] = data_countries_pc2[i].index\n",
    "    data_countries_pc2[i]['log_cases'] = np.log(data_countries_pc2[i][\"total_cases\"])\n",
    "data_plot = data_countries_pc2[0]\n",
    "for i in range(1, len(int_countries)):    \n",
    "    data_plot = pd.concat([data_plot, data_countries_pc2[i]], axis=0)\n",
    "data_plot[\"trend_2days\"] = data_plot[\"n_days\"]*1/2\n",
    "data_plot[\"trend_4days\"] = data_plot[\"n_days\"]*1/4\n",
    "data_plot[\"trend_12days\"] = data_plot[\"n_days\"]*1/12\n",
    "data_plot[\"trend_2days_label\"] = \"Doubles every 2 days\"\n",
    "data_plot[\"trend_4days_label\"] = \"Doubles evey 4 days\"\n",
    "data_plot[\"trend_12days_label\"] = \"Doubles every 12 days\"\n",
    "\n",
    "\n",
    "# Plot it using Altair\n",
    "source = data_plot\n",
    "\n",
    "scales = alt.selection_interval(bind='scales')\n",
    "#selection = alt.selection_multi(fields=['location'], bind='legend')\n",
    "\n",
    "base = alt.Chart(source, title = \"COVID-19 Deaths Per Million of Inhabitants\").encode(\n",
    "    x = alt.X('n_days:Q', title = \"Days passed since reaching 1 death per million\"),\n",
    "    y = alt.Y(\"log_cases:Q\",title = \"Log of deaths per million\"),\n",
    "    color = alt.Color('location:N', legend=alt.Legend(title=\"Country\", labelFontSize=15, titleFontSize=17),\n",
    "                     scale=alt.Scale(scheme='tableau20')),\n",
    "    #opacity = alt.condition(selection, alt.value(1), alt.value(0.1))\n",
    ")\n",
    "\n",
    "lines = base.mark_line().add_selection(\n",
    "    scales\n",
    ").properties(\n",
    "   width=chart_width,\n",
    "   height=chart_height\n",
    ")\n",
    "#.add_selection(\n",
    "#    selection\n",
    "#)\n",
    "\n",
    "trend_2d = alt.Chart(source).encode(\n",
    "    x = \"n_days:Q\",\n",
    "    y = alt.Y(\"trend_2days:Q\",  scale=alt.Scale(domain=(0, max(data_plot[\"log_cases\"])))),\n",
    ").mark_line(color=\"grey\", strokeDash=[3,3])\n",
    "\n",
    "\n",
    "labels = pd.DataFrame([{'label': 'Doubles every 2 days', 'x_coord': 6, 'y_coord': 4},\n",
    "                       {'label': 'Doubles every 4 days', 'x_coord': 17, 'y_coord': 3.5},\n",
    "                       {'label': 'Doubles every 12 days', 'x_coord': 25, 'y_coord': 2.5},\n",
    "                      ])\n",
    "trend_label = (alt.Chart(labels)\n",
    "                    .mark_text(align='left', dx=-55, dy=-15, fontSize=12, color=\"grey\")\n",
    "                    .encode(x='x_coord:Q',\n",
    "                            y='y_coord:Q',\n",
    "                            text='label:N')\n",
    "                   )\n",
    "\n",
    "trend_4d = alt.Chart(source).mark_line(color=\"grey\", strokeDash=[3,3]).encode(\n",
    "    x = \"n_days:Q\",\n",
    "    y = alt.Y(\"trend_4days:Q\",  scale=alt.Scale(domain=(0, max(data_plot[\"log_cases\"])))),\n",
    ")\n",
    "\n",
    "trend_12d = alt.Chart(source).mark_line(color=\"grey\", strokeDash=[3,3]).encode(\n",
    "    x = \"n_days:Q\",\n",
    "    y = alt.Y(\"trend_12days:Q\",  scale=alt.Scale(domain=(0, max(data_plot[\"log_cases\"])))),\n",
    ")\n",
    "\n",
    "\n",
    "(\n",
    "(trend_2d + trend_4d + trend_12d + trend_label + lines)\n",
    ".configure_title(fontSize=20)\n",
    ".configure_axis(labelFontSize=15,titleFontSize=18)\n",
    ")"
   ]
  },
  {
   "cell_type": "code",
   "execution_count": 17,
   "metadata": {},
   "outputs": [
    {
     "data": {
      "text/html": [
       "<div>\n",
       "<style scoped>\n",
       "    .dataframe tbody tr th:only-of-type {\n",
       "        vertical-align: middle;\n",
       "    }\n",
       "\n",
       "    .dataframe tbody tr th {\n",
       "        vertical-align: top;\n",
       "    }\n",
       "\n",
       "    .dataframe thead th {\n",
       "        text-align: right;\n",
       "    }\n",
       "</style>\n",
       "<table border=\"1\" class=\"dataframe\">\n",
       "  <thead>\n",
       "    <tr style=\"text-align: right;\">\n",
       "      <th></th>\n",
       "      <th>date</th>\n",
       "      <th>Deaths per Million</th>\n",
       "      <th>Log of Deaths per Million</th>\n",
       "    </tr>\n",
       "    <tr>\n",
       "      <th>Country</th>\n",
       "      <th></th>\n",
       "      <th></th>\n",
       "      <th></th>\n",
       "    </tr>\n",
       "  </thead>\n",
       "  <tbody>\n",
       "    <tr>\n",
       "      <th>Austria</th>\n",
       "      <td>2020-03-22</td>\n",
       "      <td>1.831617</td>\n",
       "      <td>0.605199</td>\n",
       "    </tr>\n",
       "    <tr>\n",
       "      <th>China</th>\n",
       "      <td>2020-03-22</td>\n",
       "      <td>2.316396</td>\n",
       "      <td>0.840012</td>\n",
       "    </tr>\n",
       "    <tr>\n",
       "      <th>Denmark</th>\n",
       "      <td>2020-03-22</td>\n",
       "      <td>2.267356</td>\n",
       "      <td>0.818614</td>\n",
       "    </tr>\n",
       "    <tr>\n",
       "      <th>France</th>\n",
       "      <td>2020-03-22</td>\n",
       "      <td>10.025831</td>\n",
       "      <td>2.305165</td>\n",
       "    </tr>\n",
       "    <tr>\n",
       "      <th>Germany</th>\n",
       "      <td>2020-03-22</td>\n",
       "      <td>1.144747</td>\n",
       "      <td>0.135183</td>\n",
       "    </tr>\n",
       "    <tr>\n",
       "      <th>Italy</th>\n",
       "      <td>2020-03-22</td>\n",
       "      <td>92.250827</td>\n",
       "      <td>4.524511</td>\n",
       "    </tr>\n",
       "    <tr>\n",
       "      <th>Norway</th>\n",
       "      <td>2020-03-22</td>\n",
       "      <td>1.319415</td>\n",
       "      <td>0.277188</td>\n",
       "    </tr>\n",
       "    <tr>\n",
       "      <th>South Korea</th>\n",
       "      <td>2020-03-22</td>\n",
       "      <td>2.039927</td>\n",
       "      <td>0.712914</td>\n",
       "    </tr>\n",
       "    <tr>\n",
       "      <th>Spain</th>\n",
       "      <td>2020-03-22</td>\n",
       "      <td>38.227289</td>\n",
       "      <td>3.643550</td>\n",
       "    </tr>\n",
       "    <tr>\n",
       "      <th>Sweden</th>\n",
       "      <td>2020-03-22</td>\n",
       "      <td>2.118922</td>\n",
       "      <td>0.750907</td>\n",
       "    </tr>\n",
       "    <tr>\n",
       "      <th>United Kingdom</th>\n",
       "      <td>2020-03-22</td>\n",
       "      <td>4.261004</td>\n",
       "      <td>1.449505</td>\n",
       "    </tr>\n",
       "    <tr>\n",
       "      <th>United States</th>\n",
       "      <td>2020-03-22</td>\n",
       "      <td>1.285214</td>\n",
       "      <td>0.250926</td>\n",
       "    </tr>\n",
       "  </tbody>\n",
       "</table>\n",
       "</div>"
      ],
      "text/plain": [
       "                     date  Deaths per Million  Log of Deaths per Million\n",
       "Country                                                                 \n",
       "Austria        2020-03-22            1.831617                   0.605199\n",
       "China          2020-03-22            2.316396                   0.840012\n",
       "Denmark        2020-03-22            2.267356                   0.818614\n",
       "France         2020-03-22           10.025831                   2.305165\n",
       "Germany        2020-03-22            1.144747                   0.135183\n",
       "Italy          2020-03-22           92.250827                   4.524511\n",
       "Norway         2020-03-22            1.319415                   0.277188\n",
       "South Korea    2020-03-22            2.039927                   0.712914\n",
       "Spain          2020-03-22           38.227289                   3.643550\n",
       "Sweden         2020-03-22            2.118922                   0.750907\n",
       "United Kingdom 2020-03-22            4.261004                   1.449505\n",
       "United States  2020-03-22            1.285214                   0.250926"
      ]
     },
     "execution_count": 17,
     "metadata": {},
     "output_type": "execute_result"
    }
   ],
   "source": [
    "#hide_input\n",
    "label = 'Deaths'\n",
    "temp = pd.concat([x.copy() for x in data_countries_pc]).loc[lambda x: x.date >= '3/1/2020']\n",
    "\n",
    "metric_name = f'{label} per Million'\n",
    "temp.columns = ['Country', 'date', metric_name]\n",
    "# temp.loc[:, 'month'] = temp.date.dt.strftime('%Y-%m')\n",
    "temp.loc[:, f'Log of {label} per Million'] = temp[f'{label} per Million'].apply(lambda x: np.log(x))\n",
    "\n",
    "temp.groupby('Country').last()"
   ]
  },
  {
   "cell_type": "code",
   "execution_count": null,
   "metadata": {},
   "outputs": [],
   "source": [
    "#hide\n",
    "# Get data and clean it\n",
    "\n",
    "\n",
    "\n",
    "data = pd.read_csv(\"https://raw.githubusercontent.com/CSSEGISandData/COVID-19/master/csse_covid_19_data/csse_covid_19_time_series/time_series_19-covid-Confirmed.csv\", error_bad_lines=False)\n",
    "data = data.drop(columns=[\"Lat\", \"Long\"])\n",
    "data = data.melt(id_vars= [\"Province/State\", \"Country/Region\"])\n",
    "data = pd.DataFrame(data.groupby(['Country/Region', \"variable\"]).sum())\n",
    "data.reset_index(inplace=True)  \n",
    "data = data.rename(columns={\"Country/Region\": \"location\", \"variable\": \"date\", \"value\": \"total_cases\"})\n",
    "data['date'] =pd.to_datetime(data.date)\n",
    "data = data.sort_values(by = \"date\")\n",
    "data.loc[data.location == \"US\",\"location\"] = \"United States\"\n",
    "data.loc[data.location == \"Korea, South\",\"location\"] = \"South Korea\"\n",
    "\n",
    "# Population data (last year is 2017 which is what we use)\n",
    "data_pwt = pd.read_stata(\"https://www.rug.nl/ggdc/docs/pwt91.dta\")\n",
    "\n",
    "filter1 = data_pwt[\"year\"] == 2017\n",
    "data_pop = data_pwt[filter1]\n",
    "data_pop = data_pop[[\"country\",\"pop\"]]\n",
    "data_pop.loc[data_pop.country == \"Republic of Korea\",\"country\"] = \"South Korea\"\n",
    "data_pop.loc[data_pop.country == \"Iran (Islamic Republic of)\",\"country\"] = \"Iran\"\n",
    "\n",
    "# per habitant\n",
    "data_pc = data.copy()\n",
    "\n",
    "# I can add more countries if needed\n",
    "\n",
    "data_countries = []\n",
    "data_countries_pc = []\n",
    "\n",
    "# compute per habitant\n",
    "for i in int_countries:\n",
    "    data_pc.loc[data_pc.location == i,\"total_cases\"] = data_pc.loc[data_pc.location == i,\"total_cases\"]/float(data_pop.loc[data_pop.country == i, \"pop\"])\n",
    "    \n",
    "# get each country time series\n",
    "filter1 = data_pc[\"total_cases\"] > 1\n",
    "\n",
    "for i in int_countries:\n",
    "    filter_country = data_pc[\"location\"]== i\n",
    "    data_countries_pc.append(data_pc[filter_country & filter1])"
   ]
  },
  {
   "cell_type": "markdown",
   "metadata": {},
   "source": [
    "## Covid-19 confirmed cases per million inhabitants\n",
    "\n",
    "source: https://covid19dashboards.com/covid-compare-permillion/"
   ]
  },
  {
   "cell_type": "code",
   "execution_count": null,
   "metadata": {},
   "outputs": [],
   "source": [
    "#hide_input\n",
    "# Stack data to get it to Altair dataframe format\n",
    "data_countries_pc2 = data_countries_pc.copy()\n",
    "for i in range(0,len(int_countries)):\n",
    "    data_countries_pc2[i] = data_countries_pc2[i].reset_index()\n",
    "    data_countries_pc2[i]['n_days'] = data_countries_pc2[i].index\n",
    "    data_countries_pc2[i]['log_cases'] = np.log(data_countries_pc2[i][\"total_cases\"])\n",
    "data_plot = data_countries_pc2[0]\n",
    "for i in range(1, len(int_countries)):    \n",
    "    data_plot = pd.concat([data_plot, data_countries_pc2[i]], axis=0)\n",
    "data_plot[\"trend_2days\"] = data_plot[\"n_days\"]*1/2\n",
    "data_plot[\"trend_4days\"] = data_plot[\"n_days\"]*1/4\n",
    "data_plot[\"trend_12days\"] = data_plot[\"n_days\"]*1/12\n",
    "data_plot[\"trend_2days_label\"] = \"Doubles every 2 days\"\n",
    "data_plot[\"trend_4days_label\"] = \"Doubles evey 4 days\"\n",
    "data_plot[\"trend_12days_label\"] = \"Doubles every 12 days\"\n",
    "\n",
    "\n",
    "# Plot it using Altair\n",
    "source = data_plot\n",
    "\n",
    "scales = alt.selection_interval(bind='scales')\n",
    "#selection = alt.selection_multi(fields=['location'], bind='legend')\n",
    "\n",
    "base = alt.Chart(source, title = \"COVID-19 Confirmed Cases Per Million of Inhabitants\").encode(\n",
    "    x = alt.X('n_days:Q', title = \"Days passed since reaching 1 case per million\"),\n",
    "    y = alt.Y(\"log_cases:Q\",title = \"Log of confirmed cases per million\"),\n",
    "    color = alt.Color('location:N', legend=alt.Legend(title=\"Country\", labelFontSize=15, titleFontSize=17),\n",
    "                     scale=alt.Scale(scheme='tableau20')),\n",
    "    #opacity = alt.condition(selection, alt.value(1), alt.value(0.1))\n",
    ").properties(\n",
    "    width=chart_width,\n",
    "    height=chart_height\n",
    ")\n",
    "\n",
    "lines = base.mark_line().add_selection(\n",
    "    scales\n",
    ")\n",
    "# .add_selection(\n",
    "#     selection\n",
    "# )\n",
    "\n",
    "trend_2d = alt.Chart(source).encode(\n",
    "    x = \"n_days:Q\",\n",
    "    y = alt.Y(\"trend_2days:Q\",  scale=alt.Scale(domain=(0, max(data_plot[\"log_cases\"])))),\n",
    ").mark_line( strokeDash=[3,3], color=\"grey\")\n",
    "\n",
    "labels = pd.DataFrame([{'label': 'Doubles every 2 days', 'x_coord': 10, 'y_coord': 6},\n",
    "                       {'label': 'Doubles every 4 days', 'x_coord': 30, 'y_coord': 6},\n",
    "                       {'label': 'Doubles every 12 days', 'x_coord': 45, 'y_coord': 4},\n",
    "                      ])\n",
    "trend_label = (alt.Chart(labels)\n",
    "                    .mark_text(align='left', dx=-55, dy=-15, fontSize=12, color=\"grey\")\n",
    "                    .encode(x='x_coord:Q',\n",
    "                            y='y_coord:Q',\n",
    "                            text='label:N')\n",
    "                   )\n",
    "\n",
    "\n",
    "trend_4d = alt.Chart(source).mark_line(color=\"grey\", strokeDash=[3,3]).encode(\n",
    "    x = \"n_days:Q\",\n",
    "    y = alt.Y(\"trend_4days:Q\",  scale=alt.Scale(domain=(0, max(data_plot[\"log_cases\"])))),\n",
    ")\n",
    "\n",
    "trend_12d = alt.Chart(source).mark_line(color=\"grey\", strokeDash=[3,3]).encode(\n",
    "    x = \"n_days:Q\",\n",
    "    y = alt.Y(\"trend_12days:Q\",  scale=alt.Scale(domain=(0, max(data_plot[\"log_cases\"])))),\n",
    ")\n",
    "\n",
    "(\n",
    "(trend_2d  + trend_4d + trend_12d + trend_label + lines)\n",
    ".configure_title(fontSize=20)\n",
    ".configure_axis(labelFontSize=15,titleFontSize=18)\n",
    ")"
   ]
  },
  {
   "cell_type": "markdown",
   "metadata": {},
   "source": [
    "## Flatten the curve\n",
    "\n",
    "Let's have a look at the proportion of \n",
    "\n",
    "* confirmed\n",
    "* death\n",
    "* recovered\n",
    "\n",
    "cases over time"
   ]
  },
  {
   "cell_type": "code",
   "execution_count": null,
   "metadata": {},
   "outputs": [],
   "source": [
    "#hide_input\n",
    "flatten_countries = ['Germany', 'Italy', 'Spain','China (total)','Thailand','US (total)', 'United Kingdom (total)']\n",
    "alt.Chart(df_melted.query(\"country.isin(@flatten_countries)\")).mark_area().encode(\n",
    "    x=\"date:T\",\n",
    "    y=alt.Y(\"value:Q\", stack=\"normalize\"),\n",
    "    color=\"status:N\",\n",
    "    row=alt.Row('country:N', sort=['Germany', 'Italy', 'Spain'])\n",
    ").properties(height=50, width=800)"
   ]
  },
  {
   "cell_type": "code",
   "execution_count": null,
   "metadata": {},
   "outputs": [],
   "source": [
    "#collapse\n",
    "alt.Chart(df_melted.query(\"country.isin(@flatten_countries)\")).mark_circle(\n",
    "    opacity=0.8,\n",
    "    stroke='black',\n",
    "    strokeWidth=1\n",
    ").encode(\n",
    "    alt.X('date:T', axis=alt.Axis(labelAngle=45)),\n",
    "    alt.Y('country:N'),\n",
    "    alt.Size('value:Q',\n",
    "        scale=alt.Scale(range=[0, 2000]),\n",
    "        legend=alt.Legend(title='confirmed cases')\n",
    "    ),\n",
    "    alt.Color('country:N', legend=None)\n",
    ").properties(\n",
    "    width=850,\n",
    "    height=820\n",
    ").transform_filter(\n",
    "    alt.datum.Entity != 'All natural disasters'\n",
    ")"
   ]
  },
  {
   "cell_type": "markdown",
   "metadata": {},
   "source": [
    "Guessing the number of infected cases\n",
    "https://covid19dashboards.com/covid-infected/"
   ]
  },
  {
   "cell_type": "markdown",
   "metadata": {},
   "source": [
    "## number of people tested"
   ]
  },
  {
   "cell_type": "code",
   "execution_count": null,
   "metadata": {},
   "outputs": [],
   "source": [
    "#hide\n",
    "#tested_df = (pd.read_csv('https://ourworldindata.org/7ae5eb3a-0f53-4013-b855-99aa990a8654')\n",
    "#            .head())\n"
   ]
  },
  {
   "cell_type": "markdown",
   "metadata": {},
   "source": [
    "## The effects of the lockdown\n",
    "\n",
    "Take a look at raw numbers of new cases and see if a country lockdown had an effect"
   ]
  },
  {
   "cell_type": "code",
   "execution_count": null,
   "metadata": {},
   "outputs": [],
   "source": [
    "lockdowns = {'Spain': '3/15/20',\n",
    "            'Italy': '3/10/20',\n",
    "            'Wuhan': '1/23/20',\n",
    "            'France': '3/15/20',\n",
    "            'Ireland': '3/12/20',\n",
    "            'Belgium': '3/15/20',\n",
    "            'Germany': '3/16/20'}"
   ]
  },
  {
   "cell_type": "code",
   "execution_count": null,
   "metadata": {},
   "outputs": [],
   "source": []
  },
  {
   "cell_type": "code",
   "execution_count": null,
   "metadata": {},
   "outputs": [],
   "source": [
    "#for curr_country in lockdowns:\n",
    "curr_country = 'Germany'\n",
    "alt.Chart(new_cases_melted_df.loc[new_cases_melted_df['country'] == curr_country]).mark_bar().encode(\n",
    "    x='date:T',\n",
    "    y='new_cases:Q',\n",
    "     #color='country:N',\n",
    "    column='country:N',\n",
    "    color=alt.condition(\n",
    "            alt.datum.Year == '2020',  # If the year is 1810 this test returns True,\n",
    "    alt.value('orange'),     # which sets the bar orange.\n",
    "    alt.value('steelblue')   # And if it's not true it sets the bar steelblue.\n",
    "    )\n",
    ").properties(\n",
    "title='Number of new cases by Country',\n",
    "width=250,\n",
    "height=140\n",
    "\n",
    ").properties(width=600)"
   ]
  },
  {
   "cell_type": "code",
   "execution_count": null,
   "metadata": {},
   "outputs": [],
   "source": []
  },
  {
   "cell_type": "code",
   "execution_count": null,
   "metadata": {},
   "outputs": [],
   "source": []
  }
 ],
 "metadata": {
  "kernelspec": {
   "display_name": "github_page",
   "language": "python",
   "name": "github_page"
  },
  "language_info": {
   "codemirror_mode": {
    "name": "ipython",
    "version": 3
   },
   "file_extension": ".py",
   "mimetype": "text/x-python",
   "name": "python",
   "nbconvert_exporter": "python",
   "pygments_lexer": "ipython3",
   "version": "3.7.6"
  },
  "toc": {
   "base_numbering": 1,
   "nav_menu": {},
   "number_sections": true,
   "sideBar": true,
   "skip_h1_title": false,
   "title_cell": "Table of Contents",
   "title_sidebar": "Contents",
   "toc_cell": false,
   "toc_position": {},
   "toc_section_display": true,
   "toc_window_display": true
  }
 },
 "nbformat": 4,
 "nbformat_minor": 4
}
