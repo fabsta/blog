{
 "cells": [
  {
   "cell_type": "markdown",
   "metadata": {},
   "source": [
    "# \"Numpy for deep learning\"\n",
    "> \"A numpy cheat sheet for deep learning\"\n",
    "- toc: true\n",
    "- branch: master\n",
    "- badges: true\n",
    "- comments: true\n",
    "- categories: [jupyter, numpy, cheat_sheet]\n",
    "#- image: images/ner_corona.png\n",
    "- hide: false\n",
    "- search_exclude: true"
   ]
  },
  {
   "cell_type": "markdown",
   "metadata": {},
   "source": [
    "good resources:\n",
    "* http://jalammar.github.io/visual-numpy/\n",
    "* https://s3.amazonaws.com/assets.datacamp.com/blog_assets/Numpy_Python_Cheat_Sheet.pdf"
   ]
  },
  {
   "cell_type": "markdown",
   "metadata": {},
   "source": [
    "## creating arrays"
   ]
  },
  {
   "cell_type": "code",
   "execution_count": 3,
   "metadata": {},
   "outputs": [],
   "source": [
    "import numpy as np"
   ]
  },
  {
   "cell_type": "code",
   "execution_count": 6,
   "metadata": {},
   "outputs": [
    {
     "name": "stdout",
     "output_type": "stream",
     "text": [
      "[1 2 3]\n",
      "[[1.5 2.  3. ]\n",
      " [4.  5.  6. ]]\n",
      "[[[1.5 2.  3. ]\n",
      "  [4.  5.  6. ]]\n",
      "\n",
      " [[3.  2.  1. ]\n",
      "  [4.  5.  6. ]]]\n"
     ]
    }
   ],
   "source": [
    "a = np.array([1,2,3])\n",
    "print(a)\n",
    "b = np.array([(1.5,2,3), (4,5,6)], dtype = float)\n",
    "print(b)\n",
    "c = np.array([[(1.5,2,3), (4,5,6)], [(3,2,1), (4,5,6)]],dtype = float)\n",
    "print(c)"
   ]
  },
  {
   "cell_type": "code",
   "execution_count": 23,
   "metadata": {},
   "outputs": [
    {
     "name": "stdout",
     "output_type": "stream",
     "text": [
      "Create an array of zeros\n",
      "[[0. 0. 0. 0.]\n",
      " [0. 0. 0. 0.]\n",
      " [0. 0. 0. 0.]]\n",
      "Create an array of ones\n",
      "[[[1 1 1 1]\n",
      "  [1 1 1 1]\n",
      "  [1 1 1 1]]\n",
      "\n",
      " [[1 1 1 1]\n",
      "  [1 1 1 1]\n",
      "  [1 1 1 1]]]\n",
      "Create an array of evenly spaced values (step value)\n",
      "[10 15 20]\n",
      "Create an array of evenly spaced values (number of samples)\n",
      "[0.   0.25 0.5  0.75 1.   1.25 1.5  1.75 2.  ]\n",
      "Create a constant array\n",
      "[[7 7]\n",
      " [7 7]]\n",
      "Create a 2X2 identity matrix\n",
      "[[1. 0.]\n",
      " [0. 1.]]\n",
      "Create an array with random values\n",
      "[[0.73813557 0.06780851]\n",
      " [0.86976112 0.03119131]]\n",
      "Create an empty array\n",
      "[[1.39069238e-309 1.39069238e-309]\n",
      " [1.39069238e-309 1.39069238e-309]\n",
      " [1.39069238e-309 1.39069238e-309]]\n"
     ]
    }
   ],
   "source": [
    "print(\"Create an array of zeros\")\n",
    "print(np.zeros((3,4))) \n",
    "\n",
    "print(\"Create an array of ones\")\n",
    "print(np.ones((2,3,4),dtype=np.int16)) \n",
    "\n",
    "print(\"Create an array of evenly spaced values (step value)\")\n",
    "d = np.arange(10,25,5)\n",
    "print(d)\n",
    "\n",
    "print(\"Create an array of evenly spaced values (number of samples)\")\n",
    "print(np.linspace(0,2,9)) \n",
    "print(\"Create a constant array\")\n",
    "e = np.full((2,2),7) #Create a constant array\n",
    "print(e)\n",
    "\n",
    "\n",
    "print(\"Create a 2X2 identity matrix\")\n",
    "f = np.eye(2) #Create a 2X2 identity matrix\n",
    "print(f)\n",
    "\n",
    "print(\"Create an array with random values\")\n",
    "print(np.random.random((2,2))) \n",
    "print(\"Create an empty array\")\n",
    "print(np.empty((3,2))) "
   ]
  },
  {
   "cell_type": "code",
   "execution_count": null,
   "metadata": {},
   "outputs": [],
   "source": []
  },
  {
   "cell_type": "markdown",
   "metadata": {},
   "source": [
    "## Data types"
   ]
  },
  {
   "cell_type": "code",
   "execution_count": 28,
   "metadata": {},
   "outputs": [
    {
     "name": "stdout",
     "output_type": "stream",
     "text": [
      "Signed 64-bit integer types\n",
      "<class 'numpy.int64'> \n",
      "\n",
      "\n",
      "Standard double-precision floating point\n",
      "<class 'numpy.float32'> \n",
      "\n",
      "\n",
      " Complex numbers represented by 128 floats\n",
      "<class 'complex'> \n",
      "\n",
      "\n",
      "Boolean type storing TRUE and FALSE values\n",
      "<class 'bool'> \n",
      "\n",
      "\n",
      "Python object type\n",
      "<class 'object'> \n",
      "\n",
      "\n",
      "Fixed-length string type\n",
      "np.string_ \n",
      "\n",
      "\n",
      "Fixed-length unicode type\n",
      "np.unicode_ \n",
      "\n",
      "\n"
     ]
    }
   ],
   "source": [
    "print(\"Signed 64-bit integer types\")\n",
    "print(np.int64) \n",
    "\n",
    "print(\"Standard double-precision floating point\")\n",
    "print(np.float32) \n",
    "\n",
    "print(\" Complex numbers represented by 128 floats\")\n",
    "print(np.complex)\n",
    "\n",
    "print(\"Boolean type storing TRUE and FALSE values\")\n",
    "print(np.bool)\n",
    "\n",
    "print(\"Python object type\")\n",
    "print(np.object) \n",
    "\n",
    "print(\"Fixed-length string type\")\n",
    "print(\"np.string_\")\n",
    "\n",
    "\n",
    "print(\"Fixed-length unicode type\")\n",
    "print(\"np.unicode_\")"
   ]
  },
  {
   "cell_type": "code",
   "execution_count": null,
   "metadata": {},
   "outputs": [],
   "source": []
  },
  {
   "cell_type": "code",
   "execution_count": null,
   "metadata": {},
   "outputs": [],
   "source": []
  },
  {
   "cell_type": "code",
   "execution_count": null,
   "metadata": {},
   "outputs": [],
   "source": []
  },
  {
   "cell_type": "code",
   "execution_count": null,
   "metadata": {},
   "outputs": [],
   "source": []
  }
 ],
 "metadata": {
  "kernelspec": {
   "display_name": "github_page",
   "language": "python",
   "name": "github_page"
  },
  "language_info": {
   "codemirror_mode": {
    "name": "ipython",
    "version": 3
   },
   "file_extension": ".py",
   "mimetype": "text/x-python",
   "name": "python",
   "nbconvert_exporter": "python",
   "pygments_lexer": "ipython3",
   "version": "3.7.6"
  }
 },
 "nbformat": 4,
 "nbformat_minor": 4
}
